{
 "cells": [
  {
   "cell_type": "code",
   "execution_count": 1,
   "metadata": {},
   "outputs": [],
   "source": [
    "%load_ext autoreload\n",
    "%autoreload 2"
   ]
  },
  {
   "cell_type": "markdown",
   "metadata": {},
   "source": [
    "# Test Workflow Data Aggregation\n",
    "\n",
    "-----------------------------------------------------------------\n",
    "This example illustrates the aggregation of workflow (actions) data using the `github2pandas` repository. Here, all workflows are read out, filtered and displayed in terms of success or failure. "
   ]
  },
  {
   "cell_type": "code",
   "execution_count": 2,
   "metadata": {},
   "outputs": [],
   "source": [
    "from github2pandas.workflows import Workflows\n",
    "from github2pandas.utility import Utility\n",
    "from pathlib import Path"
   ]
  },
  {
   "cell_type": "markdown",
   "metadata": {},
   "source": [
    "## Basic Usage\n",
    "\n",
    "The most important input parameter is an Repository object from PyGitHub-Package."
   ]
  },
  {
   "cell_type": "code",
   "execution_count": 3,
   "metadata": {},
   "outputs": [],
   "source": [
    "git_repo_name = \"Extract_Git_Activities\"\n",
    "git_repo_owner = \"TUBAF-IFI-DiPiT\"\n",
    "    \n",
    "default_data_folder = Path(\"data\", git_repo_name)\n",
    "\n",
    "import os\n",
    "github_token = os.environ['TOKEN']\n",
    "# If you do not include your Github Token in .env, its neccessary to integrate it here. \n",
    "# github_token = \"yourToken\"\n",
    "\n",
    "repo = Utility.get_repo(git_repo_owner, git_repo_name, github_token, default_data_folder)"
   ]
  },
  {
   "cell_type": "markdown",
   "metadata": {},
   "source": [
    "The code snipet generates a raw data set based on repo information. The pandas Dataframe includes author´s information, timestamp and the general result of the workflow run. "
   ]
  },
  {
   "cell_type": "code",
   "execution_count": 4,
   "metadata": {},
   "outputs": [
    {
     "output_type": "execute_result",
     "data": {
      "text/plain": [
       "True"
      ]
     },
     "metadata": {},
     "execution_count": 4
    }
   ],
   "source": [
    "Workflows.generate_workflow_pandas_tables(repo=repo, data_root_dir=default_data_folder)"
   ]
  },
  {
   "cell_type": "code",
   "execution_count": 5,
   "metadata": {},
   "outputs": [
    {
     "output_type": "execute_result",
     "data": {
      "text/plain": [
       "   workflow_id workflow_name          created_at          updated_at   state\n",
       "0      6245620      RunTests 2021-02-28 17:31:08 2021-03-08 08:26:16  active"
      ],
      "text/html": "<div>\n<style scoped>\n    .dataframe tbody tr th:only-of-type {\n        vertical-align: middle;\n    }\n\n    .dataframe tbody tr th {\n        vertical-align: top;\n    }\n\n    .dataframe thead th {\n        text-align: right;\n    }\n</style>\n<table border=\"1\" class=\"dataframe\">\n  <thead>\n    <tr style=\"text-align: right;\">\n      <th></th>\n      <th>workflow_id</th>\n      <th>workflow_name</th>\n      <th>created_at</th>\n      <th>updated_at</th>\n      <th>state</th>\n    </tr>\n  </thead>\n  <tbody>\n    <tr>\n      <th>0</th>\n      <td>6245620</td>\n      <td>RunTests</td>\n      <td>2021-02-28 17:31:08</td>\n      <td>2021-03-08 08:26:16</td>\n      <td>active</td>\n    </tr>\n  </tbody>\n</table>\n</div>"
     },
     "metadata": {},
     "execution_count": 5
    }
   ],
   "source": [
    "pd_workflow = Workflows.get_workflows(data_root_dir=default_data_folder)\n",
    "pd_workflow.head(5)"
   ]
  },
  {
   "cell_type": "code",
   "execution_count": 6,
   "metadata": {},
   "outputs": [
    {
     "output_type": "execute_result",
     "data": {
      "text/plain": [
       "   workflow_id  workflow_run_id                                commit_sha  \\\n",
       "0      6245620        689467962  c8691ad805e657ddbf6c0c2f0fc9860dcb5dd133   \n",
       "1      6245620        689443497  6fbbf41b7bdeab98b96d3ca9f245c226a6a25e70   \n",
       "2      6245620        689433389  34cc85a87ff395c55867522b5cf27fbf147bf2bd   \n",
       "3      6245620        689413645  7e1cd0bd9354a8a5cb032c4499c850e0ebba0d04   \n",
       "4      6245620        687170310  054df516e3e4120feb3da1d31e6bc1fafdc630d2   \n",
       "\n",
       "  pull_requests      state event conclusion                 author  \n",
       "0            []  completed  push    success      love-go-past-name  \n",
       "1            []  completed  push    failure      love-go-past-name  \n",
       "2            []  completed  push    failure      love-go-past-name  \n",
       "3            []  completed  push    failure      love-go-past-name  \n",
       "4            []  completed  push    failure  take-certain-word-end  "
      ],
      "text/html": "<div>\n<style scoped>\n    .dataframe tbody tr th:only-of-type {\n        vertical-align: middle;\n    }\n\n    .dataframe tbody tr th {\n        vertical-align: top;\n    }\n\n    .dataframe thead th {\n        text-align: right;\n    }\n</style>\n<table border=\"1\" class=\"dataframe\">\n  <thead>\n    <tr style=\"text-align: right;\">\n      <th></th>\n      <th>workflow_id</th>\n      <th>workflow_run_id</th>\n      <th>commit_sha</th>\n      <th>pull_requests</th>\n      <th>state</th>\n      <th>event</th>\n      <th>conclusion</th>\n      <th>author</th>\n    </tr>\n  </thead>\n  <tbody>\n    <tr>\n      <th>0</th>\n      <td>6245620</td>\n      <td>689467962</td>\n      <td>c8691ad805e657ddbf6c0c2f0fc9860dcb5dd133</td>\n      <td>[]</td>\n      <td>completed</td>\n      <td>push</td>\n      <td>success</td>\n      <td>love-go-past-name</td>\n    </tr>\n    <tr>\n      <th>1</th>\n      <td>6245620</td>\n      <td>689443497</td>\n      <td>6fbbf41b7bdeab98b96d3ca9f245c226a6a25e70</td>\n      <td>[]</td>\n      <td>completed</td>\n      <td>push</td>\n      <td>failure</td>\n      <td>love-go-past-name</td>\n    </tr>\n    <tr>\n      <th>2</th>\n      <td>6245620</td>\n      <td>689433389</td>\n      <td>34cc85a87ff395c55867522b5cf27fbf147bf2bd</td>\n      <td>[]</td>\n      <td>completed</td>\n      <td>push</td>\n      <td>failure</td>\n      <td>love-go-past-name</td>\n    </tr>\n    <tr>\n      <th>3</th>\n      <td>6245620</td>\n      <td>689413645</td>\n      <td>7e1cd0bd9354a8a5cb032c4499c850e0ebba0d04</td>\n      <td>[]</td>\n      <td>completed</td>\n      <td>push</td>\n      <td>failure</td>\n      <td>love-go-past-name</td>\n    </tr>\n    <tr>\n      <th>4</th>\n      <td>6245620</td>\n      <td>687170310</td>\n      <td>054df516e3e4120feb3da1d31e6bc1fafdc630d2</td>\n      <td>[]</td>\n      <td>completed</td>\n      <td>push</td>\n      <td>failure</td>\n      <td>take-certain-word-end</td>\n    </tr>\n  </tbody>\n</table>\n</div>"
     },
     "metadata": {},
     "execution_count": 6
    }
   ],
   "source": [
    "pd_run = Workflows.get_runs(data_root_dir=default_data_folder)\n",
    "pd_run.head(5)\n"
   ]
  },
  {
   "cell_type": "markdown",
   "metadata": {},
   "source": [
    "## Get workflow run logs\n",
    "What happens during the workflow run. Let's take a closer view on log files of a specific Action run."
   ]
  },
  {
   "cell_type": "code",
   "execution_count": 7,
   "metadata": {},
   "outputs": [
    {
     "output_type": "stream",
     "name": "stdout",
     "text": [
      "https://api.github.com/repos/TUBAF-IFI-DiPiT/github2pandas/actions/runs/642018321/logs\n"
     ]
    },
    {
     "output_type": "execute_result",
     "data": {
      "text/plain": [
       "11"
      ]
     },
     "metadata": {},
     "execution_count": 7
    }
   ],
   "source": [
    "Workflows.download_workflow_log_files(repo=repo,\n",
    "                                  github_token=github_token,\n",
    "                                  run = repo.get_workflow_run(642018321),\n",
    "                                  data_root_dir=default_data_folder)"
   ]
  }
 ],
 "metadata": {
  "kernelspec": {
   "name": "python3",
   "display_name": "Python 3",
   "language": "python"
  },
  "language_info": {
   "codemirror_mode": {
    "name": "ipython",
    "version": 3
   },
   "file_extension": ".py",
   "mimetype": "text/x-python",
   "name": "python",
   "nbconvert_exporter": "python",
   "pygments_lexer": "ipython3",
   "version": "3.8.8"
  }
 },
 "nbformat": 4,
 "nbformat_minor": 4
}