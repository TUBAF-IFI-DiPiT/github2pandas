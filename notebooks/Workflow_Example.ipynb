{
 "cells": [
  {
   "cell_type": "markdown",
   "metadata": {},
   "source": [
    "# Test Workflow Data Aggregation\n",
    "\n",
    "-----------------------------------------------------------------\n",
    "This example illustrates the aggregation of workflow (actions) data using the `github2pandas` repository. Here, all workflows are read out, filtered and displayed in terms of success or failure. "
   ]
  },
  {
   "cell_type": "code",
   "execution_count": 1,
   "metadata": {},
   "outputs": [],
   "source": [
    "from github2pandas.aggregation.workflows import AggWorkflow as AggWF\n",
    "from github2pandas.aggregation.utility import Utility\n",
    "from pathlib import Path"
   ]
  },
  {
   "cell_type": "markdown",
   "metadata": {},
   "source": [
    "## Basic Usage\n",
    "\n",
    "The most important input parameter is an Repository object from PyGitHub-Package."
   ]
  },
  {
   "cell_type": "code",
   "execution_count": 2,
   "metadata": {},
   "outputs": [],
   "source": [
    "git_repo_name = \"Extract_Git_Activities\"\n",
    "git_repo_owner = \"TUBAF-IFI-DiPiT\"\n",
    "    \n",
    "default_data_folder = Path(\"data\", git_repo_name)\n",
    "\n",
    "import os\n",
    "github_token = os.environ['TOKEN']\n",
    "# If you do not include your Github Token in .env, its neccessary to integrate it here. \n",
    "# github_token = \"yourToken\"\n",
    "\n",
    "repo = Utility.get_repo(git_repo_owner, git_repo_name, github_token)"
   ]
  },
  {
   "cell_type": "markdown",
   "metadata": {},
   "source": [
    "The code snipet generates a raw data set based on repo information. The pandas Dataframe includes author´s information, timestamp and the general result of the workflow run. "
   ]
  },
  {
   "cell_type": "code",
   "execution_count": 3,
   "metadata": {},
   "outputs": [],
   "source": [
    "AggWF.generate_workflow_pandas_tables(repo=repo, data_root_dir=default_data_folder)\n",
    "pd_workflow = AggWF.get_raw_workflow(data_root_dir=default_data_folder)"
   ]
  },
  {
   "cell_type": "code",
   "execution_count": 4,
   "metadata": {},
   "outputs": [
    {
     "output_type": "execute_result",
     "data": {
      "text/plain": [
       "   workflow_id workflow_name  workflow_run_id  \\\n",
       "0      6245620      RunTests        663932655   \n",
       "1      6245620      RunTests        656975885   \n",
       "2      6245620      RunTests        656758944   \n",
       "3      6245620      RunTests        654047739   \n",
       "4      6245620      RunTests        654047367   \n",
       "\n",
       "                                      commit_message    commit_author  \\\n",
       "0  Merge pull request #22 from TUBAF-IFI-DiPiT/en...  Maximilian Karl   \n",
       "1                           Update ER_diagram.drawio  Maximilian Karl   \n",
       "2  Merge pull request #27 from TUBAF-IFI-DiPiT/fe...  Maximilian Karl   \n",
       "3                                   Delete empty.txt    Sebastian Zug   \n",
       "4                                 Delete diagram.xml    Sebastian Zug   \n",
       "\n",
       "                                 commit_sha commit_branch      state  \\\n",
       "0  894acd353e91413045311549e31cf53a795cca54          main  completed   \n",
       "1  e3d2bd94fa1e01ffd346bcd940f50e389b9446f8          main  completed   \n",
       "2  5cd09a720e9b4cbac15e7fa2904286019f5752e7          main  completed   \n",
       "3  cc50429fdeb840ec8ad6bcba43fd78d915eafcc2          main  completed   \n",
       "4  357be6f674cda7989175641fb7cbbb3b1e39dee5          main  completed   \n",
       "\n",
       "  conclusion                                author  \n",
       "0    failure  d17678d7-409f-4704-b0a4-39925b1b169e  \n",
       "1    failure  6d1b7901-9635-4705-a7f5-050593c619dc  \n",
       "2    failure  d17678d7-409f-4704-b0a4-39925b1b169e  \n",
       "3    success  d17678d7-409f-4704-b0a4-39925b1b169e  \n",
       "4    success  d17678d7-409f-4704-b0a4-39925b1b169e  "
      ],
      "text/html": "<div>\n<style scoped>\n    .dataframe tbody tr th:only-of-type {\n        vertical-align: middle;\n    }\n\n    .dataframe tbody tr th {\n        vertical-align: top;\n    }\n\n    .dataframe thead th {\n        text-align: right;\n    }\n</style>\n<table border=\"1\" class=\"dataframe\">\n  <thead>\n    <tr style=\"text-align: right;\">\n      <th></th>\n      <th>workflow_id</th>\n      <th>workflow_name</th>\n      <th>workflow_run_id</th>\n      <th>commit_message</th>\n      <th>commit_author</th>\n      <th>commit_sha</th>\n      <th>commit_branch</th>\n      <th>state</th>\n      <th>conclusion</th>\n      <th>author</th>\n    </tr>\n  </thead>\n  <tbody>\n    <tr>\n      <th>0</th>\n      <td>6245620</td>\n      <td>RunTests</td>\n      <td>663932655</td>\n      <td>Merge pull request #22 from TUBAF-IFI-DiPiT/en...</td>\n      <td>Maximilian Karl</td>\n      <td>894acd353e91413045311549e31cf53a795cca54</td>\n      <td>main</td>\n      <td>completed</td>\n      <td>failure</td>\n      <td>d17678d7-409f-4704-b0a4-39925b1b169e</td>\n    </tr>\n    <tr>\n      <th>1</th>\n      <td>6245620</td>\n      <td>RunTests</td>\n      <td>656975885</td>\n      <td>Update ER_diagram.drawio</td>\n      <td>Maximilian Karl</td>\n      <td>e3d2bd94fa1e01ffd346bcd940f50e389b9446f8</td>\n      <td>main</td>\n      <td>completed</td>\n      <td>failure</td>\n      <td>6d1b7901-9635-4705-a7f5-050593c619dc</td>\n    </tr>\n    <tr>\n      <th>2</th>\n      <td>6245620</td>\n      <td>RunTests</td>\n      <td>656758944</td>\n      <td>Merge pull request #27 from TUBAF-IFI-DiPiT/fe...</td>\n      <td>Maximilian Karl</td>\n      <td>5cd09a720e9b4cbac15e7fa2904286019f5752e7</td>\n      <td>main</td>\n      <td>completed</td>\n      <td>failure</td>\n      <td>d17678d7-409f-4704-b0a4-39925b1b169e</td>\n    </tr>\n    <tr>\n      <th>3</th>\n      <td>6245620</td>\n      <td>RunTests</td>\n      <td>654047739</td>\n      <td>Delete empty.txt</td>\n      <td>Sebastian Zug</td>\n      <td>cc50429fdeb840ec8ad6bcba43fd78d915eafcc2</td>\n      <td>main</td>\n      <td>completed</td>\n      <td>success</td>\n      <td>d17678d7-409f-4704-b0a4-39925b1b169e</td>\n    </tr>\n    <tr>\n      <th>4</th>\n      <td>6245620</td>\n      <td>RunTests</td>\n      <td>654047367</td>\n      <td>Delete diagram.xml</td>\n      <td>Sebastian Zug</td>\n      <td>357be6f674cda7989175641fb7cbbb3b1e39dee5</td>\n      <td>main</td>\n      <td>completed</td>\n      <td>success</td>\n      <td>d17678d7-409f-4704-b0a4-39925b1b169e</td>\n    </tr>\n  </tbody>\n</table>\n</div>"
     },
     "metadata": {},
     "execution_count": 4
    }
   ],
   "source": [
    "pd_workflow.head(5)"
   ]
  },
  {
   "cell_type": "code",
   "execution_count": 5,
   "metadata": {},
   "outputs": [
    {
     "output_type": "execute_result",
     "data": {
      "text/plain": [
       "array(['Maximilian Karl', 'Sebastian Zug', 'SebastianZug'], dtype=object)"
      ]
     },
     "metadata": {},
     "execution_count": 5
    }
   ],
   "source": [
    "pd_workflow.commit_author.unique()"
   ]
  },
  {
   "cell_type": "markdown",
   "metadata": {},
   "source": [
    "Obviously, however, we again have problems with the duplicates of the naming. Let's use the processing tools to eliminate them.\n",
    "\n",
    "## Application of processing methods"
   ]
  },
  {
   "cell_type": "code",
   "execution_count": 6,
   "metadata": {},
   "outputs": [],
   "source": [
    "dublicate_names = [('SebastianZug', 'Sebastian Zug')]\n",
    "\n",
    "def replace_dublicates(pd_table, column_name, dublicates):\n",
    "    for name in dublicates:\n",
    "        pd_table[column_name].replace(name[0], name[1],\n",
    "                                        inplace=True)\n",
    "    return pd_table\n",
    "\n",
    "\n",
    "pd_workflow_filtered = (\n",
    "    AggWF.get_raw_workflow(data_root_dir=default_data_folder)\n",
    "    .pipe(replace_dublicates, \"commit_author\", dublicate_names)\n",
    ")"
   ]
  },
  {
   "cell_type": "markdown",
   "metadata": {},
   "source": [
    "Who is the person with the most successful commits?"
   ]
  },
  {
   "cell_type": "code",
   "execution_count": 7,
   "metadata": {
    "scrolled": true
   },
   "outputs": [
    {
     "output_type": "execute_result",
     "data": {
      "text/plain": [
       "conclusion       failure  success\n",
       "commit_author                    \n",
       "Maximilian Karl       12        3\n",
       "Sebastian Zug         11       21"
      ],
      "text/html": "<div>\n<style scoped>\n    .dataframe tbody tr th:only-of-type {\n        vertical-align: middle;\n    }\n\n    .dataframe tbody tr th {\n        vertical-align: top;\n    }\n\n    .dataframe thead th {\n        text-align: right;\n    }\n</style>\n<table border=\"1\" class=\"dataframe\">\n  <thead>\n    <tr style=\"text-align: right;\">\n      <th>conclusion</th>\n      <th>failure</th>\n      <th>success</th>\n    </tr>\n    <tr>\n      <th>commit_author</th>\n      <th></th>\n      <th></th>\n    </tr>\n  </thead>\n  <tbody>\n    <tr>\n      <th>Maximilian Karl</th>\n      <td>12</td>\n      <td>3</td>\n    </tr>\n    <tr>\n      <th>Sebastian Zug</th>\n      <td>11</td>\n      <td>21</td>\n    </tr>\n  </tbody>\n</table>\n</div>"
     },
     "metadata": {},
     "execution_count": 7
    }
   ],
   "source": [
    "pd_workflow_filtered.groupby(['commit_author', 'conclusion'])['workflow_run_id'].count().unstack()"
   ]
  },
  {
   "cell_type": "markdown",
   "metadata": {},
   "source": [
    "## Get workflow run logs\n",
    "What happens during the workflow run. Let's take a closer view on log files of a specific Action run."
   ]
  },
  {
   "cell_type": "code",
   "execution_count": 8,
   "metadata": {},
   "outputs": [
    {
     "output_type": "stream",
     "name": "stdout",
     "text": [
      "https://api.github.com/repos/TUBAF-IFI-DiPiT/Extract_Git_Activities/actions/runs/642018321/logs\n"
     ]
    },
    {
     "output_type": "execute_result",
     "data": {
      "text/plain": [
       "11"
      ]
     },
     "metadata": {},
     "execution_count": 8
    }
   ],
   "source": [
    "AggWF.download_workflow_log_files(repo=repo,\n",
    "                                  github_token=github_token,\n",
    "                                  workflow = repo.get_workflow_run(642018321),\n",
    "                                  data_root_dir=default_data_folder)"
   ]
  },
  {
   "cell_type": "code",
   "execution_count": null,
   "metadata": {},
   "outputs": [],
   "source": []
  }
 ],
 "metadata": {
  "kernelspec": {
   "name": "python3",
   "display_name": "Python 3.8.8 64-bit ('Extract_Git_Activities': pipenv)",
   "metadata": {
    "interpreter": {
     "hash": "a74db7c17bb42bdc6782337ffe9f6e69d149f4d998b99f4435b4ceded118fa02"
    }
   }
  },
  "language_info": {
   "codemirror_mode": {
    "name": "ipython",
    "version": 3
   },
   "file_extension": ".py",
   "mimetype": "text/x-python",
   "name": "python",
   "nbconvert_exporter": "python",
   "pygments_lexer": "ipython3",
   "version": "3.8.8-final"
  }
 },
 "nbformat": 4,
 "nbformat_minor": 4
}