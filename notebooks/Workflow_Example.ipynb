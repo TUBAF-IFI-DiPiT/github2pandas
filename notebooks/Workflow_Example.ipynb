{
 "cells": [
  {
   "cell_type": "markdown",
   "metadata": {},
   "source": [
    "# Test Workflow Data Aggregation\n",
    "\n",
    "-----------------------------------------------------------------\n",
    "This example illustrates the aggregation of workflow (actions) data using the `github2pandas` repository. Here, all workflows are read out, filtered and displayed in terms of success or failure. "
   ]
  },
  {
   "cell_type": "code",
   "execution_count": null,
   "metadata": {},
   "outputs": [],
   "source": [
    "from github2pandas.workflows.aggregation import AggWorkflow as AggWF\n",
    "from github2pandas.utility import Utility\n",
    "from pathlib import Path"
   ]
  },
  {
   "cell_type": "markdown",
   "metadata": {},
   "source": [
    "## Basic Usage\n",
    "\n",
    "The most important input parameter is an Repository object from PyGitHub-Package."
   ]
  },
  {
   "cell_type": "code",
   "execution_count": null,
   "metadata": {},
   "outputs": [],
   "source": [
    "git_repo_name = \"Extract_Git_Activities\"\n",
    "git_repo_owner = \"TUBAF-IFI-DiPiT\"\n",
    "    \n",
    "default_data_folder = Path(\"data\", git_repo_name)\n",
    "\n",
    "import os\n",
    "github_token = os.environ['TOKEN']\n",
    "# If you do not include your Github Token in .env, its neccessary to integrate it here. \n",
    "# github_token = \"yourToken\"\n",
    "\n",
    "repo = Utility.get_repo(git_repo_name, github_token)"
   ]
  },
  {
   "cell_type": "markdown",
   "metadata": {},
   "source": [
    "The code snipet generates a raw data set based on repo information. The pandas Dataframe includes author´s information, timestamp and the general result of the workflow run. "
   ]
  },
  {
   "cell_type": "code",
   "execution_count": null,
   "metadata": {},
   "outputs": [],
   "source": [
    "AggWF.generate_workflow_pandas_tables(repo=repo, data_root_dir=default_data_folder)\n",
    "pd_workflow = AggWF.get_raw_workflow(data_root_dir=default_data_folder)"
   ]
  },
  {
   "cell_type": "code",
   "execution_count": null,
   "metadata": {},
   "outputs": [],
   "source": [
    "pd_workflow.head(5)"
   ]
  },
  {
   "cell_type": "code",
   "execution_count": null,
   "metadata": {},
   "outputs": [],
   "source": [
    "pd_workflow.commit_author.unique()"
   ]
  },
  {
   "cell_type": "markdown",
   "metadata": {},
   "source": [
    "Obviously, however, we again have problems with the duplicates of the naming. Let's use the processing tools to eliminate them.\n",
    "\n",
    "## Application of processing methods"
   ]
  },
  {
   "cell_type": "code",
   "execution_count": null,
   "metadata": {},
   "outputs": [],
   "source": [
    "dublicate_names = [('SebastianZug', 'Sebastian Zug')]\n",
    "\n",
    "def replace_dublicates(pd_table, column_name, dublicates):\n",
    "    for name in dublicates:\n",
    "        pd_table[column_name].replace(name[0], name[1],\n",
    "                                        inplace=True)\n",
    "    return pd_table\n",
    "\n",
    "\n",
    "pd_workflow_filtered = (\n",
    "    AggWF.get_raw_workflow(data_root_dir=default_data_folder)\n",
    "    .pipe(replace_dublicates, \"commit_author\", dublicate_names)\n",
    ")"
   ]
  },
  {
   "cell_type": "markdown",
   "metadata": {},
   "source": [
    "Who is the person with the most successful commits?"
   ]
  },
  {
   "cell_type": "code",
   "execution_count": null,
   "metadata": {
    "scrolled": true
   },
   "outputs": [],
   "source": [
    "pd_workflow_filtered.groupby(['commit_author', 'conclusion'])['workflow_run_id'].count().unstack()"
   ]
  },
  {
   "cell_type": "markdown",
   "metadata": {},
   "source": [
    "## Get workflow run logs\n",
    "What happens during the workflow run. Let's take a closer view on log files of a specific Action run."
   ]
  },
  {
   "cell_type": "code",
   "execution_count": null,
   "metadata": {},
   "outputs": [],
   "source": [
    "AggWF.download_workflow_log_files(repo=repo,\n",
    "                                  github_token=github_token,\n",
    "                                  workflow = repo.get_workflow_run(642018321),\n",
    "                                  data_root_dir=default_data_folder)"
   ]
  },
  {
   "cell_type": "code",
   "execution_count": null,
   "metadata": {},
   "outputs": [],
   "source": []
  }
 ],
 "metadata": {
  "kernelspec": {
   "display_name": "Python 3",
   "language": "python",
   "name": "python3"
  },
  "language_info": {
   "codemirror_mode": {
    "name": "ipython",
    "version": 3
   },
   "file_extension": ".py",
   "mimetype": "text/x-python",
   "name": "python",
   "nbconvert_exporter": "python",
   "pygments_lexer": "ipython3",
   "version": "3.8.5"
  }
 },
 "nbformat": 4,
 "nbformat_minor": 4
}
