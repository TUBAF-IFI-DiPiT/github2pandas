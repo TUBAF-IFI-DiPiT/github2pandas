{
 "metadata": {
  "language_info": {
   "codemirror_mode": {
    "name": "ipython",
    "version": 3
   },
   "file_extension": ".py",
   "mimetype": "text/x-python",
   "name": "python",
   "nbconvert_exporter": "python",
   "pygments_lexer": "ipython3",
   "version": "3.8.8-final"
  },
  "orig_nbformat": 2,
  "kernelspec": {
   "name": "python3",
   "display_name": "Python 3.8.8 64-bit ('Extract_Git_Activities': pipenv)",
   "metadata": {
    "interpreter": {
     "hash": "a74db7c17bb42bdc6782337ffe9f6e69d149f4d998b99f4435b4ceded118fa02"
    }
   }
  }
 },
 "nbformat": 4,
 "nbformat_minor": 2,
 "cells": [
  {
   "source": [
    "# Test Pull Request Data Aggregation\n",
    "\n",
    "-----------------------------------------------------------------\n",
    "This example illustrates the aggregation of pull request data using the github2pandas repository. Here, all issues are read out."
   ],
   "cell_type": "markdown",
   "metadata": {}
  },
  {
   "cell_type": "code",
   "execution_count": 1,
   "metadata": {},
   "outputs": [],
   "source": [
    "from github2pandas.aggregation.pull_requests import AggPullRequest as AggPR\n",
    "from github2pandas.aggregation.utility import Utility\n",
    "from pathlib import Path"
   ]
  },
  {
   "source": [
    "## Basic Usage\n",
    "\n",
    "The most important input parameter is an Repository object from PyGitHub-Package."
   ],
   "cell_type": "markdown",
   "metadata": {}
  },
  {
   "cell_type": "code",
   "execution_count": 2,
   "metadata": {},
   "outputs": [],
   "source": [
    "git_repo_name = \"Extract_Git_Activities\"\n",
    "git_repo_owner = \"TUBAF-IFI-DiPiT\"\n",
    "    \n",
    "default_data_folder = Path(\"data\", git_repo_name)\n",
    "\n",
    "import os\n",
    "github_token = os.environ['TOKEN']\n",
    "# If you do not include your Github Token in .env, its neccessary to integrate it here. \n",
    "# github_token = \"yourToken\"\n",
    "\n",
    "repo = Utility.get_repo(git_repo_owner, git_repo_name, github_token)"
   ]
  },
  {
   "source": [
    "The code snipet generates a raw data set based on repo information."
   ],
   "cell_type": "markdown",
   "metadata": {}
  },
  {
   "cell_type": "code",
   "execution_count": 3,
   "metadata": {},
   "outputs": [],
   "source": [
    "AggPR.generate_pull_request_pandas_tables(repo, default_data_folder)"
   ]
  },
  {
   "cell_type": "code",
   "execution_count": 4,
   "metadata": {},
   "outputs": [
    {
     "output_type": "execute_result",
     "data": {
      "text/plain": [
       "          id                                               body  \\\n",
       "0  597964878                                                      \n",
       "1  597964878                                                      \n",
       "2  597964878                                                      \n",
       "3  597964878                                                      \n",
       "4  595507233  - [x] restructure\\r\\n- [x] complete aggregatio...   \n",
       "\n",
       "                         title           closed_at          created_at  \\\n",
       "0                speed changes 2021-03-22 13:36:46 2021-03-22 12:19:07   \n",
       "1                speed changes 2021-03-22 13:36:46 2021-03-22 12:19:07   \n",
       "2                speed changes 2021-03-22 13:36:46 2021-03-22 12:19:07   \n",
       "3                speed changes 2021-03-22 13:36:46 2021-03-22 12:19:07   \n",
       "4  Feature/restructure project 2021-03-22 07:03:06 2021-03-18 12:27:08   \n",
       "\n",
       "            merged_at   state          updated_at assignees labels  \\\n",
       "0 2021-03-22 13:36:46  closed 2021-03-22 13:37:02                    \n",
       "1 2021-03-22 13:36:46  closed 2021-03-22 13:37:02                    \n",
       "2 2021-03-22 13:36:46  closed 2021-03-22 13:37:02                    \n",
       "3 2021-03-22 13:36:46  closed 2021-03-22 13:37:02                    \n",
       "4 2021-03-22 07:03:06  closed 2021-03-22 07:03:09                    \n",
       "\n",
       "                                 author  \n",
       "0  b27ecf24-72f2-423e-90a1-bd0fc850be8f  \n",
       "1  b27ecf24-72f2-423e-90a1-bd0fc850be8f  \n",
       "2  b27ecf24-72f2-423e-90a1-bd0fc850be8f  \n",
       "3  b27ecf24-72f2-423e-90a1-bd0fc850be8f  \n",
       "4  b27ecf24-72f2-423e-90a1-bd0fc850be8f  "
      ],
      "text/html": "<div>\n<style scoped>\n    .dataframe tbody tr th:only-of-type {\n        vertical-align: middle;\n    }\n\n    .dataframe tbody tr th {\n        vertical-align: top;\n    }\n\n    .dataframe thead th {\n        text-align: right;\n    }\n</style>\n<table border=\"1\" class=\"dataframe\">\n  <thead>\n    <tr style=\"text-align: right;\">\n      <th></th>\n      <th>id</th>\n      <th>body</th>\n      <th>title</th>\n      <th>closed_at</th>\n      <th>created_at</th>\n      <th>merged_at</th>\n      <th>state</th>\n      <th>updated_at</th>\n      <th>assignees</th>\n      <th>labels</th>\n      <th>author</th>\n    </tr>\n  </thead>\n  <tbody>\n    <tr>\n      <th>0</th>\n      <td>597964878</td>\n      <td></td>\n      <td>speed changes</td>\n      <td>2021-03-22 13:36:46</td>\n      <td>2021-03-22 12:19:07</td>\n      <td>2021-03-22 13:36:46</td>\n      <td>closed</td>\n      <td>2021-03-22 13:37:02</td>\n      <td></td>\n      <td></td>\n      <td>b27ecf24-72f2-423e-90a1-bd0fc850be8f</td>\n    </tr>\n    <tr>\n      <th>1</th>\n      <td>597964878</td>\n      <td></td>\n      <td>speed changes</td>\n      <td>2021-03-22 13:36:46</td>\n      <td>2021-03-22 12:19:07</td>\n      <td>2021-03-22 13:36:46</td>\n      <td>closed</td>\n      <td>2021-03-22 13:37:02</td>\n      <td></td>\n      <td></td>\n      <td>b27ecf24-72f2-423e-90a1-bd0fc850be8f</td>\n    </tr>\n    <tr>\n      <th>2</th>\n      <td>597964878</td>\n      <td></td>\n      <td>speed changes</td>\n      <td>2021-03-22 13:36:46</td>\n      <td>2021-03-22 12:19:07</td>\n      <td>2021-03-22 13:36:46</td>\n      <td>closed</td>\n      <td>2021-03-22 13:37:02</td>\n      <td></td>\n      <td></td>\n      <td>b27ecf24-72f2-423e-90a1-bd0fc850be8f</td>\n    </tr>\n    <tr>\n      <th>3</th>\n      <td>597964878</td>\n      <td></td>\n      <td>speed changes</td>\n      <td>2021-03-22 13:36:46</td>\n      <td>2021-03-22 12:19:07</td>\n      <td>2021-03-22 13:36:46</td>\n      <td>closed</td>\n      <td>2021-03-22 13:37:02</td>\n      <td></td>\n      <td></td>\n      <td>b27ecf24-72f2-423e-90a1-bd0fc850be8f</td>\n    </tr>\n    <tr>\n      <th>4</th>\n      <td>595507233</td>\n      <td>- [x] restructure\\r\\n- [x] complete aggregatio...</td>\n      <td>Feature/restructure project</td>\n      <td>2021-03-22 07:03:06</td>\n      <td>2021-03-18 12:27:08</td>\n      <td>2021-03-22 07:03:06</td>\n      <td>closed</td>\n      <td>2021-03-22 07:03:09</td>\n      <td></td>\n      <td></td>\n      <td>b27ecf24-72f2-423e-90a1-bd0fc850be8f</td>\n    </tr>\n  </tbody>\n</table>\n</div>"
     },
     "metadata": {},
     "execution_count": 4
    }
   ],
   "source": [
    "pull_requests = AggPR.get_pull_requests(default_data_folder,AggPR.PULL_REQUESTS)\n",
    "pull_requests.head(5)"
   ]
  },
  {
   "cell_type": "code",
   "execution_count": 5,
   "metadata": {},
   "outputs": [
    {
     "output_type": "execute_result",
     "data": {
      "text/plain": [
       "   pull_request_id                                               body  \\\n",
       "0        597964878  issues and pull request are now about 3 times ...   \n",
       "1        597964878  Do we need to extract the reaction of a user t...   \n",
       "2        597964878                                 Well done!\\r\\n\\r\\n   \n",
       "3        595507233                         I deleted this processing.   \n",
       "4        595507233  I always get a permisson error if i run AggVer...   \n",
       "\n",
       "           created_at         id                                author  \n",
       "0 2021-03-22 12:19:46  804019782  b27ecf24-72f2-423e-90a1-bd0fc850be8f  \n",
       "1 2021-03-22 12:20:58  804020468  b27ecf24-72f2-423e-90a1-bd0fc850be8f  \n",
       "2 2021-03-22 13:36:55  804067012  68c4f91d-2f0e-44ae-a9f7-6887bd7c2ebc  \n",
       "3 2021-03-18 12:28:23  596821395  b27ecf24-72f2-423e-90a1-bd0fc850be8f  \n",
       "4 2021-03-18 12:31:17  596823333  b27ecf24-72f2-423e-90a1-bd0fc850be8f  "
      ],
      "text/html": "<div>\n<style scoped>\n    .dataframe tbody tr th:only-of-type {\n        vertical-align: middle;\n    }\n\n    .dataframe tbody tr th {\n        vertical-align: top;\n    }\n\n    .dataframe thead th {\n        text-align: right;\n    }\n</style>\n<table border=\"1\" class=\"dataframe\">\n  <thead>\n    <tr style=\"text-align: right;\">\n      <th></th>\n      <th>pull_request_id</th>\n      <th>body</th>\n      <th>created_at</th>\n      <th>id</th>\n      <th>author</th>\n    </tr>\n  </thead>\n  <tbody>\n    <tr>\n      <th>0</th>\n      <td>597964878</td>\n      <td>issues and pull request are now about 3 times ...</td>\n      <td>2021-03-22 12:19:46</td>\n      <td>804019782</td>\n      <td>b27ecf24-72f2-423e-90a1-bd0fc850be8f</td>\n    </tr>\n    <tr>\n      <th>1</th>\n      <td>597964878</td>\n      <td>Do we need to extract the reaction of a user t...</td>\n      <td>2021-03-22 12:20:58</td>\n      <td>804020468</td>\n      <td>b27ecf24-72f2-423e-90a1-bd0fc850be8f</td>\n    </tr>\n    <tr>\n      <th>2</th>\n      <td>597964878</td>\n      <td>Well done!\\r\\n\\r\\n</td>\n      <td>2021-03-22 13:36:55</td>\n      <td>804067012</td>\n      <td>68c4f91d-2f0e-44ae-a9f7-6887bd7c2ebc</td>\n    </tr>\n    <tr>\n      <th>3</th>\n      <td>595507233</td>\n      <td>I deleted this processing.</td>\n      <td>2021-03-18 12:28:23</td>\n      <td>596821395</td>\n      <td>b27ecf24-72f2-423e-90a1-bd0fc850be8f</td>\n    </tr>\n    <tr>\n      <th>4</th>\n      <td>595507233</td>\n      <td>I always get a permisson error if i run AggVer...</td>\n      <td>2021-03-18 12:31:17</td>\n      <td>596823333</td>\n      <td>b27ecf24-72f2-423e-90a1-bd0fc850be8f</td>\n    </tr>\n  </tbody>\n</table>\n</div>"
     },
     "metadata": {},
     "execution_count": 5
    }
   ],
   "source": [
    "pull_requests_comments = AggPR.get_pull_requests(default_data_folder,AggPR.PULL_REQUESTS_COMMENTS)\n",
    "pull_requests_comments.head(5)"
   ]
  },
  {
   "cell_type": "code",
   "execution_count": 6,
   "metadata": {},
   "outputs": [
    {
     "output_type": "execute_result",
     "data": {
      "text/plain": [
       "Empty DataFrame\n",
       "Columns: []\n",
       "Index: []"
      ],
      "text/html": "<div>\n<style scoped>\n    .dataframe tbody tr th:only-of-type {\n        vertical-align: middle;\n    }\n\n    .dataframe tbody tr th {\n        vertical-align: top;\n    }\n\n    .dataframe thead th {\n        text-align: right;\n    }\n</style>\n<table border=\"1\" class=\"dataframe\">\n  <thead>\n    <tr style=\"text-align: right;\">\n      <th></th>\n    </tr>\n  </thead>\n  <tbody>\n  </tbody>\n</table>\n</div>"
     },
     "metadata": {},
     "execution_count": 6
    }
   ],
   "source": [
    "pull_requests_reactions = AggPR.get_pull_requests(default_data_folder,AggPR.PULL_REQUESTS_REACTIONS)\n",
    "pull_requests_reactions.head(5)"
   ]
  },
  {
   "cell_type": "code",
   "execution_count": 7,
   "metadata": {},
   "outputs": [
    {
     "output_type": "execute_result",
     "data": {
      "text/plain": [
       "   pull_request_id         id                                author  \\\n",
       "0        595507233  615323336  b27ecf24-72f2-423e-90a1-bd0fc850be8f   \n",
       "1        595507233  615325866  b27ecf24-72f2-423e-90a1-bd0fc850be8f   \n",
       "2        593619528  612919634  b27ecf24-72f2-423e-90a1-bd0fc850be8f   \n",
       "3        592934393  612014907  b27ecf24-72f2-423e-90a1-bd0fc850be8f   \n",
       "4        592934393  612020296  68c4f91d-2f0e-44ae-a9f7-6887bd7c2ebc   \n",
       "\n",
       "         body      state        submitted_at  \n",
       "0              COMMENTED 2021-03-18 12:28:23  \n",
       "1              COMMENTED 2021-03-18 12:31:17  \n",
       "2  looks good   APPROVED 2021-03-16 07:28:58  \n",
       "3              COMMENTED 2021-03-15 10:05:34  \n",
       "4              COMMENTED 2021-03-15 10:11:36  "
      ],
      "text/html": "<div>\n<style scoped>\n    .dataframe tbody tr th:only-of-type {\n        vertical-align: middle;\n    }\n\n    .dataframe tbody tr th {\n        vertical-align: top;\n    }\n\n    .dataframe thead th {\n        text-align: right;\n    }\n</style>\n<table border=\"1\" class=\"dataframe\">\n  <thead>\n    <tr style=\"text-align: right;\">\n      <th></th>\n      <th>pull_request_id</th>\n      <th>id</th>\n      <th>author</th>\n      <th>body</th>\n      <th>state</th>\n      <th>submitted_at</th>\n    </tr>\n  </thead>\n  <tbody>\n    <tr>\n      <th>0</th>\n      <td>595507233</td>\n      <td>615323336</td>\n      <td>b27ecf24-72f2-423e-90a1-bd0fc850be8f</td>\n      <td></td>\n      <td>COMMENTED</td>\n      <td>2021-03-18 12:28:23</td>\n    </tr>\n    <tr>\n      <th>1</th>\n      <td>595507233</td>\n      <td>615325866</td>\n      <td>b27ecf24-72f2-423e-90a1-bd0fc850be8f</td>\n      <td></td>\n      <td>COMMENTED</td>\n      <td>2021-03-18 12:31:17</td>\n    </tr>\n    <tr>\n      <th>2</th>\n      <td>593619528</td>\n      <td>612919634</td>\n      <td>b27ecf24-72f2-423e-90a1-bd0fc850be8f</td>\n      <td>looks good</td>\n      <td>APPROVED</td>\n      <td>2021-03-16 07:28:58</td>\n    </tr>\n    <tr>\n      <th>3</th>\n      <td>592934393</td>\n      <td>612014907</td>\n      <td>b27ecf24-72f2-423e-90a1-bd0fc850be8f</td>\n      <td></td>\n      <td>COMMENTED</td>\n      <td>2021-03-15 10:05:34</td>\n    </tr>\n    <tr>\n      <th>4</th>\n      <td>592934393</td>\n      <td>612020296</td>\n      <td>68c4f91d-2f0e-44ae-a9f7-6887bd7c2ebc</td>\n      <td></td>\n      <td>COMMENTED</td>\n      <td>2021-03-15 10:11:36</td>\n    </tr>\n  </tbody>\n</table>\n</div>"
     },
     "metadata": {},
     "execution_count": 7
    }
   ],
   "source": [
    "pull_requests_reviews = AggPR.get_pull_requests(default_data_folder,AggPR.PULL_REQUESTS_REVIEWS)\n",
    "pull_requests_reviews.head(5)"
   ]
  },
  {
   "cell_type": "code",
   "execution_count": 8,
   "metadata": {},
   "outputs": [
    {
     "output_type": "execute_result",
     "data": {
      "text/plain": [
       "   pull_request_id                                author  \\\n",
       "0        597964878  b27ecf24-72f2-423e-90a1-bd0fc850be8f   \n",
       "1        597964878  68c4f91d-2f0e-44ae-a9f7-6887bd7c2ebc   \n",
       "2        597964878  68c4f91d-2f0e-44ae-a9f7-6887bd7c2ebc   \n",
       "3        597964878  68c4f91d-2f0e-44ae-a9f7-6887bd7c2ebc   \n",
       "4        597964878  68c4f91d-2f0e-44ae-a9f7-6887bd7c2ebc   \n",
       "\n",
       "                                 commit_sha          created_at  \\\n",
       "0                                      None 2021-03-22 12:21:01   \n",
       "1  cd2a6ade928695af643b7120b2f6c1c6621af9e8 2021-03-22 13:36:46   \n",
       "2  cd2a6ade928695af643b7120b2f6c1c6621af9e8 2021-03-22 13:36:46   \n",
       "3                                      None 2021-03-22 13:36:46   \n",
       "4                                      None 2021-03-22 13:37:02   \n",
       "\n",
       "              event          id  \n",
       "0  review_requested  4489795304  \n",
       "1        referenced  4490174299  \n",
       "2            merged  4490174306  \n",
       "3            closed  4490174317  \n",
       "4  head_ref_deleted  4490175819  "
      ],
      "text/html": "<div>\n<style scoped>\n    .dataframe tbody tr th:only-of-type {\n        vertical-align: middle;\n    }\n\n    .dataframe tbody tr th {\n        vertical-align: top;\n    }\n\n    .dataframe thead th {\n        text-align: right;\n    }\n</style>\n<table border=\"1\" class=\"dataframe\">\n  <thead>\n    <tr style=\"text-align: right;\">\n      <th></th>\n      <th>pull_request_id</th>\n      <th>author</th>\n      <th>commit_sha</th>\n      <th>created_at</th>\n      <th>event</th>\n      <th>id</th>\n    </tr>\n  </thead>\n  <tbody>\n    <tr>\n      <th>0</th>\n      <td>597964878</td>\n      <td>b27ecf24-72f2-423e-90a1-bd0fc850be8f</td>\n      <td>None</td>\n      <td>2021-03-22 12:21:01</td>\n      <td>review_requested</td>\n      <td>4489795304</td>\n    </tr>\n    <tr>\n      <th>1</th>\n      <td>597964878</td>\n      <td>68c4f91d-2f0e-44ae-a9f7-6887bd7c2ebc</td>\n      <td>cd2a6ade928695af643b7120b2f6c1c6621af9e8</td>\n      <td>2021-03-22 13:36:46</td>\n      <td>referenced</td>\n      <td>4490174299</td>\n    </tr>\n    <tr>\n      <th>2</th>\n      <td>597964878</td>\n      <td>68c4f91d-2f0e-44ae-a9f7-6887bd7c2ebc</td>\n      <td>cd2a6ade928695af643b7120b2f6c1c6621af9e8</td>\n      <td>2021-03-22 13:36:46</td>\n      <td>merged</td>\n      <td>4490174306</td>\n    </tr>\n    <tr>\n      <th>3</th>\n      <td>597964878</td>\n      <td>68c4f91d-2f0e-44ae-a9f7-6887bd7c2ebc</td>\n      <td>None</td>\n      <td>2021-03-22 13:36:46</td>\n      <td>closed</td>\n      <td>4490174317</td>\n    </tr>\n    <tr>\n      <th>4</th>\n      <td>597964878</td>\n      <td>68c4f91d-2f0e-44ae-a9f7-6887bd7c2ebc</td>\n      <td>None</td>\n      <td>2021-03-22 13:37:02</td>\n      <td>head_ref_deleted</td>\n      <td>4490175819</td>\n    </tr>\n  </tbody>\n</table>\n</div>"
     },
     "metadata": {},
     "execution_count": 8
    }
   ],
   "source": [
    "pull_requests_events = AggPR.get_pull_requests(default_data_folder,AggPR.PULL_REQUESTS_EVENTS)\n",
    "pull_requests_events.head(5)"
   ]
  }
 ]
}