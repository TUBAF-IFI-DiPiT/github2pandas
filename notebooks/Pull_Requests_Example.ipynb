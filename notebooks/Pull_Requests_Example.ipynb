{
 "metadata": {
  "language_info": {
   "codemirror_mode": {
    "name": "ipython",
    "version": 3
   },
   "file_extension": ".py",
   "mimetype": "text/x-python",
   "name": "python",
   "nbconvert_exporter": "python",
   "pygments_lexer": "ipython3",
   "version": "3.8.8-final"
  },
  "orig_nbformat": 2,
  "kernelspec": {
   "name": "python3",
   "display_name": "Python 3.8.8 64-bit ('Extract_Git_Activities': pipenv)",
   "metadata": {
    "interpreter": {
     "hash": "a74db7c17bb42bdc6782337ffe9f6e69d149f4d998b99f4435b4ceded118fa02"
    }
   }
  }
 },
 "nbformat": 4,
 "nbformat_minor": 2,
 "cells": [
  {
   "source": [
    "# Test Pull Request Data Aggregation\n",
    "\n",
    "-----------------------------------------------------------------\n",
    "This example illustrates the aggregation of pull request data using the github2pandas repository. Here, all issues are read out."
   ],
   "cell_type": "markdown",
   "metadata": {}
  },
  {
   "cell_type": "code",
   "execution_count": 1,
   "metadata": {},
   "outputs": [],
   "source": [
    "from github2pandas.aggregation.pull_requests import AggPullRequest as AggPR\n",
    "from github2pandas.utility import Utility\n",
    "from pathlib import Path"
   ]
  },
  {
   "source": [
    "## Basic Usage\n",
    "\n",
    "The most important input parameter is an Repository object from PyGitHub-Package."
   ],
   "cell_type": "markdown",
   "metadata": {}
  },
  {
   "cell_type": "code",
   "execution_count": 2,
   "metadata": {},
   "outputs": [],
   "source": [
    "git_repo_name = \"Extract_Git_Activities\"\n",
    "git_repo_owner = \"TUBAF-IFI-DiPiT\"\n",
    "    \n",
    "default_data_folder = Path(\"data\", git_repo_name)\n",
    "\n",
    "import os\n",
    "github_token = os.environ['TOKEN']\n",
    "# If you do not include your Github Token in .env, its neccessary to integrate it here. \n",
    "# github_token = \"yourToken\"\n",
    "\n",
    "repo = Utility.get_repo(git_repo_name, github_token)"
   ]
  },
  {
   "source": [
    "The code snipet generates a raw data set based on repo information."
   ],
   "cell_type": "markdown",
   "metadata": {}
  },
  {
   "cell_type": "code",
   "execution_count": 3,
   "metadata": {},
   "outputs": [
    {
     "output_type": "execute_result",
     "data": {
      "text/plain": [
       "True"
      ]
     },
     "metadata": {},
     "execution_count": 3
    }
   ],
   "source": [
    "AggPR.generate_pull_request_pandas_tables(repo, default_data_folder)"
   ]
  },
  {
   "cell_type": "code",
   "execution_count": 4,
   "metadata": {},
   "outputs": [
    {
     "output_type": "execute_result",
     "data": {
      "text/plain": [
       "          id assignees  assignees_count  \\\n",
       "0  591555338                          0   \n",
       "1  590889161                          0   \n",
       "2  590769429                          0   \n",
       "3  587573488                          0   \n",
       "4  586540229                          0   \n",
       "\n",
       "                                                body  \\\n",
       "0                                         add models   \n",
       "1  Add anonym user id to data.\\r\\n\\r\\nsave user i...   \n",
       "2  Added a class for each module and numpydoc\\r\\n...   \n",
       "3  Can you please run the pullrequest test and ta...   \n",
       "4                                                      \n",
       "\n",
       "                                               title  changed_files  \\\n",
       "0                           Enhancement/table models              6   \n",
       "1  added extraction of user data to a different file              5   \n",
       "2                               Enhancement/numpydoc              6   \n",
       "3             make only one pullrequest pandas table              3   \n",
       "4     Add download of workflow log files to notebook              2   \n",
       "\n",
       "            closed_at          created_at  deletions  additions  ...  \\\n",
       "0                 NaT 2021-03-12 10:26:51         88        519  ...   \n",
       "1 2021-03-11 14:54:17 2021-03-11 14:04:04         94        138  ...   \n",
       "2 2021-03-11 12:14:29 2021-03-11 10:59:43        292        700  ...   \n",
       "3 2021-03-10 13:39:18 2021-03-09 08:00:06         68         49  ...   \n",
       "4 2021-03-08 07:45:00 2021-03-08 07:44:53         12         33  ...   \n",
       "\n",
       "  labels_count  merged           merged_at  \\\n",
       "0            0   False                 NaT   \n",
       "1            0    True 2021-03-11 14:54:17   \n",
       "2            0    True 2021-03-11 12:14:29   \n",
       "3            0   False                 NaT   \n",
       "4            0    True 2021-03-08 07:45:00   \n",
       "\n",
       "                              merged_by   state          updated_at  \\\n",
       "0                                  None    open 2021-03-12 10:27:04   \n",
       "1  7be26812-dfaa-4724-932c-6a9613761e42  closed 2021-03-12 06:25:47   \n",
       "2  6d1b7901-9635-4705-a7f5-050593c619dc  closed 2021-03-11 12:14:34   \n",
       "3                                  None  closed 2021-03-11 06:51:15   \n",
       "4  7be26812-dfaa-4724-932c-6a9613761e42  closed 2021-03-08 07:45:01   \n",
       "\n",
       "                                 author comments_count  issue_events_count  \\\n",
       "0  6d1b7901-9635-4705-a7f5-050593c619dc              0                   2   \n",
       "1  6d1b7901-9635-4705-a7f5-050593c619dc              0                   5   \n",
       "2  6d1b7901-9635-4705-a7f5-050593c619dc              1                   7   \n",
       "3  6d1b7901-9635-4705-a7f5-050593c619dc              1                   3   \n",
       "4  7be26812-dfaa-4724-932c-6a9613761e42              0                   3   \n",
       "\n",
       "   reviews_count  \n",
       "0              0  \n",
       "1              0  \n",
       "2              0  \n",
       "3              0  \n",
       "4              0  \n",
       "\n",
       "[5 rows x 21 columns]"
      ],
      "text/html": "<div>\n<style scoped>\n    .dataframe tbody tr th:only-of-type {\n        vertical-align: middle;\n    }\n\n    .dataframe tbody tr th {\n        vertical-align: top;\n    }\n\n    .dataframe thead th {\n        text-align: right;\n    }\n</style>\n<table border=\"1\" class=\"dataframe\">\n  <thead>\n    <tr style=\"text-align: right;\">\n      <th></th>\n      <th>id</th>\n      <th>assignees</th>\n      <th>assignees_count</th>\n      <th>body</th>\n      <th>title</th>\n      <th>changed_files</th>\n      <th>closed_at</th>\n      <th>created_at</th>\n      <th>deletions</th>\n      <th>additions</th>\n      <th>...</th>\n      <th>labels_count</th>\n      <th>merged</th>\n      <th>merged_at</th>\n      <th>merged_by</th>\n      <th>state</th>\n      <th>updated_at</th>\n      <th>author</th>\n      <th>comments_count</th>\n      <th>issue_events_count</th>\n      <th>reviews_count</th>\n    </tr>\n  </thead>\n  <tbody>\n    <tr>\n      <th>0</th>\n      <td>591555338</td>\n      <td></td>\n      <td>0</td>\n      <td>add models</td>\n      <td>Enhancement/table models</td>\n      <td>6</td>\n      <td>NaT</td>\n      <td>2021-03-12 10:26:51</td>\n      <td>88</td>\n      <td>519</td>\n      <td>...</td>\n      <td>0</td>\n      <td>False</td>\n      <td>NaT</td>\n      <td>None</td>\n      <td>open</td>\n      <td>2021-03-12 10:27:04</td>\n      <td>6d1b7901-9635-4705-a7f5-050593c619dc</td>\n      <td>0</td>\n      <td>2</td>\n      <td>0</td>\n    </tr>\n    <tr>\n      <th>1</th>\n      <td>590889161</td>\n      <td></td>\n      <td>0</td>\n      <td>Add anonym user id to data.\\r\\n\\r\\nsave user i...</td>\n      <td>added extraction of user data to a different file</td>\n      <td>5</td>\n      <td>2021-03-11 14:54:17</td>\n      <td>2021-03-11 14:04:04</td>\n      <td>94</td>\n      <td>138</td>\n      <td>...</td>\n      <td>0</td>\n      <td>True</td>\n      <td>2021-03-11 14:54:17</td>\n      <td>7be26812-dfaa-4724-932c-6a9613761e42</td>\n      <td>closed</td>\n      <td>2021-03-12 06:25:47</td>\n      <td>6d1b7901-9635-4705-a7f5-050593c619dc</td>\n      <td>0</td>\n      <td>5</td>\n      <td>0</td>\n    </tr>\n    <tr>\n      <th>2</th>\n      <td>590769429</td>\n      <td></td>\n      <td>0</td>\n      <td>Added a class for each module and numpydoc\\r\\n...</td>\n      <td>Enhancement/numpydoc</td>\n      <td>6</td>\n      <td>2021-03-11 12:14:29</td>\n      <td>2021-03-11 10:59:43</td>\n      <td>292</td>\n      <td>700</td>\n      <td>...</td>\n      <td>0</td>\n      <td>True</td>\n      <td>2021-03-11 12:14:29</td>\n      <td>6d1b7901-9635-4705-a7f5-050593c619dc</td>\n      <td>closed</td>\n      <td>2021-03-11 12:14:34</td>\n      <td>6d1b7901-9635-4705-a7f5-050593c619dc</td>\n      <td>1</td>\n      <td>7</td>\n      <td>0</td>\n    </tr>\n    <tr>\n      <th>3</th>\n      <td>587573488</td>\n      <td></td>\n      <td>0</td>\n      <td>Can you please run the pullrequest test and ta...</td>\n      <td>make only one pullrequest pandas table</td>\n      <td>3</td>\n      <td>2021-03-10 13:39:18</td>\n      <td>2021-03-09 08:00:06</td>\n      <td>68</td>\n      <td>49</td>\n      <td>...</td>\n      <td>0</td>\n      <td>False</td>\n      <td>NaT</td>\n      <td>None</td>\n      <td>closed</td>\n      <td>2021-03-11 06:51:15</td>\n      <td>6d1b7901-9635-4705-a7f5-050593c619dc</td>\n      <td>1</td>\n      <td>3</td>\n      <td>0</td>\n    </tr>\n    <tr>\n      <th>4</th>\n      <td>586540229</td>\n      <td></td>\n      <td>0</td>\n      <td></td>\n      <td>Add download of workflow log files to notebook</td>\n      <td>2</td>\n      <td>2021-03-08 07:45:00</td>\n      <td>2021-03-08 07:44:53</td>\n      <td>12</td>\n      <td>33</td>\n      <td>...</td>\n      <td>0</td>\n      <td>True</td>\n      <td>2021-03-08 07:45:00</td>\n      <td>7be26812-dfaa-4724-932c-6a9613761e42</td>\n      <td>closed</td>\n      <td>2021-03-08 07:45:01</td>\n      <td>7be26812-dfaa-4724-932c-6a9613761e42</td>\n      <td>0</td>\n      <td>3</td>\n      <td>0</td>\n    </tr>\n  </tbody>\n</table>\n<p>5 rows × 21 columns</p>\n</div>"
     },
     "metadata": {},
     "execution_count": 4
    }
   ],
   "source": [
    "pull_requests = AggPR.get_raw_pull_requests(default_data_folder,AggPR.PULL_REQUESTS)\n",
    "pull_requests.head(5)"
   ]
  },
  {
   "cell_type": "code",
   "execution_count": 5,
   "metadata": {},
   "outputs": [
    {
     "output_type": "execute_result",
     "data": {
      "text/plain": [
       "   pull_request_id                                               body  \\\n",
       "0        590769429  `data_dir` contains the data folder in general...   \n",
       "1        587573488                              old version is better   \n",
       "2        586304530  Can you please check that the tool-chain \\r\\n\\...   \n",
       "3        585423113  Why do you separate the folder initialization ...   \n",
       "4        585423113  Is it really necessary to split all data sampl...   \n",
       "\n",
       "           created_at         id                                author  \\\n",
       "0 2021-03-11 11:13:20  796660636  7be26812-dfaa-4724-932c-6a9613761e42   \n",
       "1 2021-03-10 13:39:18  795426070  6d1b7901-9635-4705-a7f5-050593c619dc   \n",
       "2 2021-03-07 18:44:17  792331459  7be26812-dfaa-4724-932c-6a9613761e42   \n",
       "3 2021-03-07 15:54:10  589049681  7be26812-dfaa-4724-932c-6a9613761e42   \n",
       "4 2021-03-07 15:59:02  589050378  7be26812-dfaa-4724-932c-6a9613761e42   \n",
       "\n",
       "   reactions_count  \n",
       "0                0  \n",
       "1                0  \n",
       "2                0  \n",
       "3                0  \n",
       "4                0  "
      ],
      "text/html": "<div>\n<style scoped>\n    .dataframe tbody tr th:only-of-type {\n        vertical-align: middle;\n    }\n\n    .dataframe tbody tr th {\n        vertical-align: top;\n    }\n\n    .dataframe thead th {\n        text-align: right;\n    }\n</style>\n<table border=\"1\" class=\"dataframe\">\n  <thead>\n    <tr style=\"text-align: right;\">\n      <th></th>\n      <th>pull_request_id</th>\n      <th>body</th>\n      <th>created_at</th>\n      <th>id</th>\n      <th>author</th>\n      <th>reactions_count</th>\n    </tr>\n  </thead>\n  <tbody>\n    <tr>\n      <th>0</th>\n      <td>590769429</td>\n      <td>`data_dir` contains the data folder in general...</td>\n      <td>2021-03-11 11:13:20</td>\n      <td>796660636</td>\n      <td>7be26812-dfaa-4724-932c-6a9613761e42</td>\n      <td>0</td>\n    </tr>\n    <tr>\n      <th>1</th>\n      <td>587573488</td>\n      <td>old version is better</td>\n      <td>2021-03-10 13:39:18</td>\n      <td>795426070</td>\n      <td>6d1b7901-9635-4705-a7f5-050593c619dc</td>\n      <td>0</td>\n    </tr>\n    <tr>\n      <th>2</th>\n      <td>586304530</td>\n      <td>Can you please check that the tool-chain \\r\\n\\...</td>\n      <td>2021-03-07 18:44:17</td>\n      <td>792331459</td>\n      <td>7be26812-dfaa-4724-932c-6a9613761e42</td>\n      <td>0</td>\n    </tr>\n    <tr>\n      <th>3</th>\n      <td>585423113</td>\n      <td>Why do you separate the folder initialization ...</td>\n      <td>2021-03-07 15:54:10</td>\n      <td>589049681</td>\n      <td>7be26812-dfaa-4724-932c-6a9613761e42</td>\n      <td>0</td>\n    </tr>\n    <tr>\n      <th>4</th>\n      <td>585423113</td>\n      <td>Is it really necessary to split all data sampl...</td>\n      <td>2021-03-07 15:59:02</td>\n      <td>589050378</td>\n      <td>7be26812-dfaa-4724-932c-6a9613761e42</td>\n      <td>0</td>\n    </tr>\n  </tbody>\n</table>\n</div>"
     },
     "metadata": {},
     "execution_count": 5
    }
   ],
   "source": [
    "pull_requests_comments = AggPR.get_raw_pull_requests(default_data_folder,AggPR.PULL_REQUESTS_COMMENTS)\n",
    "pull_requests_comments.head(5)"
   ]
  },
  {
   "cell_type": "code",
   "execution_count": 6,
   "metadata": {},
   "outputs": [
    {
     "output_type": "execute_result",
     "data": {
      "text/plain": [
       "   comment_id content          created_at         id  \\\n",
       "0   788672723      +1 2021-03-03 07:14:32  102774720   \n",
       "\n",
       "                                 author  \n",
       "0  6d1b7901-9635-4705-a7f5-050593c619dc  "
      ],
      "text/html": "<div>\n<style scoped>\n    .dataframe tbody tr th:only-of-type {\n        vertical-align: middle;\n    }\n\n    .dataframe tbody tr th {\n        vertical-align: top;\n    }\n\n    .dataframe thead th {\n        text-align: right;\n    }\n</style>\n<table border=\"1\" class=\"dataframe\">\n  <thead>\n    <tr style=\"text-align: right;\">\n      <th></th>\n      <th>comment_id</th>\n      <th>content</th>\n      <th>created_at</th>\n      <th>id</th>\n      <th>author</th>\n    </tr>\n  </thead>\n  <tbody>\n    <tr>\n      <th>0</th>\n      <td>788672723</td>\n      <td>+1</td>\n      <td>2021-03-03 07:14:32</td>\n      <td>102774720</td>\n      <td>6d1b7901-9635-4705-a7f5-050593c619dc</td>\n    </tr>\n  </tbody>\n</table>\n</div>"
     },
     "metadata": {},
     "execution_count": 6
    }
   ],
   "source": [
    "pull_requests_reactions = AggPR.get_raw_pull_requests(default_data_folder,AggPR.PULL_REQUESTS_REACTIONS)\n",
    "pull_requests_reactions.head(5)"
   ]
  },
  {
   "cell_type": "code",
   "execution_count": 7,
   "metadata": {},
   "outputs": [
    {
     "output_type": "execute_result",
     "data": {
      "text/plain": [
       "   pull_request_id         id                                author  \\\n",
       "0        586304530  607076374  6d1b7901-9635-4705-a7f5-050593c619dc   \n",
       "1        585423113  605859519  7be26812-dfaa-4724-932c-6a9613761e42   \n",
       "2        585423113  607062305  6d1b7901-9635-4705-a7f5-050593c619dc   \n",
       "3        585423113  607065238  6d1b7901-9635-4705-a7f5-050593c619dc   \n",
       "4        585423113  607082195  6d1b7901-9635-4705-a7f5-050593c619dc   \n",
       "\n",
       "                                                body      state  \\\n",
       "0  Works well!\\r\\n\\r\\nhad to run it in pipenv\\r\\n...   APPROVED   \n",
       "1  I like the idea of a common class structure co...  COMMENTED   \n",
       "2                                                     COMMENTED   \n",
       "3                                                     COMMENTED   \n",
       "4                                                     COMMENTED   \n",
       "\n",
       "         submitted_at  \n",
       "0 2021-03-09 06:59:57  \n",
       "1 2021-03-07 16:00:51  \n",
       "2 2021-03-09 06:42:04  \n",
       "3 2021-03-09 06:43:20  \n",
       "4 2021-03-09 07:11:13  "
      ],
      "text/html": "<div>\n<style scoped>\n    .dataframe tbody tr th:only-of-type {\n        vertical-align: middle;\n    }\n\n    .dataframe tbody tr th {\n        vertical-align: top;\n    }\n\n    .dataframe thead th {\n        text-align: right;\n    }\n</style>\n<table border=\"1\" class=\"dataframe\">\n  <thead>\n    <tr style=\"text-align: right;\">\n      <th></th>\n      <th>pull_request_id</th>\n      <th>id</th>\n      <th>author</th>\n      <th>body</th>\n      <th>state</th>\n      <th>submitted_at</th>\n    </tr>\n  </thead>\n  <tbody>\n    <tr>\n      <th>0</th>\n      <td>586304530</td>\n      <td>607076374</td>\n      <td>6d1b7901-9635-4705-a7f5-050593c619dc</td>\n      <td>Works well!\\r\\n\\r\\nhad to run it in pipenv\\r\\n...</td>\n      <td>APPROVED</td>\n      <td>2021-03-09 06:59:57</td>\n    </tr>\n    <tr>\n      <th>1</th>\n      <td>585423113</td>\n      <td>605859519</td>\n      <td>7be26812-dfaa-4724-932c-6a9613761e42</td>\n      <td>I like the idea of a common class structure co...</td>\n      <td>COMMENTED</td>\n      <td>2021-03-07 16:00:51</td>\n    </tr>\n    <tr>\n      <th>2</th>\n      <td>585423113</td>\n      <td>607062305</td>\n      <td>6d1b7901-9635-4705-a7f5-050593c619dc</td>\n      <td></td>\n      <td>COMMENTED</td>\n      <td>2021-03-09 06:42:04</td>\n    </tr>\n    <tr>\n      <th>3</th>\n      <td>585423113</td>\n      <td>607065238</td>\n      <td>6d1b7901-9635-4705-a7f5-050593c619dc</td>\n      <td></td>\n      <td>COMMENTED</td>\n      <td>2021-03-09 06:43:20</td>\n    </tr>\n    <tr>\n      <th>4</th>\n      <td>585423113</td>\n      <td>607082195</td>\n      <td>6d1b7901-9635-4705-a7f5-050593c619dc</td>\n      <td></td>\n      <td>COMMENTED</td>\n      <td>2021-03-09 07:11:13</td>\n    </tr>\n  </tbody>\n</table>\n</div>"
     },
     "metadata": {},
     "execution_count": 7
    }
   ],
   "source": [
    "pull_requests_reviews = AggPR.get_raw_pull_requests(default_data_folder,AggPR.PULL_REQUESTS_REVIEWS)\n",
    "pull_requests_reviews.head(5)"
   ]
  },
  {
   "cell_type": "code",
   "execution_count": 8,
   "metadata": {},
   "outputs": [
    {
     "output_type": "execute_result",
     "data": {
      "text/plain": [
       "   pull_request_id                                author  \\\n",
       "0        591555338  6d1b7901-9635-4705-a7f5-050593c619dc   \n",
       "1        591555338  6d1b7901-9635-4705-a7f5-050593c619dc   \n",
       "2        590889161  6d1b7901-9635-4705-a7f5-050593c619dc   \n",
       "3        590889161  7be26812-dfaa-4724-932c-6a9613761e42   \n",
       "4        590889161  7be26812-dfaa-4724-932c-6a9613761e42   \n",
       "\n",
       "                                  commit_id          created_at  \\\n",
       "0                                      None 2021-03-12 10:27:04   \n",
       "1                                      None 2021-03-12 10:27:12   \n",
       "2                                      None 2021-03-11 14:04:14   \n",
       "3  07fce6264a5699c5b260d27dda700c9eb82599ce 2021-03-11 14:54:17   \n",
       "4  07fce6264a5699c5b260d27dda700c9eb82599ce 2021-03-11 14:54:17   \n",
       "\n",
       "              event          id assignee assigner  \n",
       "0  review_requested  4449938309     None     None  \n",
       "1         connected  4449938971     None     None  \n",
       "2  review_requested  4445074963     None     None  \n",
       "3        referenced  4445456789     None     None  \n",
       "4            merged  4445456795     None     None  "
      ],
      "text/html": "<div>\n<style scoped>\n    .dataframe tbody tr th:only-of-type {\n        vertical-align: middle;\n    }\n\n    .dataframe tbody tr th {\n        vertical-align: top;\n    }\n\n    .dataframe thead th {\n        text-align: right;\n    }\n</style>\n<table border=\"1\" class=\"dataframe\">\n  <thead>\n    <tr style=\"text-align: right;\">\n      <th></th>\n      <th>pull_request_id</th>\n      <th>author</th>\n      <th>commit_id</th>\n      <th>created_at</th>\n      <th>event</th>\n      <th>id</th>\n      <th>assignee</th>\n      <th>assigner</th>\n    </tr>\n  </thead>\n  <tbody>\n    <tr>\n      <th>0</th>\n      <td>591555338</td>\n      <td>6d1b7901-9635-4705-a7f5-050593c619dc</td>\n      <td>None</td>\n      <td>2021-03-12 10:27:04</td>\n      <td>review_requested</td>\n      <td>4449938309</td>\n      <td>None</td>\n      <td>None</td>\n    </tr>\n    <tr>\n      <th>1</th>\n      <td>591555338</td>\n      <td>6d1b7901-9635-4705-a7f5-050593c619dc</td>\n      <td>None</td>\n      <td>2021-03-12 10:27:12</td>\n      <td>connected</td>\n      <td>4449938971</td>\n      <td>None</td>\n      <td>None</td>\n    </tr>\n    <tr>\n      <th>2</th>\n      <td>590889161</td>\n      <td>6d1b7901-9635-4705-a7f5-050593c619dc</td>\n      <td>None</td>\n      <td>2021-03-11 14:04:14</td>\n      <td>review_requested</td>\n      <td>4445074963</td>\n      <td>None</td>\n      <td>None</td>\n    </tr>\n    <tr>\n      <th>3</th>\n      <td>590889161</td>\n      <td>7be26812-dfaa-4724-932c-6a9613761e42</td>\n      <td>07fce6264a5699c5b260d27dda700c9eb82599ce</td>\n      <td>2021-03-11 14:54:17</td>\n      <td>referenced</td>\n      <td>4445456789</td>\n      <td>None</td>\n      <td>None</td>\n    </tr>\n    <tr>\n      <th>4</th>\n      <td>590889161</td>\n      <td>7be26812-dfaa-4724-932c-6a9613761e42</td>\n      <td>07fce6264a5699c5b260d27dda700c9eb82599ce</td>\n      <td>2021-03-11 14:54:17</td>\n      <td>merged</td>\n      <td>4445456795</td>\n      <td>None</td>\n      <td>None</td>\n    </tr>\n  </tbody>\n</table>\n</div>"
     },
     "metadata": {},
     "execution_count": 8
    }
   ],
   "source": [
    "pull_requests_events = AggPR.get_raw_pull_requests(default_data_folder,AggPR.PULL_REQUESTS_EVENTS)\n",
    "pull_requests_events.head(5)"
   ]
  }
 ]
}