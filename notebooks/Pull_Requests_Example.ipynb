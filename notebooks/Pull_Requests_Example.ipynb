{
 "metadata": {
  "language_info": {
   "codemirror_mode": {
    "name": "ipython",
    "version": 3
   },
   "file_extension": ".py",
   "mimetype": "text/x-python",
   "name": "python",
   "nbconvert_exporter": "python",
   "pygments_lexer": "ipython3",
   "version": "3.8.8-final"
  },
  "orig_nbformat": 2,
  "kernelspec": {
   "name": "python3",
   "display_name": "Python 3.8.8 64-bit ('Extract_Git_Activities': pipenv)",
   "metadata": {
    "interpreter": {
     "hash": "a74db7c17bb42bdc6782337ffe9f6e69d149f4d998b99f4435b4ceded118fa02"
    }
   }
  }
 },
 "nbformat": 4,
 "nbformat_minor": 2,
 "cells": [
  {
   "source": [
    "# Test Pull Request Data Aggregation\n",
    "\n",
    "-----------------------------------------------------------------\n",
    "This example illustrates the aggregation of pull request data using the github2pandas repository. Here, all issues are read out."
   ],
   "cell_type": "markdown",
   "metadata": {}
  },
  {
   "cell_type": "code",
   "execution_count": 1,
   "metadata": {},
   "outputs": [],
   "source": [
    "from github2pandas.aggregation.pull_requests import AggPullRequest as AggPR\n",
    "from github2pandas.aggregation.utility import Utility\n",
    "from pathlib import Path"
   ]
  },
  {
   "source": [
    "## Basic Usage\n",
    "\n",
    "The most important input parameter is an Repository object from PyGitHub-Package."
   ],
   "cell_type": "markdown",
   "metadata": {}
  },
  {
   "cell_type": "code",
   "execution_count": 2,
   "metadata": {},
   "outputs": [],
   "source": [
    "git_repo_name = \"Extract_Git_Activities\"\n",
    "git_repo_owner = \"TUBAF-IFI-DiPiT\"\n",
    "    \n",
    "default_data_folder = Path(\"data\", git_repo_name)\n",
    "\n",
    "import os\n",
    "github_token = os.environ['TOKEN']\n",
    "# If you do not include your Github Token in .env, its neccessary to integrate it here. \n",
    "# github_token = \"yourToken\"\n",
    "\n",
    "repo = Utility.get_repo(git_repo_owner, git_repo_name, github_token)"
   ]
  },
  {
   "source": [
    "The code snipet generates a raw data set based on repo information."
   ],
   "cell_type": "markdown",
   "metadata": {}
  },
  {
   "cell_type": "code",
   "execution_count": 3,
   "metadata": {},
   "outputs": [
    {
     "output_type": "execute_result",
     "data": {
      "text/plain": [
       "True"
      ]
     },
     "metadata": {},
     "execution_count": 3
    }
   ],
   "source": [
    "AggPR.generate_pull_request_pandas_tables(repo, default_data_folder)"
   ]
  },
  {
   "cell_type": "code",
   "execution_count": 4,
   "metadata": {},
   "outputs": [
    {
     "output_type": "execute_result",
     "data": {
      "text/plain": [
       "          id assignees  assignees_count  \\\n",
       "0  593619528                          0   \n",
       "1  592934393                          0   \n",
       "2  592879580                          0   \n",
       "3  591555338                          0   \n",
       "4  590889161                          0   \n",
       "\n",
       "                                                body  \\\n",
       "0  Revises commit workflow and integrates documen...   \n",
       "1                              tests are running now   \n",
       "2              Add Notebooks\\r\\n\\r\\nsolve test issue   \n",
       "3                                         add models   \n",
       "4  Add anonym user id to data.\\r\\n\\r\\nsave user i...   \n",
       "\n",
       "                                               title  changed_files  \\\n",
       "0                                        Feat/commit              3   \n",
       "1                                      Bug fix/tests              5   \n",
       "2                                           Notebook             14   \n",
       "3                           Enhancement/table models              6   \n",
       "4  added extraction of user data to a different file              5   \n",
       "\n",
       "            closed_at          created_at  deletions  additions  ... merged  \\\n",
       "0 2021-03-16 07:29:08 2021-03-16 06:38:49        181        430  ...   True   \n",
       "1 2021-03-15 10:11:44 2021-03-15 10:03:29          8          7  ...   True   \n",
       "2 2021-03-15 08:52:27 2021-03-15 08:52:16         65        918  ...   True   \n",
       "3 2021-03-18 08:51:32 2021-03-12 10:26:51         90        519  ...   True   \n",
       "4 2021-03-11 14:54:17 2021-03-11 14:04:04         94        138  ...   True   \n",
       "\n",
       "            merged_at                             merged_by milestone_id  \\\n",
       "0 2021-03-16 07:29:08  6d1b7901-9635-4705-a7f5-050593c619dc         None   \n",
       "1 2021-03-15 10:11:44  7be26812-dfaa-4724-932c-6a9613761e42         None   \n",
       "2 2021-03-15 08:52:27  6d1b7901-9635-4705-a7f5-050593c619dc         None   \n",
       "3 2021-03-18 08:51:31  6d1b7901-9635-4705-a7f5-050593c619dc         None   \n",
       "4 2021-03-11 14:54:17  7be26812-dfaa-4724-932c-6a9613761e42         None   \n",
       "\n",
       "    state          updated_at                                author  \\\n",
       "0  closed 2021-03-16 07:29:08  7be26812-dfaa-4724-932c-6a9613761e42   \n",
       "1  closed 2021-03-15 10:11:44  6d1b7901-9635-4705-a7f5-050593c619dc   \n",
       "2  closed 2021-03-15 08:52:27  6d1b7901-9635-4705-a7f5-050593c619dc   \n",
       "3  closed 2021-03-18 08:51:40  6d1b7901-9635-4705-a7f5-050593c619dc   \n",
       "4  closed 2021-03-12 06:25:47  6d1b7901-9635-4705-a7f5-050593c619dc   \n",
       "\n",
       "  comments_count issue_events_count  reviews_count  \n",
       "0              0                  4              1  \n",
       "1              2                  5              2  \n",
       "2              0                  3              0  \n",
       "3              0                  6              0  \n",
       "4              0                  5              0  \n",
       "\n",
       "[5 rows x 22 columns]"
      ],
      "text/html": "<div>\n<style scoped>\n    .dataframe tbody tr th:only-of-type {\n        vertical-align: middle;\n    }\n\n    .dataframe tbody tr th {\n        vertical-align: top;\n    }\n\n    .dataframe thead th {\n        text-align: right;\n    }\n</style>\n<table border=\"1\" class=\"dataframe\">\n  <thead>\n    <tr style=\"text-align: right;\">\n      <th></th>\n      <th>id</th>\n      <th>assignees</th>\n      <th>assignees_count</th>\n      <th>body</th>\n      <th>title</th>\n      <th>changed_files</th>\n      <th>closed_at</th>\n      <th>created_at</th>\n      <th>deletions</th>\n      <th>additions</th>\n      <th>...</th>\n      <th>merged</th>\n      <th>merged_at</th>\n      <th>merged_by</th>\n      <th>milestone_id</th>\n      <th>state</th>\n      <th>updated_at</th>\n      <th>author</th>\n      <th>comments_count</th>\n      <th>issue_events_count</th>\n      <th>reviews_count</th>\n    </tr>\n  </thead>\n  <tbody>\n    <tr>\n      <th>0</th>\n      <td>593619528</td>\n      <td></td>\n      <td>0</td>\n      <td>Revises commit workflow and integrates documen...</td>\n      <td>Feat/commit</td>\n      <td>3</td>\n      <td>2021-03-16 07:29:08</td>\n      <td>2021-03-16 06:38:49</td>\n      <td>181</td>\n      <td>430</td>\n      <td>...</td>\n      <td>True</td>\n      <td>2021-03-16 07:29:08</td>\n      <td>6d1b7901-9635-4705-a7f5-050593c619dc</td>\n      <td>None</td>\n      <td>closed</td>\n      <td>2021-03-16 07:29:08</td>\n      <td>7be26812-dfaa-4724-932c-6a9613761e42</td>\n      <td>0</td>\n      <td>4</td>\n      <td>1</td>\n    </tr>\n    <tr>\n      <th>1</th>\n      <td>592934393</td>\n      <td></td>\n      <td>0</td>\n      <td>tests are running now</td>\n      <td>Bug fix/tests</td>\n      <td>5</td>\n      <td>2021-03-15 10:11:44</td>\n      <td>2021-03-15 10:03:29</td>\n      <td>8</td>\n      <td>7</td>\n      <td>...</td>\n      <td>True</td>\n      <td>2021-03-15 10:11:44</td>\n      <td>7be26812-dfaa-4724-932c-6a9613761e42</td>\n      <td>None</td>\n      <td>closed</td>\n      <td>2021-03-15 10:11:44</td>\n      <td>6d1b7901-9635-4705-a7f5-050593c619dc</td>\n      <td>2</td>\n      <td>5</td>\n      <td>2</td>\n    </tr>\n    <tr>\n      <th>2</th>\n      <td>592879580</td>\n      <td></td>\n      <td>0</td>\n      <td>Add Notebooks\\r\\n\\r\\nsolve test issue</td>\n      <td>Notebook</td>\n      <td>14</td>\n      <td>2021-03-15 08:52:27</td>\n      <td>2021-03-15 08:52:16</td>\n      <td>65</td>\n      <td>918</td>\n      <td>...</td>\n      <td>True</td>\n      <td>2021-03-15 08:52:27</td>\n      <td>6d1b7901-9635-4705-a7f5-050593c619dc</td>\n      <td>None</td>\n      <td>closed</td>\n      <td>2021-03-15 08:52:27</td>\n      <td>6d1b7901-9635-4705-a7f5-050593c619dc</td>\n      <td>0</td>\n      <td>3</td>\n      <td>0</td>\n    </tr>\n    <tr>\n      <th>3</th>\n      <td>591555338</td>\n      <td></td>\n      <td>0</td>\n      <td>add models</td>\n      <td>Enhancement/table models</td>\n      <td>6</td>\n      <td>2021-03-18 08:51:32</td>\n      <td>2021-03-12 10:26:51</td>\n      <td>90</td>\n      <td>519</td>\n      <td>...</td>\n      <td>True</td>\n      <td>2021-03-18 08:51:31</td>\n      <td>6d1b7901-9635-4705-a7f5-050593c619dc</td>\n      <td>None</td>\n      <td>closed</td>\n      <td>2021-03-18 08:51:40</td>\n      <td>6d1b7901-9635-4705-a7f5-050593c619dc</td>\n      <td>0</td>\n      <td>6</td>\n      <td>0</td>\n    </tr>\n    <tr>\n      <th>4</th>\n      <td>590889161</td>\n      <td></td>\n      <td>0</td>\n      <td>Add anonym user id to data.\\r\\n\\r\\nsave user i...</td>\n      <td>added extraction of user data to a different file</td>\n      <td>5</td>\n      <td>2021-03-11 14:54:17</td>\n      <td>2021-03-11 14:04:04</td>\n      <td>94</td>\n      <td>138</td>\n      <td>...</td>\n      <td>True</td>\n      <td>2021-03-11 14:54:17</td>\n      <td>7be26812-dfaa-4724-932c-6a9613761e42</td>\n      <td>None</td>\n      <td>closed</td>\n      <td>2021-03-12 06:25:47</td>\n      <td>6d1b7901-9635-4705-a7f5-050593c619dc</td>\n      <td>0</td>\n      <td>5</td>\n      <td>0</td>\n    </tr>\n  </tbody>\n</table>\n<p>5 rows × 22 columns</p>\n</div>"
     },
     "metadata": {},
     "execution_count": 4
    }
   ],
   "source": [
    "pull_requests = AggPR.get_raw_pull_requests(default_data_folder,AggPR.PULL_REQUESTS)\n",
    "pull_requests.head(5)"
   ]
  },
  {
   "cell_type": "code",
   "execution_count": 5,
   "metadata": {},
   "outputs": [
    {
     "output_type": "execute_result",
     "data": {
      "text/plain": [
       "                                                body          created_at  \\\n",
       "0  why is this test skipped?\\r\\n\\r\\nthis test is ... 2021-03-15 10:05:34   \n",
       "1  I did not rework the commits. It's my job for ... 2021-03-15 10:11:35   \n",
       "2  `data_dir` contains the data folder in general... 2021-03-11 11:13:20   \n",
       "3                              old version is better 2021-03-10 13:39:18   \n",
       "4  Can you please check that the tool-chain \\r\\n\\... 2021-03-07 18:44:17   \n",
       "\n",
       "          id                                author  reactions_count  \\\n",
       "0  594199969  6d1b7901-9635-4705-a7f5-050593c619dc                0   \n",
       "1  594204203  7be26812-dfaa-4724-932c-6a9613761e42                0   \n",
       "2  796660636  7be26812-dfaa-4724-932c-6a9613761e42                0   \n",
       "3  795426070  6d1b7901-9635-4705-a7f5-050593c619dc                0   \n",
       "4  792331459  7be26812-dfaa-4724-932c-6a9613761e42                0   \n",
       "\n",
       "   pull_request_id  \n",
       "0        592934393  \n",
       "1        592934393  \n",
       "2        590769429  \n",
       "3        587573488  \n",
       "4        586304530  "
      ],
      "text/html": "<div>\n<style scoped>\n    .dataframe tbody tr th:only-of-type {\n        vertical-align: middle;\n    }\n\n    .dataframe tbody tr th {\n        vertical-align: top;\n    }\n\n    .dataframe thead th {\n        text-align: right;\n    }\n</style>\n<table border=\"1\" class=\"dataframe\">\n  <thead>\n    <tr style=\"text-align: right;\">\n      <th></th>\n      <th>body</th>\n      <th>created_at</th>\n      <th>id</th>\n      <th>author</th>\n      <th>reactions_count</th>\n      <th>pull_request_id</th>\n    </tr>\n  </thead>\n  <tbody>\n    <tr>\n      <th>0</th>\n      <td>why is this test skipped?\\r\\n\\r\\nthis test is ...</td>\n      <td>2021-03-15 10:05:34</td>\n      <td>594199969</td>\n      <td>6d1b7901-9635-4705-a7f5-050593c619dc</td>\n      <td>0</td>\n      <td>592934393</td>\n    </tr>\n    <tr>\n      <th>1</th>\n      <td>I did not rework the commits. It's my job for ...</td>\n      <td>2021-03-15 10:11:35</td>\n      <td>594204203</td>\n      <td>7be26812-dfaa-4724-932c-6a9613761e42</td>\n      <td>0</td>\n      <td>592934393</td>\n    </tr>\n    <tr>\n      <th>2</th>\n      <td>`data_dir` contains the data folder in general...</td>\n      <td>2021-03-11 11:13:20</td>\n      <td>796660636</td>\n      <td>7be26812-dfaa-4724-932c-6a9613761e42</td>\n      <td>0</td>\n      <td>590769429</td>\n    </tr>\n    <tr>\n      <th>3</th>\n      <td>old version is better</td>\n      <td>2021-03-10 13:39:18</td>\n      <td>795426070</td>\n      <td>6d1b7901-9635-4705-a7f5-050593c619dc</td>\n      <td>0</td>\n      <td>587573488</td>\n    </tr>\n    <tr>\n      <th>4</th>\n      <td>Can you please check that the tool-chain \\r\\n\\...</td>\n      <td>2021-03-07 18:44:17</td>\n      <td>792331459</td>\n      <td>7be26812-dfaa-4724-932c-6a9613761e42</td>\n      <td>0</td>\n      <td>586304530</td>\n    </tr>\n  </tbody>\n</table>\n</div>"
     },
     "metadata": {},
     "execution_count": 5
    }
   ],
   "source": [
    "pull_requests_comments = AggPR.get_raw_pull_requests(default_data_folder,AggPR.PULL_REQUESTS_COMMENTS)\n",
    "pull_requests_comments.head(5)"
   ]
  },
  {
   "cell_type": "code",
   "execution_count": 6,
   "metadata": {},
   "outputs": [
    {
     "output_type": "execute_result",
     "data": {
      "text/plain": [
       "  content          created_at         id  \\\n",
       "0      +1 2021-03-03 07:14:32  102774720   \n",
       "\n",
       "                                 author  comment_id  \n",
       "0  6d1b7901-9635-4705-a7f5-050593c619dc   788672723  "
      ],
      "text/html": "<div>\n<style scoped>\n    .dataframe tbody tr th:only-of-type {\n        vertical-align: middle;\n    }\n\n    .dataframe tbody tr th {\n        vertical-align: top;\n    }\n\n    .dataframe thead th {\n        text-align: right;\n    }\n</style>\n<table border=\"1\" class=\"dataframe\">\n  <thead>\n    <tr style=\"text-align: right;\">\n      <th></th>\n      <th>content</th>\n      <th>created_at</th>\n      <th>id</th>\n      <th>author</th>\n      <th>comment_id</th>\n    </tr>\n  </thead>\n  <tbody>\n    <tr>\n      <th>0</th>\n      <td>+1</td>\n      <td>2021-03-03 07:14:32</td>\n      <td>102774720</td>\n      <td>6d1b7901-9635-4705-a7f5-050593c619dc</td>\n      <td>788672723</td>\n    </tr>\n  </tbody>\n</table>\n</div>"
     },
     "metadata": {},
     "execution_count": 6
    }
   ],
   "source": [
    "pull_requests_reactions = AggPR.get_raw_pull_requests(default_data_folder,AggPR.PULL_REQUESTS_REACTIONS)\n",
    "pull_requests_reactions.head(5)"
   ]
  },
  {
   "cell_type": "code",
   "execution_count": 7,
   "metadata": {},
   "outputs": [
    {
     "output_type": "execute_result",
     "data": {
      "text/plain": [
       "   pull_request_id         id                                author  \\\n",
       "0        593619528  612919634  6d1b7901-9635-4705-a7f5-050593c619dc   \n",
       "1        592934393  612014907  6d1b7901-9635-4705-a7f5-050593c619dc   \n",
       "2        592934393  612020296  7be26812-dfaa-4724-932c-6a9613761e42   \n",
       "3        586304530  607076374  6d1b7901-9635-4705-a7f5-050593c619dc   \n",
       "4        585423113  605859519  7be26812-dfaa-4724-932c-6a9613761e42   \n",
       "\n",
       "                                                body      state  \\\n",
       "0                                         looks good   APPROVED   \n",
       "1                                                     COMMENTED   \n",
       "2                                                     COMMENTED   \n",
       "3  Works well!\\r\\n\\r\\nhad to run it in pipenv\\r\\n...   APPROVED   \n",
       "4  I like the idea of a common class structure co...  COMMENTED   \n",
       "\n",
       "         submitted_at  \n",
       "0 2021-03-16 07:28:58  \n",
       "1 2021-03-15 10:05:34  \n",
       "2 2021-03-15 10:11:36  \n",
       "3 2021-03-09 06:59:57  \n",
       "4 2021-03-07 16:00:51  "
      ],
      "text/html": "<div>\n<style scoped>\n    .dataframe tbody tr th:only-of-type {\n        vertical-align: middle;\n    }\n\n    .dataframe tbody tr th {\n        vertical-align: top;\n    }\n\n    .dataframe thead th {\n        text-align: right;\n    }\n</style>\n<table border=\"1\" class=\"dataframe\">\n  <thead>\n    <tr style=\"text-align: right;\">\n      <th></th>\n      <th>pull_request_id</th>\n      <th>id</th>\n      <th>author</th>\n      <th>body</th>\n      <th>state</th>\n      <th>submitted_at</th>\n    </tr>\n  </thead>\n  <tbody>\n    <tr>\n      <th>0</th>\n      <td>593619528</td>\n      <td>612919634</td>\n      <td>6d1b7901-9635-4705-a7f5-050593c619dc</td>\n      <td>looks good</td>\n      <td>APPROVED</td>\n      <td>2021-03-16 07:28:58</td>\n    </tr>\n    <tr>\n      <th>1</th>\n      <td>592934393</td>\n      <td>612014907</td>\n      <td>6d1b7901-9635-4705-a7f5-050593c619dc</td>\n      <td></td>\n      <td>COMMENTED</td>\n      <td>2021-03-15 10:05:34</td>\n    </tr>\n    <tr>\n      <th>2</th>\n      <td>592934393</td>\n      <td>612020296</td>\n      <td>7be26812-dfaa-4724-932c-6a9613761e42</td>\n      <td></td>\n      <td>COMMENTED</td>\n      <td>2021-03-15 10:11:36</td>\n    </tr>\n    <tr>\n      <th>3</th>\n      <td>586304530</td>\n      <td>607076374</td>\n      <td>6d1b7901-9635-4705-a7f5-050593c619dc</td>\n      <td>Works well!\\r\\n\\r\\nhad to run it in pipenv\\r\\n...</td>\n      <td>APPROVED</td>\n      <td>2021-03-09 06:59:57</td>\n    </tr>\n    <tr>\n      <th>4</th>\n      <td>585423113</td>\n      <td>605859519</td>\n      <td>7be26812-dfaa-4724-932c-6a9613761e42</td>\n      <td>I like the idea of a common class structure co...</td>\n      <td>COMMENTED</td>\n      <td>2021-03-07 16:00:51</td>\n    </tr>\n  </tbody>\n</table>\n</div>"
     },
     "metadata": {},
     "execution_count": 7
    }
   ],
   "source": [
    "pull_requests_reviews = AggPR.get_raw_pull_requests(default_data_folder,AggPR.PULL_REQUESTS_REVIEWS)\n",
    "pull_requests_reviews.head(5)"
   ]
  },
  {
   "cell_type": "code",
   "execution_count": 8,
   "metadata": {},
   "outputs": [
    {
     "output_type": "execute_result",
     "data": {
      "text/plain": [
       "                                 author  \\\n",
       "0  7be26812-dfaa-4724-932c-6a9613761e42   \n",
       "1  6d1b7901-9635-4705-a7f5-050593c619dc   \n",
       "2  6d1b7901-9635-4705-a7f5-050593c619dc   \n",
       "3  6d1b7901-9635-4705-a7f5-050593c619dc   \n",
       "4  6d1b7901-9635-4705-a7f5-050593c619dc   \n",
       "\n",
       "                                  commit_id          created_at  \\\n",
       "0                                      None 2021-03-16 06:39:06   \n",
       "1  5cd09a720e9b4cbac15e7fa2904286019f5752e7 2021-03-16 07:29:08   \n",
       "2  5cd09a720e9b4cbac15e7fa2904286019f5752e7 2021-03-16 07:29:08   \n",
       "3                                      None 2021-03-16 07:29:08   \n",
       "4                                      None 2021-03-15 10:03:37   \n",
       "\n",
       "              event          id label assignee assigner  pull_request_id  \n",
       "0  review_requested  4462602788  None     None     None        593619528  \n",
       "1        referenced  4462785578  None     None     None        593619528  \n",
       "2            merged  4462785582  None     None     None        593619528  \n",
       "3            closed  4462785587  None     None     None        593619528  \n",
       "4         connected  4457706622  None     None     None        592934393  "
      ],
      "text/html": "<div>\n<style scoped>\n    .dataframe tbody tr th:only-of-type {\n        vertical-align: middle;\n    }\n\n    .dataframe tbody tr th {\n        vertical-align: top;\n    }\n\n    .dataframe thead th {\n        text-align: right;\n    }\n</style>\n<table border=\"1\" class=\"dataframe\">\n  <thead>\n    <tr style=\"text-align: right;\">\n      <th></th>\n      <th>author</th>\n      <th>commit_id</th>\n      <th>created_at</th>\n      <th>event</th>\n      <th>id</th>\n      <th>label</th>\n      <th>assignee</th>\n      <th>assigner</th>\n      <th>pull_request_id</th>\n    </tr>\n  </thead>\n  <tbody>\n    <tr>\n      <th>0</th>\n      <td>7be26812-dfaa-4724-932c-6a9613761e42</td>\n      <td>None</td>\n      <td>2021-03-16 06:39:06</td>\n      <td>review_requested</td>\n      <td>4462602788</td>\n      <td>None</td>\n      <td>None</td>\n      <td>None</td>\n      <td>593619528</td>\n    </tr>\n    <tr>\n      <th>1</th>\n      <td>6d1b7901-9635-4705-a7f5-050593c619dc</td>\n      <td>5cd09a720e9b4cbac15e7fa2904286019f5752e7</td>\n      <td>2021-03-16 07:29:08</td>\n      <td>referenced</td>\n      <td>4462785578</td>\n      <td>None</td>\n      <td>None</td>\n      <td>None</td>\n      <td>593619528</td>\n    </tr>\n    <tr>\n      <th>2</th>\n      <td>6d1b7901-9635-4705-a7f5-050593c619dc</td>\n      <td>5cd09a720e9b4cbac15e7fa2904286019f5752e7</td>\n      <td>2021-03-16 07:29:08</td>\n      <td>merged</td>\n      <td>4462785582</td>\n      <td>None</td>\n      <td>None</td>\n      <td>None</td>\n      <td>593619528</td>\n    </tr>\n    <tr>\n      <th>3</th>\n      <td>6d1b7901-9635-4705-a7f5-050593c619dc</td>\n      <td>None</td>\n      <td>2021-03-16 07:29:08</td>\n      <td>closed</td>\n      <td>4462785587</td>\n      <td>None</td>\n      <td>None</td>\n      <td>None</td>\n      <td>593619528</td>\n    </tr>\n    <tr>\n      <th>4</th>\n      <td>6d1b7901-9635-4705-a7f5-050593c619dc</td>\n      <td>None</td>\n      <td>2021-03-15 10:03:37</td>\n      <td>connected</td>\n      <td>4457706622</td>\n      <td>None</td>\n      <td>None</td>\n      <td>None</td>\n      <td>592934393</td>\n    </tr>\n  </tbody>\n</table>\n</div>"
     },
     "metadata": {},
     "execution_count": 8
    }
   ],
   "source": [
    "pull_requests_events = AggPR.get_raw_pull_requests(default_data_folder,AggPR.PULL_REQUESTS_EVENTS)\n",
    "pull_requests_events.head(5)"
   ]
  }
 ]
}