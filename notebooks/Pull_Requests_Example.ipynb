{
 "metadata": {
  "language_info": {
   "codemirror_mode": {
    "name": "ipython",
    "version": 3
   },
   "file_extension": ".py",
   "mimetype": "text/x-python",
   "name": "python",
   "nbconvert_exporter": "python",
   "pygments_lexer": "ipython3",
   "version": "3.8.8"
  },
  "orig_nbformat": 2,
  "kernelspec": {
   "name": "python3",
   "display_name": "Python 3.8.8 64-bit ('github2pandas-w1NZGIDR': pipenv)",
   "metadata": {
    "interpreter": {
     "hash": "bbc2d1101b2d2c9ac52b4876cec9104522a8421c736dbc9409bbb551b79a98a4"
    }
   }
  }
 },
 "nbformat": 4,
 "nbformat_minor": 2,
 "cells": [
  {
   "source": [
    "# Test Pull Request Data Aggregation\n",
    "\n",
    "-----------------------------------------------------------------\n",
    "This example illustrates the aggregation of pull request data using the github2pandas repository. Here, all issues are read out."
   ],
   "cell_type": "markdown",
   "metadata": {}
  },
  {
   "cell_type": "code",
   "execution_count": null,
   "metadata": {},
   "outputs": [],
   "source": [
    "from github2pandas.pull_requests import PullRequests\n",
    "from github2pandas.utility import Utility\n",
    "from pathlib import Path"
   ]
  },
  {
   "source": [
    "## Basic Usage\n",
    "\n",
    "The most important input parameter is an Repository object from PyGitHub-Package."
   ],
   "cell_type": "markdown",
   "metadata": {}
  },
  {
   "cell_type": "code",
   "execution_count": null,
   "metadata": {},
   "outputs": [],
   "source": [
    "git_repo_name = \"Extract_Git_Activities\"\n",
    "git_repo_owner = \"TUBAF-IFI-DiPiT\"\n",
    "    \n",
    "default_data_folder = Path(\"data\", git_repo_name)\n",
    "\n",
    "import os\n",
    "github_token = os.environ['TOKEN']\n",
    "# If you do not include your Github Token in .env, its neccessary to integrate it here. \n",
    "# github_token = \"yourToken\"\n",
    "\n",
    "repo = Utility.get_repo(git_repo_owner, git_repo_name, github_token, default_data_folder)"
   ]
  },
  {
   "source": [
    "The code snipet generates a raw data set based on repo information."
   ],
   "cell_type": "markdown",
   "metadata": {}
  },
  {
   "cell_type": "code",
   "execution_count": null,
   "metadata": {},
   "outputs": [],
   "source": [
    "PullRequests.generate_pull_request_pandas_tables(repo, default_data_folder)"
   ]
  },
  {
   "cell_type": "code",
   "execution_count": null,
   "metadata": {},
   "outputs": [],
   "source": [
    "pull_requests = PullRequests.get_pull_requests(default_data_folder,PullRequests.PULL_REQUESTS)\n",
    "pull_requests.head(100)"
   ]
  },
  {
   "cell_type": "code",
   "execution_count": null,
   "metadata": {},
   "outputs": [],
   "source": [
    "pull_requests_comments = PullRequests.get_pull_requests(default_data_folder,PullRequests.PULL_REQUESTS_COMMENTS)\n",
    "pull_requests_comments.head(5)"
   ]
  },
  {
   "cell_type": "code",
   "execution_count": null,
   "metadata": {},
   "outputs": [],
   "source": [
    "pull_requests_reactions = PullRequests.get_pull_requests(default_data_folder,PullRequests.PULL_REQUESTS_REACTIONS)\n",
    "pull_requests_reactions.head(5)"
   ]
  },
  {
   "cell_type": "code",
   "execution_count": null,
   "metadata": {},
   "outputs": [],
   "source": [
    "pull_requests_reviews = PullRequests.get_pull_requests(default_data_folder,PullRequests.PULL_REQUESTS_REVIEWS)\n",
    "pull_requests_reviews.head(5)"
   ]
  },
  {
   "cell_type": "code",
   "execution_count": null,
   "metadata": {},
   "outputs": [],
   "source": [
    "pull_requests_events = PullRequests.get_pull_requests(default_data_folder,PullRequests.PULL_REQUESTS_EVENTS)\n",
    "pull_requests_events.head(5)"
   ]
  }
 ]
}