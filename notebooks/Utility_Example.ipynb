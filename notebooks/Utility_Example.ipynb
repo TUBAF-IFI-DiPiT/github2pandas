{
 "metadata": {
  "language_info": {
   "codemirror_mode": {
    "name": "ipython",
    "version": 3
   },
   "file_extension": ".py",
   "mimetype": "text/x-python",
   "name": "python",
   "nbconvert_exporter": "python",
   "pygments_lexer": "ipython3",
   "version": "3.8.8-final"
  },
  "orig_nbformat": 2,
  "kernelspec": {
   "name": "python3",
   "display_name": "Python 3.8.8 64-bit ('Extract_Git_Activities': pipenv)",
   "metadata": {
    "interpreter": {
     "hash": "a74db7c17bb42bdc6782337ffe9f6e69d149f4d998b99f4435b4ceded118fa02"
    }
   }
  }
 },
 "nbformat": 4,
 "nbformat_minor": 2,
 "cells": [
  {
   "source": [
    "# Test Utility\n",
    "\n",
    "-----------------------------------------------------------------\n",
    "This example illustrates the utility using the github2pandas repository. Here, all issues are read out."
   ],
   "cell_type": "markdown",
   "metadata": {}
  },
  {
   "cell_type": "code",
   "execution_count": 1,
   "metadata": {},
   "outputs": [],
   "source": [
    "\n",
    "from github2pandas.aggregation.utility import Utility\n",
    "from pathlib import Path"
   ]
  },
  {
   "cell_type": "code",
   "execution_count": 2,
   "metadata": {},
   "outputs": [
    {
     "output_type": "execute_result",
     "data": {
      "text/plain": [
       "                            anonym_uuid          id             name email  \\\n",
       "0  6d1b7901-9635-4705-a7f5-050593c619dc  27953601.0  Maximilian Karl  None   \n",
       "1  7be26812-dfaa-4724-932c-6a9613761e42  10922356.0    Sebastian Zug  None   \n",
       "2  d17678d7-409f-4704-b0a4-39925b1b169e  19864447.0  GitHub Web Flow  None   \n",
       "\n",
       "            login  \n",
       "0  MaximilianKarl  \n",
       "1    SebastianZug  \n",
       "2        web-flow  "
      ],
      "text/html": "<div>\n<style scoped>\n    .dataframe tbody tr th:only-of-type {\n        vertical-align: middle;\n    }\n\n    .dataframe tbody tr th {\n        vertical-align: top;\n    }\n\n    .dataframe thead th {\n        text-align: right;\n    }\n</style>\n<table border=\"1\" class=\"dataframe\">\n  <thead>\n    <tr style=\"text-align: right;\">\n      <th></th>\n      <th>anonym_uuid</th>\n      <th>id</th>\n      <th>name</th>\n      <th>email</th>\n      <th>login</th>\n    </tr>\n  </thead>\n  <tbody>\n    <tr>\n      <th>0</th>\n      <td>6d1b7901-9635-4705-a7f5-050593c619dc</td>\n      <td>27953601.0</td>\n      <td>Maximilian Karl</td>\n      <td>None</td>\n      <td>MaximilianKarl</td>\n    </tr>\n    <tr>\n      <th>1</th>\n      <td>7be26812-dfaa-4724-932c-6a9613761e42</td>\n      <td>10922356.0</td>\n      <td>Sebastian Zug</td>\n      <td>None</td>\n      <td>SebastianZug</td>\n    </tr>\n    <tr>\n      <th>2</th>\n      <td>d17678d7-409f-4704-b0a4-39925b1b169e</td>\n      <td>19864447.0</td>\n      <td>GitHub Web Flow</td>\n      <td>None</td>\n      <td>web-flow</td>\n    </tr>\n  </tbody>\n</table>\n</div>"
     },
     "metadata": {},
     "execution_count": 2
    }
   ],
   "source": [
    "git_repo_name = \"Extract_Git_Activities\"\n",
    "    \n",
    "default_data_folder = Path(\"data\", git_repo_name)\n",
    "users = Utility.get_raw_users(default_data_folder)\n",
    "users.head(10)"
   ]
  },
  {
   "cell_type": "code",
   "execution_count": null,
   "metadata": {},
   "outputs": [],
   "source": []
  }
 ]
}