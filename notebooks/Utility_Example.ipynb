{
 "metadata": {
  "language_info": {
   "codemirror_mode": {
    "name": "ipython",
    "version": 3
   },
   "file_extension": ".py",
   "mimetype": "text/x-python",
   "name": "python",
   "nbconvert_exporter": "python",
   "pygments_lexer": "ipython3",
   "version": "3.8.8"
  },
  "orig_nbformat": 2,
  "kernelspec": {
   "name": "python3",
   "display_name": "Python 3.8.8 64-bit ('Extract_Git_Activities-RpQ-ZppZ': pipenv)",
   "metadata": {
    "interpreter": {
     "hash": "a74db7c17bb42bdc6782337ffe9f6e69d149f4d998b99f4435b4ceded118fa02"
    }
   }
  }
 },
 "nbformat": 4,
 "nbformat_minor": 2,
 "cells": [
  {
   "source": [
    "# Test Utility\n",
    "\n",
    "-----------------------------------------------------------------\n",
    "This example illustrates the utility using the github2pandas repository. Here, all issues are read out."
   ],
   "cell_type": "markdown",
   "metadata": {}
  },
  {
   "cell_type": "code",
   "execution_count": 1,
   "metadata": {},
   "outputs": [],
   "source": [
    "\n",
    "from github2pandas.utility import Utility\n",
    "from pathlib import Path"
   ]
  },
  {
   "cell_type": "code",
   "execution_count": 2,
   "metadata": {},
   "outputs": [
    {
     "output_type": "execute_result",
     "data": {
      "text/plain": [
       "                            anonym_uuid email                    id  \\\n",
       "0  e6d5cd20-22f9-4a66-b577-f13dc7c156ae  None  MDQ6VXNlcjI3OTUzNjAx   \n",
       "1  5c3b3e65-da18-459a-91fe-e1ea1e0bfbd2  None  MDQ6VXNlcjEwOTIyMzU2   \n",
       "2  8c30b0c1-b9ad-4c48-83a7-c6a5f413ed53  None  MDQ6VXNlcjE5ODY0NDQ3   \n",
       "\n",
       "            login             name  \n",
       "0  MaximilianKarl  Maximilian Karl  \n",
       "1    SebastianZug    Sebastian Zug  \n",
       "2        web-flow  GitHub Web Flow  "
      ],
      "text/html": "<div>\n<style scoped>\n    .dataframe tbody tr th:only-of-type {\n        vertical-align: middle;\n    }\n\n    .dataframe tbody tr th {\n        vertical-align: top;\n    }\n\n    .dataframe thead th {\n        text-align: right;\n    }\n</style>\n<table border=\"1\" class=\"dataframe\">\n  <thead>\n    <tr style=\"text-align: right;\">\n      <th></th>\n      <th>anonym_uuid</th>\n      <th>email</th>\n      <th>id</th>\n      <th>login</th>\n      <th>name</th>\n    </tr>\n  </thead>\n  <tbody>\n    <tr>\n      <th>0</th>\n      <td>e6d5cd20-22f9-4a66-b577-f13dc7c156ae</td>\n      <td>None</td>\n      <td>MDQ6VXNlcjI3OTUzNjAx</td>\n      <td>MaximilianKarl</td>\n      <td>Maximilian Karl</td>\n    </tr>\n    <tr>\n      <th>1</th>\n      <td>5c3b3e65-da18-459a-91fe-e1ea1e0bfbd2</td>\n      <td>None</td>\n      <td>MDQ6VXNlcjEwOTIyMzU2</td>\n      <td>SebastianZug</td>\n      <td>Sebastian Zug</td>\n    </tr>\n    <tr>\n      <th>2</th>\n      <td>8c30b0c1-b9ad-4c48-83a7-c6a5f413ed53</td>\n      <td>None</td>\n      <td>MDQ6VXNlcjE5ODY0NDQ3</td>\n      <td>web-flow</td>\n      <td>GitHub Web Flow</td>\n    </tr>\n  </tbody>\n</table>\n</div>"
     },
     "metadata": {},
     "execution_count": 2
    }
   ],
   "source": [
    "git_repo_name = \"Extract_Git_Activities\"\n",
    "    \n",
    "default_data_folder = Path(\"data\", git_repo_name)\n",
    "users = Utility.get_users(default_data_folder)\n",
    "users.head(10)"
   ]
  },
  {
   "cell_type": "code",
   "execution_count": null,
   "metadata": {},
   "outputs": [],
   "source": []
  }
 ]
}