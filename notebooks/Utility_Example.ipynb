{
 "metadata": {
  "language_info": {
   "codemirror_mode": {
    "name": "ipython",
    "version": 3
   },
   "file_extension": ".py",
   "mimetype": "text/x-python",
   "name": "python",
   "nbconvert_exporter": "python",
   "pygments_lexer": "ipython3",
   "version": "3.8.8-final"
  },
  "orig_nbformat": 2,
  "kernelspec": {
   "name": "python3",
   "display_name": "Python 3.8.8 64-bit ('Extract_Git_Activities': pipenv)",
   "metadata": {
    "interpreter": {
     "hash": "a74db7c17bb42bdc6782337ffe9f6e69d149f4d998b99f4435b4ceded118fa02"
    }
   }
  }
 },
 "nbformat": 4,
 "nbformat_minor": 2,
 "cells": [
  {
   "source": [
    "# Test Utility\n",
    "\n",
    "-----------------------------------------------------------------\n",
    "This example illustrates the utility using the github2pandas repository. Here, all issues are read out."
   ],
   "cell_type": "markdown",
   "metadata": {}
  },
  {
   "cell_type": "code",
   "execution_count": 1,
   "metadata": {},
   "outputs": [],
   "source": [
    "\n",
    "from github2pandas.aggregation.utility import Utility\n",
    "from pathlib import Path"
   ]
  },
  {
   "cell_type": "code",
   "execution_count": 2,
   "metadata": {},
   "outputs": [
    {
     "output_type": "execute_result",
     "data": {
      "text/plain": [
       "                            anonym_uuid                    id           login\n",
       "0  b27ecf24-72f2-423e-90a1-bd0fc850be8f  MDQ6VXNlcjI3OTUzNjAx  MaximilianKarl\n",
       "1  68c4f91d-2f0e-44ae-a9f7-6887bd7c2ebc  MDQ6VXNlcjEwOTIyMzU2    SebastianZug"
      ],
      "text/html": "<div>\n<style scoped>\n    .dataframe tbody tr th:only-of-type {\n        vertical-align: middle;\n    }\n\n    .dataframe tbody tr th {\n        vertical-align: top;\n    }\n\n    .dataframe thead th {\n        text-align: right;\n    }\n</style>\n<table border=\"1\" class=\"dataframe\">\n  <thead>\n    <tr style=\"text-align: right;\">\n      <th></th>\n      <th>anonym_uuid</th>\n      <th>id</th>\n      <th>login</th>\n    </tr>\n  </thead>\n  <tbody>\n    <tr>\n      <th>0</th>\n      <td>b27ecf24-72f2-423e-90a1-bd0fc850be8f</td>\n      <td>MDQ6VXNlcjI3OTUzNjAx</td>\n      <td>MaximilianKarl</td>\n    </tr>\n    <tr>\n      <th>1</th>\n      <td>68c4f91d-2f0e-44ae-a9f7-6887bd7c2ebc</td>\n      <td>MDQ6VXNlcjEwOTIyMzU2</td>\n      <td>SebastianZug</td>\n    </tr>\n  </tbody>\n</table>\n</div>"
     },
     "metadata": {},
     "execution_count": 2
    }
   ],
   "source": [
    "git_repo_name = \"Extract_Git_Activities\"\n",
    "    \n",
    "default_data_folder = Path(\"data\", git_repo_name)\n",
    "users = Utility.get_users(default_data_folder)\n",
    "users.head(10)"
   ]
  },
  {
   "cell_type": "code",
   "execution_count": null,
   "metadata": {},
   "outputs": [],
   "source": []
  }
 ]
}