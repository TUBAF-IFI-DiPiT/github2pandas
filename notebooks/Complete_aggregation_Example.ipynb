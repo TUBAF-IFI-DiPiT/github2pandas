{
 "metadata": {
  "language_info": {
   "codemirror_mode": {
    "name": "ipython",
    "version": 3
   },
   "file_extension": ".py",
   "mimetype": "text/x-python",
   "name": "python",
   "nbconvert_exporter": "python",
   "pygments_lexer": "ipython3",
   "version": "3.8.8-final"
  },
  "orig_nbformat": 2,
  "kernelspec": {
   "name": "python3",
   "display_name": "Python 3.8.8 64-bit ('Extract_Git_Activities': pipenv)",
   "metadata": {
    "interpreter": {
     "hash": "a74db7c17bb42bdc6782337ffe9f6e69d149f4d998b99f4435b4ceded118fa02"
    }
   }
  }
 },
 "nbformat": 4,
 "nbformat_minor": 2,
 "cells": [
  {
   "source": [
    "This Examples shows how to aggregate everything from a Repository"
   ],
   "cell_type": "markdown",
   "metadata": {}
  },
  {
   "cell_type": "code",
   "execution_count": 1,
   "metadata": {},
   "outputs": [],
   "source": [
    "from github2pandas.aggregation.issues import AggIssues\n",
    "from github2pandas.aggregation.pull_requests import AggPullRequest\n",
    "from github2pandas.aggregation.version import AggVersion\n",
    "from github2pandas.aggregation.workflows import AggWorkflow\n",
    "from github2pandas.aggregation.utility import Utility\n",
    "from pathlib import Path\n",
    "import time"
   ]
  },
  {
   "source": [
    "## Basic Usage\n",
    "\n",
    "The most important input parameter is an Repository object from PyGitHub-Package."
   ],
   "cell_type": "markdown",
   "metadata": {}
  },
  {
   "cell_type": "code",
   "execution_count": 2,
   "metadata": {},
   "outputs": [],
   "source": [
    "git_repo_name = \"Extract_Git_Activities\"\n",
    "git_repo_owner = \"TUBAF-IFI-DiPiT\"\n",
    "    \n",
    "default_data_folder = Path(\"data\", git_repo_name)\n",
    "\n",
    "import os\n",
    "github_token = os.environ['TOKEN']\n",
    "# If you do not include your Github Token in .env, its neccessary to integrate it here. \n",
    "# github_token = \"yourToken\"\n",
    "\n",
    "repo = Utility.get_repo(git_repo_owner, git_repo_name, github_token)"
   ]
  },
  {
   "source": [
    "## Aggregation"
   ],
   "cell_type": "markdown",
   "metadata": {}
  },
  {
   "source": [
    "print(\"Issues\")\n",
    "start_time = time.time()\n",
    "AggIssues.generate_issue_pandas_tables(repo, default_data_folder)\n",
    "print(\"Time: %.3fs\" % (time.time() - start_time))\n",
    "print(\"Pull Requests\")\n",
    "start_time = time.time()\n",
    "AggPullRequest.generate_pull_request_pandas_tables(repo, default_data_folder)\n",
    "print(\"Time: %.3fs\" % (time.time() - start_time))\n",
    "print(\"Version\")\n",
    "start_time = time.time()\n",
    "AggVersion.clone_repository(repo=repo, data_root_dir=default_data_folder, github_token=github_token)\n",
    "AggVersion.generate_version_pandas_tables(data_root_dir=default_data_folder)\n",
    "print(\"Time: %.3fs\" % (time.time() - start_time))\n",
    "print(\"Workflows\")\n",
    "start_time = time.time()\n",
    "AggWorkflow.generate_workflow_pandas_tables(repo=repo, data_root_dir=default_data_folder)\n",
    "print(\"Time: %.3fs\" % (time.time() - start_time))"
   ],
   "cell_type": "code",
   "metadata": {},
   "execution_count": 3,
   "outputs": [
    {
     "output_type": "stream",
     "name": "stdout",
     "text": [
      "Issues\n",
      "Time: 35.334s\n",
      "Pull Requests\n",
      "Time: 65.277s\n",
      "Version\n",
      "   bug-fix/tests \n",
      "   documentation \n",
      "   feat/commit \n",
      "   feature/restructure-project \n",
      "   notebook \n",
      "   workflows \n",
      "--------------------------------------\n",
      "1\n",
      "--------------------------------------\n",
      "Found no database on provided path. Starting from scratch.\n",
      "Serial: 100%|██████████| 105/105 [01:28<00:00,  1.18it/s]\n",
      "Time: 90.326s\n",
      "Workflows\n",
      "Time: 21.080s\n"
     ]
    }
   ]
  },
  {
   "source": [
    "## Aggregation with mutiple thread"
   ],
   "cell_type": "markdown",
   "metadata": {}
  },
  {
   "cell_type": "code",
   "execution_count": 4,
   "metadata": {},
   "outputs": [
    {
     "output_type": "stream",
     "name": "stderr",
     "text": [
      "Exception in thread Thread-3668:\n",
      "Traceback (most recent call last):\n",
      "  File \"c:\\users\\pinkwart-group\\appdata\\local\\programs\\python\\python38\\lib\\threading.py\", line 932, in _bootstrap_inner\n",
      "    self.run()\n",
      "  File \"c:\\users\\pinkwart-group\\appdata\\local\\programs\\python\\python38\\lib\\threading.py\", line 870, in run\n",
      "    self._target(*self._args, **self._kwargs)\n",
      "  File \"<ipython-input-4-962dc97ed117>\", line 10, in agg_verion\n",
      "  File \"c:\\users\\pinkwart-group\\source\\repos\\extract_git_activities\\github2pandas\\aggregation\\version.py\", line 84, in clone_repository\n",
      "    shutil.rmtree(repo_dir.resolve())\n",
      "  File \"c:\\users\\pinkwart-group\\appdata\\local\\programs\\python\\python38\\lib\\shutil.py\", line 740, in rmtree\n",
      "    return _rmtree_unsafe(path, onerror)\n",
      "  File \"c:\\users\\pinkwart-group\\appdata\\local\\programs\\python\\python38\\lib\\shutil.py\", line 613, in _rmtree_unsafe\n",
      "    _rmtree_unsafe(fullname, onerror)\n",
      "  File \"c:\\users\\pinkwart-group\\appdata\\local\\programs\\python\\python38\\lib\\shutil.py\", line 613, in _rmtree_unsafe\n",
      "    _rmtree_unsafe(fullname, onerror)\n",
      "  File \"c:\\users\\pinkwart-group\\appdata\\local\\programs\\python\\python38\\lib\\shutil.py\", line 613, in _rmtree_unsafe\n",
      "    _rmtree_unsafe(fullname, onerror)\n",
      "  File \"c:\\users\\pinkwart-group\\appdata\\local\\programs\\python\\python38\\lib\\shutil.py\", line 618, in _rmtree_unsafe\n",
      "    onerror(os.unlink, fullname, sys.exc_info())\n",
      "  File \"c:\\users\\pinkwart-group\\appdata\\local\\programs\\python\\python38\\lib\\shutil.py\", line 616, in _rmtree_unsafe\n",
      "    os.unlink(fullname)\n",
      "PermissionError: [WinError 5] Zugriff verweigert: 'C:\\\\Users\\\\pinkwart-group\\\\source\\\\repos\\\\Extract_Git_Activities\\\\notebooks\\\\data\\\\Extract_Git_Activities\\\\Versions\\\\repo\\\\.git\\\\objects\\\\pack\\\\pack-ac8b86716864e5bd72dc0e8afc9eca5613d579a3.idx'\n",
      "Start all\n",
      "\n",
      "Time: 66.530s\n"
     ]
    }
   ],
   "source": [
    "import threading\n",
    "\n",
    "print(\"Start all\")\n",
    "start_time = time.time()\n",
    "issues = threading.Thread(target=AggIssues.generate_issue_pandas_tables, args=(repo, default_data_folder))\n",
    "issues.start()\n",
    "pull_request = threading.Thread(target=AggPullRequest.generate_pull_request_pandas_tables, args=(repo, default_data_folder))\n",
    "pull_request.start()\n",
    "def agg_verion(repo, data_root_dir, github_token):\n",
    "    AggVersion.clone_repository(repo=repo, data_root_dir=default_data_folder, github_token=github_token)\n",
    "    AggVersion.generate_version_pandas_tables(data_root_dir=default_data_folder)\n",
    "version = threading.Thread(target=agg_verion, args=(repo, default_data_folder, github_token))\n",
    "version.start()\n",
    "workflow = threading.Thread(target=AggWorkflow.generate_workflow_pandas_tables, args=(repo, default_data_folder))\n",
    "workflow.start()\n",
    "issues.join()\n",
    "pull_request.join()\n",
    "version.join()\n",
    "workflow.join()\n",
    "print(\"\")\n",
    "print(\"Time: %.3fs\" % (time.time() - start_time))"
   ]
  },
  {
   "cell_type": "code",
   "execution_count": null,
   "metadata": {},
   "outputs": [],
   "source": []
  }
 ]
}