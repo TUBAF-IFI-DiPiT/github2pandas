{
 "cells": [
  {
   "cell_type": "code",
   "execution_count": 1,
   "metadata": {},
   "outputs": [],
   "source": [
    "%load_ext autoreload\n",
    "%autoreload 2"
   ]
  },
  {
   "cell_type": "markdown",
   "metadata": {},
   "source": [
    "# Test Version Data Aggregation\n",
    "\n",
    "-----------------------------------------------------------------\n",
    "This example illustrates the aggregation of version data (commits and edits) using the `github2pandas` repository. "
   ]
  },
  {
   "cell_type": "code",
   "execution_count": 2,
   "metadata": {},
   "outputs": [],
   "source": [
    "from github2pandas.version import Version\n",
    "from github2pandas.utility import Utility\n",
    "from pathlib import Path\n",
    "import time"
   ]
  },
  {
   "cell_type": "markdown",
   "metadata": {},
   "source": [
    "## Basic Usage\n",
    "\n",
    "The most important input parameter is an Repository object from PyGitHub-Package."
   ]
  },
  {
   "cell_type": "code",
   "execution_count": 3,
   "metadata": {},
   "outputs": [],
   "source": [
    "git_repo_name = \"Extract_Git_Activities\"\n",
    "git_repo_owner = \"TUBAF-IFI-DiPiT\"\n",
    "    \n",
    "default_data_folder = Path(\"data\", git_repo_name)\n",
    "\n",
    "import os\n",
    "token = os.environ['TOKEN']\n",
    "# If you do not include your Github Token in .env, its neccessary to integrate it here. \n",
    "# github_token = \"yourToken\"\n",
    "\n",
    "repo = Utility.get_repo(git_repo_owner, git_repo_name, token, default_data_folder)"
   ]
  },
  {
   "cell_type": "markdown",
   "metadata": {},
   "source": [
    "### Step 1: Cloning repository"
   ]
  },
  {
   "cell_type": "code",
   "execution_count": 4,
   "metadata": {},
   "outputs": [
    {
     "output_type": "stream",
     "name": "stdout",
     "text": [
      "Handling Error for file  C:\\Users\\pinkwart-group\\source\\repos\\Extract_Git_Activities\\notebooks\\data\\Extract_Git_Activities\\Versions\\repo\\.git\\objects\\pack\\pack-b927fcd5d8d43eb71727c858f500788429f36047.idx\n",
      "(<class 'PermissionError'>, PermissionError(13, 'Zugriff verweigert'), <traceback object at 0x000001AFCD07DAC0>)\n",
      "Handling Error for file  C:\\Users\\pinkwart-group\\source\\repos\\Extract_Git_Activities\\notebooks\\data\\Extract_Git_Activities\\Versions\\repo\\.git\\objects\\pack\\pack-b927fcd5d8d43eb71727c858f500788429f36047.pack\n",
      "(<class 'PermissionError'>, PermissionError(13, 'Zugriff verweigert'), <traceback object at 0x000001AFAD88F300>)\n",
      "   bug-fix/tests \n",
      "   documentation \n",
      "   feat/commit \n",
      "   feature/small-changes \n",
      "   notebook \n",
      "   workflows \n"
     ]
    },
    {
     "output_type": "execute_result",
     "data": {
      "text/plain": [
       "True"
      ]
     },
     "metadata": {},
     "execution_count": 4
    }
   ],
   "source": [
    "Version.clone_repository(repo=repo, data_root_dir=default_data_folder, github_token=token)"
   ]
  },
  {
   "source": [
    "### Step 2: Mining Repository via git2net"
   ],
   "cell_type": "markdown",
   "metadata": {}
  },
  {
   "cell_type": "code",
   "execution_count": 5,
   "metadata": {},
   "outputs": [
    {
     "output_type": "stream",
     "name": "stderr",
     "text": [
      "Serial:   0%|          | 0/136 [00:00<?, ?it/s]Found no database on provided path. Starting from scratch.\n",
      "Serial: 100%|██████████| 136/136 [02:14<00:00,  1.01it/s]\n",
      "\n",
      "Time: 134.600s\n",
      "Found no database on provided path. Starting from scratch.\n"
     ]
    },
    {
     "output_type": "error",
     "ename": "AttributeError",
     "evalue": "Can't pickle local object '_process_repo_parallel.<locals>._init'",
     "traceback": [
      "\u001b[1;31m---------------------------------------------------------------------------\u001b[0m",
      "\u001b[1;31mAttributeError\u001b[0m                            Traceback (most recent call last)",
      "\u001b[1;32m<ipython-input-5-58164beaaa3a>\u001b[0m in \u001b[0;36m<module>\u001b[1;34m\u001b[0m\n\u001b[0;32m      8\u001b[0m \u001b[0mVersion\u001b[0m\u001b[1;33m.\u001b[0m\u001b[0mno_of_proceses\u001b[0m \u001b[1;33m=\u001b[0m \u001b[1;36m4\u001b[0m\u001b[1;33m\u001b[0m\u001b[1;33m\u001b[0m\u001b[0m\n\u001b[0;32m      9\u001b[0m \u001b[0mstart_time\u001b[0m \u001b[1;33m=\u001b[0m \u001b[0mtime\u001b[0m\u001b[1;33m.\u001b[0m\u001b[0mtime\u001b[0m\u001b[1;33m(\u001b[0m\u001b[1;33m)\u001b[0m\u001b[1;33m\u001b[0m\u001b[1;33m\u001b[0m\u001b[0m\n\u001b[1;32m---> 10\u001b[1;33m \u001b[0mVersion\u001b[0m\u001b[1;33m.\u001b[0m\u001b[0mgenerate_version_pandas_tables\u001b[0m\u001b[1;33m(\u001b[0m\u001b[0mdata_root_dir\u001b[0m\u001b[1;33m=\u001b[0m\u001b[0mdefault_data_folder\u001b[0m\u001b[1;33m)\u001b[0m\u001b[1;33m\u001b[0m\u001b[1;33m\u001b[0m\u001b[0m\n\u001b[0m\u001b[0;32m     11\u001b[0m \u001b[0mprint\u001b[0m\u001b[1;33m(\u001b[0m\u001b[1;34m\"\\nTime: %.3fs\"\u001b[0m \u001b[1;33m%\u001b[0m \u001b[1;33m(\u001b[0m\u001b[0mtime\u001b[0m\u001b[1;33m.\u001b[0m\u001b[0mtime\u001b[0m\u001b[1;33m(\u001b[0m\u001b[1;33m)\u001b[0m \u001b[1;33m-\u001b[0m \u001b[0mstart_time\u001b[0m\u001b[1;33m)\u001b[0m\u001b[1;33m)\u001b[0m\u001b[1;33m\u001b[0m\u001b[1;33m\u001b[0m\u001b[0m\n",
      "\u001b[1;32mc:\\users\\pinkwart-group\\source\\repos\\extract_git_activities\\github2pandas\\version.py\u001b[0m in \u001b[0;36mgenerate_version_pandas_tables\u001b[1;34m(data_root_dir)\u001b[0m\n\u001b[0;32m    197\u001b[0m         \"\"\"\n\u001b[0;32m    198\u001b[0m \u001b[1;33m\u001b[0m\u001b[0m\n\u001b[1;32m--> 199\u001b[1;33m         \u001b[0mVersion\u001b[0m\u001b[1;33m.\u001b[0m\u001b[0mgenerate_data_base\u001b[0m\u001b[1;33m(\u001b[0m\u001b[0mdata_root_dir\u001b[0m\u001b[1;33m)\u001b[0m\u001b[1;33m\u001b[0m\u001b[1;33m\u001b[0m\u001b[0m\n\u001b[0m\u001b[0;32m    200\u001b[0m \u001b[1;33m\u001b[0m\u001b[0m\n\u001b[0;32m    201\u001b[0m         \u001b[0mversion_folder\u001b[0m \u001b[1;33m=\u001b[0m \u001b[0mPath\u001b[0m\u001b[1;33m(\u001b[0m\u001b[0mdata_root_dir\u001b[0m\u001b[1;33m,\u001b[0m \u001b[0mVersion\u001b[0m\u001b[1;33m.\u001b[0m\u001b[0mVERSION_DIR\u001b[0m\u001b[1;33m)\u001b[0m\u001b[1;33m\u001b[0m\u001b[1;33m\u001b[0m\u001b[0m\n",
      "\u001b[1;32mc:\\users\\pinkwart-group\\source\\repos\\extract_git_activities\\github2pandas\\version.py\u001b[0m in \u001b[0;36mgenerate_data_base\u001b[1;34m(data_root_dir)\u001b[0m\n\u001b[0;32m    172\u001b[0m             \u001b[0mos\u001b[0m\u001b[1;33m.\u001b[0m\u001b[0mremove\u001b[0m\u001b[1;33m(\u001b[0m\u001b[0msqlite_db_file\u001b[0m\u001b[1;33m)\u001b[0m\u001b[1;33m\u001b[0m\u001b[1;33m\u001b[0m\u001b[0m\n\u001b[0;32m    173\u001b[0m \u001b[1;33m\u001b[0m\u001b[0m\n\u001b[1;32m--> 174\u001b[1;33m         git2net.mine_git_repo(repo_dir, sqlite_db_file,\n\u001b[0m\u001b[0;32m    175\u001b[0m                               \u001b[0mextract_complexity\u001b[0m\u001b[1;33m=\u001b[0m\u001b[1;32mTrue\u001b[0m\u001b[1;33m,\u001b[0m\u001b[1;33m\u001b[0m\u001b[1;33m\u001b[0m\u001b[0m\n\u001b[0;32m    176\u001b[0m                               \u001b[0mextract_text\u001b[0m\u001b[1;33m=\u001b[0m\u001b[1;32mTrue\u001b[0m\u001b[1;33m,\u001b[0m\u001b[1;33m\u001b[0m\u001b[1;33m\u001b[0m\u001b[0m\n",
      "\u001b[1;32m~\\.virtualenvs\\Extract_Git_Activities-RpQ-ZppZ\\lib\\site-packages\\git2net\\extraction.py\u001b[0m in \u001b[0;36mmine_git_repo\u001b[1;34m(git_repo_dir, sqlite_db_file, commits, use_blocks, no_of_processes, chunksize, exclude, blame_C, blame_w, max_modifications, timeout, extract_text, extract_complexity, extract_merges, extract_merge_deletions, all_branches)\u001b[0m\n\u001b[0;32m   1568\u001b[0m \u001b[1;33m\u001b[0m\u001b[0m\n\u001b[0;32m   1569\u001b[0m     \u001b[1;32mif\u001b[0m \u001b[0mextraction_settings\u001b[0m\u001b[1;33m[\u001b[0m\u001b[1;34m'no_of_processes'\u001b[0m\u001b[1;33m]\u001b[0m \u001b[1;33m>\u001b[0m \u001b[1;36m1\u001b[0m\u001b[1;33m:\u001b[0m\u001b[1;33m\u001b[0m\u001b[1;33m\u001b[0m\u001b[0m\n\u001b[1;32m-> 1570\u001b[1;33m         \u001b[0m_process_repo_parallel\u001b[0m\u001b[1;33m(\u001b[0m\u001b[0mgit_repo_dir\u001b[0m\u001b[1;33m,\u001b[0m \u001b[0msqlite_db_file\u001b[0m\u001b[1;33m,\u001b[0m \u001b[0mu_commits\u001b[0m\u001b[1;33m,\u001b[0m \u001b[0mextraction_settings\u001b[0m\u001b[1;33m)\u001b[0m\u001b[1;33m\u001b[0m\u001b[1;33m\u001b[0m\u001b[0m\n\u001b[0m\u001b[0;32m   1571\u001b[0m     \u001b[1;32melse\u001b[0m\u001b[1;33m:\u001b[0m\u001b[1;33m\u001b[0m\u001b[1;33m\u001b[0m\u001b[0m\n\u001b[0;32m   1572\u001b[0m         \u001b[0m_process_repo_serial\u001b[0m\u001b[1;33m(\u001b[0m\u001b[0mgit_repo_dir\u001b[0m\u001b[1;33m,\u001b[0m \u001b[0msqlite_db_file\u001b[0m\u001b[1;33m,\u001b[0m \u001b[0mu_commits\u001b[0m\u001b[1;33m,\u001b[0m \u001b[0mextraction_settings\u001b[0m\u001b[1;33m)\u001b[0m\u001b[1;33m\u001b[0m\u001b[1;33m\u001b[0m\u001b[0m\n",
      "\u001b[1;32m~\\.virtualenvs\\Extract_Git_Activities-RpQ-ZppZ\\lib\\site-packages\\git2net\\extraction.py\u001b[0m in \u001b[0;36m_process_repo_parallel\u001b[1;34m(git_repo_dir, sqlite_db_file, commits, extraction_settings)\u001b[0m\n\u001b[0;32m   1164\u001b[0m         \u001b[0mgit_init_lock\u001b[0m \u001b[1;33m=\u001b[0m \u001b[0mgit_init_lock_\u001b[0m\u001b[1;33m\u001b[0m\u001b[1;33m\u001b[0m\u001b[0m\n\u001b[0;32m   1165\u001b[0m \u001b[1;33m\u001b[0m\u001b[0m\n\u001b[1;32m-> 1166\u001b[1;33m     with multiprocessing.Pool(extraction_settings['no_of_processes'],\n\u001b[0m\u001b[0;32m   1167\u001b[0m                               initializer=_init, initargs=(git_repo_dir,git_init_lock)) as p:\n\u001b[0;32m   1168\u001b[0m         with tqdm(total=len(args), desc='Parallel ({0} processes)' \\\n",
      "\u001b[1;32mc:\\users\\pinkwart-group\\appdata\\local\\programs\\python\\python38\\lib\\multiprocessing\\context.py\u001b[0m in \u001b[0;36mPool\u001b[1;34m(self, processes, initializer, initargs, maxtasksperchild)\u001b[0m\n\u001b[0;32m    117\u001b[0m         \u001b[1;34m'''Returns a process pool object'''\u001b[0m\u001b[1;33m\u001b[0m\u001b[1;33m\u001b[0m\u001b[0m\n\u001b[0;32m    118\u001b[0m         \u001b[1;32mfrom\u001b[0m \u001b[1;33m.\u001b[0m\u001b[0mpool\u001b[0m \u001b[1;32mimport\u001b[0m \u001b[0mPool\u001b[0m\u001b[1;33m\u001b[0m\u001b[1;33m\u001b[0m\u001b[0m\n\u001b[1;32m--> 119\u001b[1;33m         return Pool(processes, initializer, initargs, maxtasksperchild,\n\u001b[0m\u001b[0;32m    120\u001b[0m                     context=self.get_context())\n\u001b[0;32m    121\u001b[0m \u001b[1;33m\u001b[0m\u001b[0m\n",
      "\u001b[1;32mc:\\users\\pinkwart-group\\appdata\\local\\programs\\python\\python38\\lib\\multiprocessing\\pool.py\u001b[0m in \u001b[0;36m__init__\u001b[1;34m(self, processes, initializer, initargs, maxtasksperchild, context)\u001b[0m\n\u001b[0;32m    210\u001b[0m         \u001b[0mself\u001b[0m\u001b[1;33m.\u001b[0m\u001b[0m_processes\u001b[0m \u001b[1;33m=\u001b[0m \u001b[0mprocesses\u001b[0m\u001b[1;33m\u001b[0m\u001b[1;33m\u001b[0m\u001b[0m\n\u001b[0;32m    211\u001b[0m         \u001b[1;32mtry\u001b[0m\u001b[1;33m:\u001b[0m\u001b[1;33m\u001b[0m\u001b[1;33m\u001b[0m\u001b[0m\n\u001b[1;32m--> 212\u001b[1;33m             \u001b[0mself\u001b[0m\u001b[1;33m.\u001b[0m\u001b[0m_repopulate_pool\u001b[0m\u001b[1;33m(\u001b[0m\u001b[1;33m)\u001b[0m\u001b[1;33m\u001b[0m\u001b[1;33m\u001b[0m\u001b[0m\n\u001b[0m\u001b[0;32m    213\u001b[0m         \u001b[1;32mexcept\u001b[0m \u001b[0mException\u001b[0m\u001b[1;33m:\u001b[0m\u001b[1;33m\u001b[0m\u001b[1;33m\u001b[0m\u001b[0m\n\u001b[0;32m    214\u001b[0m             \u001b[1;32mfor\u001b[0m \u001b[0mp\u001b[0m \u001b[1;32min\u001b[0m \u001b[0mself\u001b[0m\u001b[1;33m.\u001b[0m\u001b[0m_pool\u001b[0m\u001b[1;33m:\u001b[0m\u001b[1;33m\u001b[0m\u001b[1;33m\u001b[0m\u001b[0m\n",
      "\u001b[1;32mc:\\users\\pinkwart-group\\appdata\\local\\programs\\python\\python38\\lib\\multiprocessing\\pool.py\u001b[0m in \u001b[0;36m_repopulate_pool\u001b[1;34m(self)\u001b[0m\n\u001b[0;32m    301\u001b[0m \u001b[1;33m\u001b[0m\u001b[0m\n\u001b[0;32m    302\u001b[0m     \u001b[1;32mdef\u001b[0m \u001b[0m_repopulate_pool\u001b[0m\u001b[1;33m(\u001b[0m\u001b[0mself\u001b[0m\u001b[1;33m)\u001b[0m\u001b[1;33m:\u001b[0m\u001b[1;33m\u001b[0m\u001b[1;33m\u001b[0m\u001b[0m\n\u001b[1;32m--> 303\u001b[1;33m         return self._repopulate_pool_static(self._ctx, self.Process,\n\u001b[0m\u001b[0;32m    304\u001b[0m                                             \u001b[0mself\u001b[0m\u001b[1;33m.\u001b[0m\u001b[0m_processes\u001b[0m\u001b[1;33m,\u001b[0m\u001b[1;33m\u001b[0m\u001b[1;33m\u001b[0m\u001b[0m\n\u001b[0;32m    305\u001b[0m                                             \u001b[0mself\u001b[0m\u001b[1;33m.\u001b[0m\u001b[0m_pool\u001b[0m\u001b[1;33m,\u001b[0m \u001b[0mself\u001b[0m\u001b[1;33m.\u001b[0m\u001b[0m_inqueue\u001b[0m\u001b[1;33m,\u001b[0m\u001b[1;33m\u001b[0m\u001b[1;33m\u001b[0m\u001b[0m\n",
      "\u001b[1;32mc:\\users\\pinkwart-group\\appdata\\local\\programs\\python\\python38\\lib\\multiprocessing\\pool.py\u001b[0m in \u001b[0;36m_repopulate_pool_static\u001b[1;34m(ctx, Process, processes, pool, inqueue, outqueue, initializer, initargs, maxtasksperchild, wrap_exception)\u001b[0m\n\u001b[0;32m    324\u001b[0m             \u001b[0mw\u001b[0m\u001b[1;33m.\u001b[0m\u001b[0mname\u001b[0m \u001b[1;33m=\u001b[0m \u001b[0mw\u001b[0m\u001b[1;33m.\u001b[0m\u001b[0mname\u001b[0m\u001b[1;33m.\u001b[0m\u001b[0mreplace\u001b[0m\u001b[1;33m(\u001b[0m\u001b[1;34m'Process'\u001b[0m\u001b[1;33m,\u001b[0m \u001b[1;34m'PoolWorker'\u001b[0m\u001b[1;33m)\u001b[0m\u001b[1;33m\u001b[0m\u001b[1;33m\u001b[0m\u001b[0m\n\u001b[0;32m    325\u001b[0m             \u001b[0mw\u001b[0m\u001b[1;33m.\u001b[0m\u001b[0mdaemon\u001b[0m \u001b[1;33m=\u001b[0m \u001b[1;32mTrue\u001b[0m\u001b[1;33m\u001b[0m\u001b[1;33m\u001b[0m\u001b[0m\n\u001b[1;32m--> 326\u001b[1;33m             \u001b[0mw\u001b[0m\u001b[1;33m.\u001b[0m\u001b[0mstart\u001b[0m\u001b[1;33m(\u001b[0m\u001b[1;33m)\u001b[0m\u001b[1;33m\u001b[0m\u001b[1;33m\u001b[0m\u001b[0m\n\u001b[0m\u001b[0;32m    327\u001b[0m             \u001b[0mpool\u001b[0m\u001b[1;33m.\u001b[0m\u001b[0mappend\u001b[0m\u001b[1;33m(\u001b[0m\u001b[0mw\u001b[0m\u001b[1;33m)\u001b[0m\u001b[1;33m\u001b[0m\u001b[1;33m\u001b[0m\u001b[0m\n\u001b[0;32m    328\u001b[0m             \u001b[0mutil\u001b[0m\u001b[1;33m.\u001b[0m\u001b[0mdebug\u001b[0m\u001b[1;33m(\u001b[0m\u001b[1;34m'added worker'\u001b[0m\u001b[1;33m)\u001b[0m\u001b[1;33m\u001b[0m\u001b[1;33m\u001b[0m\u001b[0m\n",
      "\u001b[1;32mc:\\users\\pinkwart-group\\appdata\\local\\programs\\python\\python38\\lib\\multiprocessing\\process.py\u001b[0m in \u001b[0;36mstart\u001b[1;34m(self)\u001b[0m\n\u001b[0;32m    119\u001b[0m                \u001b[1;34m'daemonic processes are not allowed to have children'\u001b[0m\u001b[1;33m\u001b[0m\u001b[1;33m\u001b[0m\u001b[0m\n\u001b[0;32m    120\u001b[0m         \u001b[0m_cleanup\u001b[0m\u001b[1;33m(\u001b[0m\u001b[1;33m)\u001b[0m\u001b[1;33m\u001b[0m\u001b[1;33m\u001b[0m\u001b[0m\n\u001b[1;32m--> 121\u001b[1;33m         \u001b[0mself\u001b[0m\u001b[1;33m.\u001b[0m\u001b[0m_popen\u001b[0m \u001b[1;33m=\u001b[0m \u001b[0mself\u001b[0m\u001b[1;33m.\u001b[0m\u001b[0m_Popen\u001b[0m\u001b[1;33m(\u001b[0m\u001b[0mself\u001b[0m\u001b[1;33m)\u001b[0m\u001b[1;33m\u001b[0m\u001b[1;33m\u001b[0m\u001b[0m\n\u001b[0m\u001b[0;32m    122\u001b[0m         \u001b[0mself\u001b[0m\u001b[1;33m.\u001b[0m\u001b[0m_sentinel\u001b[0m \u001b[1;33m=\u001b[0m \u001b[0mself\u001b[0m\u001b[1;33m.\u001b[0m\u001b[0m_popen\u001b[0m\u001b[1;33m.\u001b[0m\u001b[0msentinel\u001b[0m\u001b[1;33m\u001b[0m\u001b[1;33m\u001b[0m\u001b[0m\n\u001b[0;32m    123\u001b[0m         \u001b[1;31m# Avoid a refcycle if the target function holds an indirect\u001b[0m\u001b[1;33m\u001b[0m\u001b[1;33m\u001b[0m\u001b[1;33m\u001b[0m\u001b[0m\n",
      "\u001b[1;32mc:\\users\\pinkwart-group\\appdata\\local\\programs\\python\\python38\\lib\\multiprocessing\\context.py\u001b[0m in \u001b[0;36m_Popen\u001b[1;34m(process_obj)\u001b[0m\n\u001b[0;32m    325\u001b[0m         \u001b[1;32mdef\u001b[0m \u001b[0m_Popen\u001b[0m\u001b[1;33m(\u001b[0m\u001b[0mprocess_obj\u001b[0m\u001b[1;33m)\u001b[0m\u001b[1;33m:\u001b[0m\u001b[1;33m\u001b[0m\u001b[1;33m\u001b[0m\u001b[0m\n\u001b[0;32m    326\u001b[0m             \u001b[1;32mfrom\u001b[0m \u001b[1;33m.\u001b[0m\u001b[0mpopen_spawn_win32\u001b[0m \u001b[1;32mimport\u001b[0m \u001b[0mPopen\u001b[0m\u001b[1;33m\u001b[0m\u001b[1;33m\u001b[0m\u001b[0m\n\u001b[1;32m--> 327\u001b[1;33m             \u001b[1;32mreturn\u001b[0m \u001b[0mPopen\u001b[0m\u001b[1;33m(\u001b[0m\u001b[0mprocess_obj\u001b[0m\u001b[1;33m)\u001b[0m\u001b[1;33m\u001b[0m\u001b[1;33m\u001b[0m\u001b[0m\n\u001b[0m\u001b[0;32m    328\u001b[0m \u001b[1;33m\u001b[0m\u001b[0m\n\u001b[0;32m    329\u001b[0m     \u001b[1;32mclass\u001b[0m \u001b[0mSpawnContext\u001b[0m\u001b[1;33m(\u001b[0m\u001b[0mBaseContext\u001b[0m\u001b[1;33m)\u001b[0m\u001b[1;33m:\u001b[0m\u001b[1;33m\u001b[0m\u001b[1;33m\u001b[0m\u001b[0m\n",
      "\u001b[1;32mc:\\users\\pinkwart-group\\appdata\\local\\programs\\python\\python38\\lib\\multiprocessing\\popen_spawn_win32.py\u001b[0m in \u001b[0;36m__init__\u001b[1;34m(self, process_obj)\u001b[0m\n\u001b[0;32m     91\u001b[0m             \u001b[1;32mtry\u001b[0m\u001b[1;33m:\u001b[0m\u001b[1;33m\u001b[0m\u001b[1;33m\u001b[0m\u001b[0m\n\u001b[0;32m     92\u001b[0m                 \u001b[0mreduction\u001b[0m\u001b[1;33m.\u001b[0m\u001b[0mdump\u001b[0m\u001b[1;33m(\u001b[0m\u001b[0mprep_data\u001b[0m\u001b[1;33m,\u001b[0m \u001b[0mto_child\u001b[0m\u001b[1;33m)\u001b[0m\u001b[1;33m\u001b[0m\u001b[1;33m\u001b[0m\u001b[0m\n\u001b[1;32m---> 93\u001b[1;33m                 \u001b[0mreduction\u001b[0m\u001b[1;33m.\u001b[0m\u001b[0mdump\u001b[0m\u001b[1;33m(\u001b[0m\u001b[0mprocess_obj\u001b[0m\u001b[1;33m,\u001b[0m \u001b[0mto_child\u001b[0m\u001b[1;33m)\u001b[0m\u001b[1;33m\u001b[0m\u001b[1;33m\u001b[0m\u001b[0m\n\u001b[0m\u001b[0;32m     94\u001b[0m             \u001b[1;32mfinally\u001b[0m\u001b[1;33m:\u001b[0m\u001b[1;33m\u001b[0m\u001b[1;33m\u001b[0m\u001b[0m\n\u001b[0;32m     95\u001b[0m                 \u001b[0mset_spawning_popen\u001b[0m\u001b[1;33m(\u001b[0m\u001b[1;32mNone\u001b[0m\u001b[1;33m)\u001b[0m\u001b[1;33m\u001b[0m\u001b[1;33m\u001b[0m\u001b[0m\n",
      "\u001b[1;32mc:\\users\\pinkwart-group\\appdata\\local\\programs\\python\\python38\\lib\\multiprocessing\\reduction.py\u001b[0m in \u001b[0;36mdump\u001b[1;34m(obj, file, protocol)\u001b[0m\n\u001b[0;32m     58\u001b[0m \u001b[1;32mdef\u001b[0m \u001b[0mdump\u001b[0m\u001b[1;33m(\u001b[0m\u001b[0mobj\u001b[0m\u001b[1;33m,\u001b[0m \u001b[0mfile\u001b[0m\u001b[1;33m,\u001b[0m \u001b[0mprotocol\u001b[0m\u001b[1;33m=\u001b[0m\u001b[1;32mNone\u001b[0m\u001b[1;33m)\u001b[0m\u001b[1;33m:\u001b[0m\u001b[1;33m\u001b[0m\u001b[1;33m\u001b[0m\u001b[0m\n\u001b[0;32m     59\u001b[0m     \u001b[1;34m'''Replacement for pickle.dump() using ForkingPickler.'''\u001b[0m\u001b[1;33m\u001b[0m\u001b[1;33m\u001b[0m\u001b[0m\n\u001b[1;32m---> 60\u001b[1;33m     \u001b[0mForkingPickler\u001b[0m\u001b[1;33m(\u001b[0m\u001b[0mfile\u001b[0m\u001b[1;33m,\u001b[0m \u001b[0mprotocol\u001b[0m\u001b[1;33m)\u001b[0m\u001b[1;33m.\u001b[0m\u001b[0mdump\u001b[0m\u001b[1;33m(\u001b[0m\u001b[0mobj\u001b[0m\u001b[1;33m)\u001b[0m\u001b[1;33m\u001b[0m\u001b[1;33m\u001b[0m\u001b[0m\n\u001b[0m\u001b[0;32m     61\u001b[0m \u001b[1;33m\u001b[0m\u001b[0m\n\u001b[0;32m     62\u001b[0m \u001b[1;31m#\u001b[0m\u001b[1;33m\u001b[0m\u001b[1;33m\u001b[0m\u001b[1;33m\u001b[0m\u001b[0m\n",
      "\u001b[1;31mAttributeError\u001b[0m: Can't pickle local object '_process_repo_parallel.<locals>._init'"
     ]
    }
   ],
   "source": [
    "# serial aggregation\n",
    "Version.no_of_proceses = 1 # Default value\n",
    "start_time = time.time()\n",
    "Version.generate_version_pandas_tables(data_root_dir=default_data_folder)\n",
    "print(\"\\nTime: %.3fs\" % (time.time() - start_time))\n",
    "\n",
    "# parallel aggregation\n",
    "Version.no_of_proceses = 4\n",
    "start_time = time.time()\n",
    "Version.generate_version_pandas_tables(data_root_dir=default_data_folder)\n",
    "print(\"\\nTime: %.3fs\" % (time.time() - start_time))\n"
   ]
  },
  {
   "source": [
    "### Step 3: Evaluating results"
   ],
   "cell_type": "markdown",
   "metadata": {}
  },
  {
   "source": [
    "pdCommits = Version.get_raw_commit(data_root_dir=default_data_folder)\n",
    "pdCommits.head(5)\n"
   ],
   "cell_type": "code",
   "metadata": {},
   "execution_count": 6,
   "outputs": [
    {
     "output_type": "execute_result",
     "data": {
      "text/plain": [
       "                                 commit_sha         commited_at  \\\n",
       "0  97829b0ec7a2669e914d5adff6a48df1403c2ea0 2021-02-25 14:04:07   \n",
       "1  2462a27255c910134db85b325814e3dcca8d07be 2021-02-28 17:22:24   \n",
       "2  1d510dfd9aee5e51277e4728dd5bfd7917b47f5f 2021-02-28 17:23:32   \n",
       "3  540e6691a42db08b1dc94948b418fa1ea1b7380d 2021-02-28 17:31:08   \n",
       "4  cf2d4124846de842f24ae1deae56a07ab7ab007b 2021-02-28 17:37:26   \n",
       "\n",
       "   committer_timezone  no_of_modifications  \\\n",
       "0               -3600                    2   \n",
       "1               -3600                    3   \n",
       "2               -3600                    4   \n",
       "3               -3600                    1   \n",
       "4               -3600                    1   \n",
       "\n",
       "                           commit_message  \\\n",
       "0                          Initial commit   \n",
       "1            Add project management files   \n",
       "2  Add commit aggregation files and tests   \n",
       "3               Create python_package.yml   \n",
       "4                   Add automated testing   \n",
       "\n",
       "                                 parent_sha  in_main_branch  \\\n",
       "0                                                         1   \n",
       "1  97829b0ec7a2669e914d5adff6a48df1403c2ea0               1   \n",
       "2  2462a27255c910134db85b325814e3dcca8d07be               1   \n",
       "3  1d510dfd9aee5e51277e4728dd5bfd7917b47f5f               1   \n",
       "4  540e6691a42db08b1dc94948b418fa1ea1b7380d               1   \n",
       "\n",
       "                                            branches  \n",
       "0  documentation,notebook,feature/small-changes,b...  \n",
       "1  documentation,notebook,feature/small-changes,b...  \n",
       "2  documentation,notebook,feature/small-changes,b...  \n",
       "3  documentation,notebook,feature/small-changes,b...  \n",
       "4  documentation,notebook,feature/small-changes,b...  "
      ],
      "text/html": "<div>\n<style scoped>\n    .dataframe tbody tr th:only-of-type {\n        vertical-align: middle;\n    }\n\n    .dataframe tbody tr th {\n        vertical-align: top;\n    }\n\n    .dataframe thead th {\n        text-align: right;\n    }\n</style>\n<table border=\"1\" class=\"dataframe\">\n  <thead>\n    <tr style=\"text-align: right;\">\n      <th></th>\n      <th>commit_sha</th>\n      <th>commited_at</th>\n      <th>committer_timezone</th>\n      <th>no_of_modifications</th>\n      <th>commit_message</th>\n      <th>parent_sha</th>\n      <th>in_main_branch</th>\n      <th>branches</th>\n    </tr>\n  </thead>\n  <tbody>\n    <tr>\n      <th>0</th>\n      <td>97829b0ec7a2669e914d5adff6a48df1403c2ea0</td>\n      <td>2021-02-25 14:04:07</td>\n      <td>-3600</td>\n      <td>2</td>\n      <td>Initial commit</td>\n      <td></td>\n      <td>1</td>\n      <td>documentation,notebook,feature/small-changes,b...</td>\n    </tr>\n    <tr>\n      <th>1</th>\n      <td>2462a27255c910134db85b325814e3dcca8d07be</td>\n      <td>2021-02-28 17:22:24</td>\n      <td>-3600</td>\n      <td>3</td>\n      <td>Add project management files</td>\n      <td>97829b0ec7a2669e914d5adff6a48df1403c2ea0</td>\n      <td>1</td>\n      <td>documentation,notebook,feature/small-changes,b...</td>\n    </tr>\n    <tr>\n      <th>2</th>\n      <td>1d510dfd9aee5e51277e4728dd5bfd7917b47f5f</td>\n      <td>2021-02-28 17:23:32</td>\n      <td>-3600</td>\n      <td>4</td>\n      <td>Add commit aggregation files and tests</td>\n      <td>2462a27255c910134db85b325814e3dcca8d07be</td>\n      <td>1</td>\n      <td>documentation,notebook,feature/small-changes,b...</td>\n    </tr>\n    <tr>\n      <th>3</th>\n      <td>540e6691a42db08b1dc94948b418fa1ea1b7380d</td>\n      <td>2021-02-28 17:31:08</td>\n      <td>-3600</td>\n      <td>1</td>\n      <td>Create python_package.yml</td>\n      <td>1d510dfd9aee5e51277e4728dd5bfd7917b47f5f</td>\n      <td>1</td>\n      <td>documentation,notebook,feature/small-changes,b...</td>\n    </tr>\n    <tr>\n      <th>4</th>\n      <td>cf2d4124846de842f24ae1deae56a07ab7ab007b</td>\n      <td>2021-02-28 17:37:26</td>\n      <td>-3600</td>\n      <td>1</td>\n      <td>Add automated testing</td>\n      <td>540e6691a42db08b1dc94948b418fa1ea1b7380d</td>\n      <td>1</td>\n      <td>documentation,notebook,feature/small-changes,b...</td>\n    </tr>\n  </tbody>\n</table>\n</div>"
     },
     "metadata": {},
     "execution_count": 6
    }
   ]
  },
  {
   "cell_type": "code",
   "execution_count": 7,
   "metadata": {},
   "outputs": [
    {
     "output_type": "execute_result",
     "data": {
      "text/plain": [
       "                                 commit_sha cyclomatic_complexity_of_file  \\\n",
       "0  97829b0ec7a2669e914d5adff6a48df1403c2ea0                          None   \n",
       "1  97829b0ec7a2669e914d5adff6a48df1403c2ea0                          None   \n",
       "2  97829b0ec7a2669e914d5adff6a48df1403c2ea0                          None   \n",
       "3  97829b0ec7a2669e914d5adff6a48df1403c2ea0                          None   \n",
       "4  97829b0ec7a2669e914d5adff6a48df1403c2ea0                          None   \n",
       "\n",
       "  edit_type    filename  levenshtein_dist lines_of_code_in_file  \\\n",
       "0  addition  .gitignore                39                  None   \n",
       "1  addition  .gitignore                12                  None   \n",
       "2  addition  .gitignore                 9                  None   \n",
       "3  addition  .gitignore                10                  None   \n",
       "4  addition  .gitignore                 0                  None   \n",
       "\n",
       "  modification_type    new_path old_path original_commit_addition  ...  \\\n",
       "0               ADD  .gitignore     None                     None  ...   \n",
       "1               ADD  .gitignore     None                     None  ...   \n",
       "2               ADD  .gitignore     None                     None  ...   \n",
       "3               ADD  .gitignore     None                     None  ...   \n",
       "4               ADD  .gitignore     None                     None  ...   \n",
       "\n",
       "  post_len_in_lines post_starting_line_no  \\\n",
       "0               1.0                   1.0   \n",
       "1               1.0                   2.0   \n",
       "2               1.0                   3.0   \n",
       "3               1.0                   4.0   \n",
       "4               1.0                   5.0   \n",
       "\n",
       "                                 post_text pre_entropy pre_len_in_chars  \\\n",
       "0  # Byte-compiled / optimized / DLL files        None             None   \n",
       "1                             __pycache__/        None             None   \n",
       "2                                *.py[cod]        None             None   \n",
       "3                               *$py.class        None             None   \n",
       "4                                                 None             None   \n",
       "\n",
       "   pre_len_in_lines  pre_starting_line_no  pre_text  total_added_lines  \\\n",
       "0              None                  None      None              129.0   \n",
       "1              None                  None      None              129.0   \n",
       "2              None                  None      None              129.0   \n",
       "3              None                  None      None              129.0   \n",
       "4              None                  None      None              129.0   \n",
       "\n",
       "  total_removed_lines  \n",
       "0                 0.0  \n",
       "1                 0.0  \n",
       "2                 0.0  \n",
       "3                 0.0  \n",
       "4                 0.0  \n",
       "\n",
       "[5 rows x 27 columns]"
      ],
      "text/html": "<div>\n<style scoped>\n    .dataframe tbody tr th:only-of-type {\n        vertical-align: middle;\n    }\n\n    .dataframe tbody tr th {\n        vertical-align: top;\n    }\n\n    .dataframe thead th {\n        text-align: right;\n    }\n</style>\n<table border=\"1\" class=\"dataframe\">\n  <thead>\n    <tr style=\"text-align: right;\">\n      <th></th>\n      <th>commit_sha</th>\n      <th>cyclomatic_complexity_of_file</th>\n      <th>edit_type</th>\n      <th>filename</th>\n      <th>levenshtein_dist</th>\n      <th>lines_of_code_in_file</th>\n      <th>modification_type</th>\n      <th>new_path</th>\n      <th>old_path</th>\n      <th>original_commit_addition</th>\n      <th>...</th>\n      <th>post_len_in_lines</th>\n      <th>post_starting_line_no</th>\n      <th>post_text</th>\n      <th>pre_entropy</th>\n      <th>pre_len_in_chars</th>\n      <th>pre_len_in_lines</th>\n      <th>pre_starting_line_no</th>\n      <th>pre_text</th>\n      <th>total_added_lines</th>\n      <th>total_removed_lines</th>\n    </tr>\n  </thead>\n  <tbody>\n    <tr>\n      <th>0</th>\n      <td>97829b0ec7a2669e914d5adff6a48df1403c2ea0</td>\n      <td>None</td>\n      <td>addition</td>\n      <td>.gitignore</td>\n      <td>39</td>\n      <td>None</td>\n      <td>ADD</td>\n      <td>.gitignore</td>\n      <td>None</td>\n      <td>None</td>\n      <td>...</td>\n      <td>1.0</td>\n      <td>1.0</td>\n      <td># Byte-compiled / optimized / DLL files</td>\n      <td>None</td>\n      <td>None</td>\n      <td>None</td>\n      <td>None</td>\n      <td>None</td>\n      <td>129.0</td>\n      <td>0.0</td>\n    </tr>\n    <tr>\n      <th>1</th>\n      <td>97829b0ec7a2669e914d5adff6a48df1403c2ea0</td>\n      <td>None</td>\n      <td>addition</td>\n      <td>.gitignore</td>\n      <td>12</td>\n      <td>None</td>\n      <td>ADD</td>\n      <td>.gitignore</td>\n      <td>None</td>\n      <td>None</td>\n      <td>...</td>\n      <td>1.0</td>\n      <td>2.0</td>\n      <td>__pycache__/</td>\n      <td>None</td>\n      <td>None</td>\n      <td>None</td>\n      <td>None</td>\n      <td>None</td>\n      <td>129.0</td>\n      <td>0.0</td>\n    </tr>\n    <tr>\n      <th>2</th>\n      <td>97829b0ec7a2669e914d5adff6a48df1403c2ea0</td>\n      <td>None</td>\n      <td>addition</td>\n      <td>.gitignore</td>\n      <td>9</td>\n      <td>None</td>\n      <td>ADD</td>\n      <td>.gitignore</td>\n      <td>None</td>\n      <td>None</td>\n      <td>...</td>\n      <td>1.0</td>\n      <td>3.0</td>\n      <td>*.py[cod]</td>\n      <td>None</td>\n      <td>None</td>\n      <td>None</td>\n      <td>None</td>\n      <td>None</td>\n      <td>129.0</td>\n      <td>0.0</td>\n    </tr>\n    <tr>\n      <th>3</th>\n      <td>97829b0ec7a2669e914d5adff6a48df1403c2ea0</td>\n      <td>None</td>\n      <td>addition</td>\n      <td>.gitignore</td>\n      <td>10</td>\n      <td>None</td>\n      <td>ADD</td>\n      <td>.gitignore</td>\n      <td>None</td>\n      <td>None</td>\n      <td>...</td>\n      <td>1.0</td>\n      <td>4.0</td>\n      <td>*$py.class</td>\n      <td>None</td>\n      <td>None</td>\n      <td>None</td>\n      <td>None</td>\n      <td>None</td>\n      <td>129.0</td>\n      <td>0.0</td>\n    </tr>\n    <tr>\n      <th>4</th>\n      <td>97829b0ec7a2669e914d5adff6a48df1403c2ea0</td>\n      <td>None</td>\n      <td>addition</td>\n      <td>.gitignore</td>\n      <td>0</td>\n      <td>None</td>\n      <td>ADD</td>\n      <td>.gitignore</td>\n      <td>None</td>\n      <td>None</td>\n      <td>...</td>\n      <td>1.0</td>\n      <td>5.0</td>\n      <td></td>\n      <td>None</td>\n      <td>None</td>\n      <td>None</td>\n      <td>None</td>\n      <td>None</td>\n      <td>129.0</td>\n      <td>0.0</td>\n    </tr>\n  </tbody>\n</table>\n<p>5 rows × 27 columns</p>\n</div>"
     },
     "metadata": {},
     "execution_count": 7
    }
   ],
   "source": [
    "pdEdits = Version.get_raw_edit(data_root_dir=default_data_folder)\n",
    "pdEdits.head(5)"
   ]
  },
  {
   "cell_type": "code",
   "execution_count": null,
   "metadata": {},
   "outputs": [],
   "source": []
  }
 ],
 "metadata": {
  "kernelspec": {
   "name": "python3",
   "display_name": "Python 3",
   "language": "python"
  },
  "language_info": {
   "codemirror_mode": {
    "name": "ipython",
    "version": 3
   },
   "file_extension": ".py",
   "mimetype": "text/x-python",
   "name": "python",
   "nbconvert_exporter": "python",
   "pygments_lexer": "ipython3",
   "version": "3.8.8"
  }
 },
 "nbformat": 4,
 "nbformat_minor": 4
}