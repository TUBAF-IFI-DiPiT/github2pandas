{
 "cells": [
  {
   "cell_type": "code",
   "execution_count": 1,
   "metadata": {},
   "outputs": [],
   "source": [
    "%load_ext autoreload\n",
    "%autoreload 2"
   ]
  },
  {
   "cell_type": "markdown",
   "metadata": {},
   "source": [
    "# Test Version Data Aggregation\n",
    "\n",
    "-----------------------------------------------------------------\n",
    "This example illustrates the aggregation of version data (commits and edits) using the `github2pandas` repository. "
   ]
  },
  {
   "cell_type": "code",
   "execution_count": 2,
   "metadata": {},
   "outputs": [],
   "source": [
    "from github2pandas.version import Version\n",
    "from github2pandas.utility import Utility\n",
    "from pathlib import Path\n",
    "import time"
   ]
  },
  {
   "cell_type": "markdown",
   "metadata": {},
   "source": [
    "## Basic Usage\n",
    "\n",
    "The most important input parameter is an Repository object from PyGitHub-Package."
   ]
  },
  {
   "cell_type": "code",
   "execution_count": 3,
   "metadata": {},
   "outputs": [],
   "source": [
    "git_repo_name = \"github2pandas\"\n",
    "git_repo_owner = \"TUBAF-IFI-DiPiT\"\n",
    "    \n",
    "default_data_folder = Path(\"data\", git_repo_name)\n",
    "\n",
    "import os\n",
    "token = os.environ['TOKEN']\n",
    "# If you do not include your Github Token in .env, its neccessary to integrate it here. \n",
    "# github_token = \"yourToken\"\n",
    "\n",
    "repo = Utility.get_repo(git_repo_owner, git_repo_name, token, default_data_folder)"
   ]
  },
  {
   "cell_type": "markdown",
   "metadata": {},
   "source": [
    "### Step 1: Cloning repository"
   ]
  },
  {
   "cell_type": "code",
   "execution_count": 4,
   "metadata": {},
   "outputs": [
    {
     "output_type": "stream",
     "name": "stdout",
     "text": [
      " -> An exception occurred\n -> An exception occurred\n -> An exception occurred\n"
     ]
    }
   ],
   "source": [
    "Version.clone_repository(repo=repo, data_root_dir=default_data_folder, github_token=token)"
   ]
  },
  {
   "source": [
    "### Step 2: Mining Repository via git2net"
   ],
   "cell_type": "markdown",
   "metadata": {}
  },
  {
   "cell_type": "code",
   "execution_count": 5,
   "metadata": {},
   "outputs": [
    {
     "output_type": "stream",
     "name": "stdout",
     "text": [
      "Found no database on provided path. Starting from scratch.\n",
      "Serial: 100%|██████████| 221/221 [06:07<00:00,  1.66s/it]\n",
      "1\n",
      "\n",
      "Time: 400.630s\n"
     ]
    }
   ],
   "source": [
    "# serial aggregation\n",
    "Version.no_of_proceses = 1 # Default value\n",
    "start_time = time.time()\n",
    "Version.generate_version_pandas_tables(repo=repo, data_root_dir=default_data_folder)\n",
    "print(\"\\nTime: %.3fs\" % (time.time() - start_time))\n",
    "\n",
    "# parallel aggregation\n",
    "# Version.no_of_proceses = 8\n",
    "# start_time = time.time()\n",
    "# Version.generate_version_pandas_tables(repo=repo, data_root_dir=default_data_folder)\n",
    "# print(\"\\nTime: %.3fs\" % (time.time() - start_time))\n"
   ]
  },
  {
   "source": [
    "### Step 3: Evaluating results"
   ],
   "cell_type": "markdown",
   "metadata": {}
  },
  {
   "source": [
    "pd_commits = Version.get_version(data_root_dir=default_data_folder)\n",
    "pd_commits.head(5)\n"
   ],
   "cell_type": "code",
   "metadata": {},
   "execution_count": 6,
   "outputs": [
    {
     "output_type": "execute_result",
     "data": {
      "text/plain": [
       "                                 commit_sha         commited_at  \\\n",
       "0  97829b0ec7a2669e914d5adff6a48df1403c2ea0 2021-02-25 14:04:07   \n",
       "1  2462a27255c910134db85b325814e3dcca8d07be 2021-02-28 17:22:24   \n",
       "2  1d510dfd9aee5e51277e4728dd5bfd7917b47f5f 2021-02-28 17:23:32   \n",
       "3  540e6691a42db08b1dc94948b418fa1ea1b7380d 2021-02-28 17:31:08   \n",
       "4  cf2d4124846de842f24ae1deae56a07ab7ab007b 2021-02-28 17:37:26   \n",
       "\n",
       "   committer_timezone  no_of_modifications  \\\n",
       "0               -3600                    2   \n",
       "1               -3600                    3   \n",
       "2               -3600                    4   \n",
       "3               -3600                    1   \n",
       "4               -3600                    1   \n",
       "\n",
       "                           commit_message  \\\n",
       "0                          Initial commit   \n",
       "1            Add project management files   \n",
       "2  Add commit aggregation files and tests   \n",
       "3               Create python_package.yml   \n",
       "4                   Add automated testing   \n",
       "\n",
       "                                 parent_sha  in_main_branch  \\\n",
       "0                                                         1   \n",
       "1  97829b0ec7a2669e914d5adff6a48df1403c2ea0               1   \n",
       "2  2462a27255c910134db85b325814e3dcca8d07be               1   \n",
       "3  1d510dfd9aee5e51277e4728dd5bfd7917b47f5f               1   \n",
       "4  540e6691a42db08b1dc94948b418fa1ea1b7380d               1   \n",
       "\n",
       "                  author              committer tag branch_ids  \n",
       "0  take-certain-word-end  can-expect-late-month      [0, 1, 2]  \n",
       "1  take-certain-word-end  take-certain-word-end      [0, 1, 2]  \n",
       "2  take-certain-word-end  take-certain-word-end      [0, 1, 2]  \n",
       "3  take-certain-word-end  can-expect-late-month      [0, 1, 2]  \n",
       "4  take-certain-word-end  take-certain-word-end      [0, 1, 2]  "
      ],
      "text/html": "<div>\n<style scoped>\n    .dataframe tbody tr th:only-of-type {\n        vertical-align: middle;\n    }\n\n    .dataframe tbody tr th {\n        vertical-align: top;\n    }\n\n    .dataframe thead th {\n        text-align: right;\n    }\n</style>\n<table border=\"1\" class=\"dataframe\">\n  <thead>\n    <tr style=\"text-align: right;\">\n      <th></th>\n      <th>commit_sha</th>\n      <th>commited_at</th>\n      <th>committer_timezone</th>\n      <th>no_of_modifications</th>\n      <th>commit_message</th>\n      <th>parent_sha</th>\n      <th>in_main_branch</th>\n      <th>author</th>\n      <th>committer</th>\n      <th>tag</th>\n      <th>branch_ids</th>\n    </tr>\n  </thead>\n  <tbody>\n    <tr>\n      <th>0</th>\n      <td>97829b0ec7a2669e914d5adff6a48df1403c2ea0</td>\n      <td>2021-02-25 14:04:07</td>\n      <td>-3600</td>\n      <td>2</td>\n      <td>Initial commit</td>\n      <td></td>\n      <td>1</td>\n      <td>take-certain-word-end</td>\n      <td>can-expect-late-month</td>\n      <td></td>\n      <td>[0, 1, 2]</td>\n    </tr>\n    <tr>\n      <th>1</th>\n      <td>2462a27255c910134db85b325814e3dcca8d07be</td>\n      <td>2021-02-28 17:22:24</td>\n      <td>-3600</td>\n      <td>3</td>\n      <td>Add project management files</td>\n      <td>97829b0ec7a2669e914d5adff6a48df1403c2ea0</td>\n      <td>1</td>\n      <td>take-certain-word-end</td>\n      <td>take-certain-word-end</td>\n      <td></td>\n      <td>[0, 1, 2]</td>\n    </tr>\n    <tr>\n      <th>2</th>\n      <td>1d510dfd9aee5e51277e4728dd5bfd7917b47f5f</td>\n      <td>2021-02-28 17:23:32</td>\n      <td>-3600</td>\n      <td>4</td>\n      <td>Add commit aggregation files and tests</td>\n      <td>2462a27255c910134db85b325814e3dcca8d07be</td>\n      <td>1</td>\n      <td>take-certain-word-end</td>\n      <td>take-certain-word-end</td>\n      <td></td>\n      <td>[0, 1, 2]</td>\n    </tr>\n    <tr>\n      <th>3</th>\n      <td>540e6691a42db08b1dc94948b418fa1ea1b7380d</td>\n      <td>2021-02-28 17:31:08</td>\n      <td>-3600</td>\n      <td>1</td>\n      <td>Create python_package.yml</td>\n      <td>1d510dfd9aee5e51277e4728dd5bfd7917b47f5f</td>\n      <td>1</td>\n      <td>take-certain-word-end</td>\n      <td>can-expect-late-month</td>\n      <td></td>\n      <td>[0, 1, 2]</td>\n    </tr>\n    <tr>\n      <th>4</th>\n      <td>cf2d4124846de842f24ae1deae56a07ab7ab007b</td>\n      <td>2021-02-28 17:37:26</td>\n      <td>-3600</td>\n      <td>1</td>\n      <td>Add automated testing</td>\n      <td>540e6691a42db08b1dc94948b418fa1ea1b7380d</td>\n      <td>1</td>\n      <td>take-certain-word-end</td>\n      <td>take-certain-word-end</td>\n      <td></td>\n      <td>[0, 1, 2]</td>\n    </tr>\n  </tbody>\n</table>\n</div>"
     },
     "metadata": {},
     "execution_count": 6
    }
   ]
  },
  {
   "cell_type": "code",
   "execution_count": 7,
   "metadata": {},
   "outputs": [
    {
     "output_type": "execute_result",
     "data": {
      "text/plain": [
       "                                 commit_sha cyclomatic_complexity_of_file  \\\n",
       "0  97829b0ec7a2669e914d5adff6a48df1403c2ea0                          None   \n",
       "1  97829b0ec7a2669e914d5adff6a48df1403c2ea0                          None   \n",
       "2  97829b0ec7a2669e914d5adff6a48df1403c2ea0                          None   \n",
       "3  97829b0ec7a2669e914d5adff6a48df1403c2ea0                          None   \n",
       "4  97829b0ec7a2669e914d5adff6a48df1403c2ea0                          None   \n",
       "\n",
       "  edit_type    filename  levenshtein_dist lines_of_code_in_file  \\\n",
       "0  addition  .gitignore                39                  None   \n",
       "1  addition  .gitignore                12                  None   \n",
       "2  addition  .gitignore                 9                  None   \n",
       "3  addition  .gitignore                10                  None   \n",
       "4  addition  .gitignore                 0                  None   \n",
       "\n",
       "  modification_type    new_path old_path original_commit_addition  ...  \\\n",
       "0               ADD  .gitignore     None                     None  ...   \n",
       "1               ADD  .gitignore     None                     None  ...   \n",
       "2               ADD  .gitignore     None                     None  ...   \n",
       "3               ADD  .gitignore     None                     None  ...   \n",
       "4               ADD  .gitignore     None                     None  ...   \n",
       "\n",
       "  post_len_in_lines post_starting_line_no  \\\n",
       "0               1.0                   1.0   \n",
       "1               1.0                   2.0   \n",
       "2               1.0                   3.0   \n",
       "3               1.0                   4.0   \n",
       "4               1.0                   5.0   \n",
       "\n",
       "                                 post_text pre_entropy pre_len_in_chars  \\\n",
       "0  # Byte-compiled / optimized / DLL files        None             None   \n",
       "1                             __pycache__/        None             None   \n",
       "2                                *.py[cod]        None             None   \n",
       "3                               *$py.class        None             None   \n",
       "4                                                 None             None   \n",
       "\n",
       "   pre_len_in_lines  pre_starting_line_no  pre_text  total_added_lines  \\\n",
       "0              None                  None      None              129.0   \n",
       "1              None                  None      None              129.0   \n",
       "2              None                  None      None              129.0   \n",
       "3              None                  None      None              129.0   \n",
       "4              None                  None      None              129.0   \n",
       "\n",
       "  total_removed_lines  \n",
       "0                 0.0  \n",
       "1                 0.0  \n",
       "2                 0.0  \n",
       "3                 0.0  \n",
       "4                 0.0  \n",
       "\n",
       "[5 rows x 27 columns]"
      ],
      "text/html": "<div>\n<style scoped>\n    .dataframe tbody tr th:only-of-type {\n        vertical-align: middle;\n    }\n\n    .dataframe tbody tr th {\n        vertical-align: top;\n    }\n\n    .dataframe thead th {\n        text-align: right;\n    }\n</style>\n<table border=\"1\" class=\"dataframe\">\n  <thead>\n    <tr style=\"text-align: right;\">\n      <th></th>\n      <th>commit_sha</th>\n      <th>cyclomatic_complexity_of_file</th>\n      <th>edit_type</th>\n      <th>filename</th>\n      <th>levenshtein_dist</th>\n      <th>lines_of_code_in_file</th>\n      <th>modification_type</th>\n      <th>new_path</th>\n      <th>old_path</th>\n      <th>original_commit_addition</th>\n      <th>...</th>\n      <th>post_len_in_lines</th>\n      <th>post_starting_line_no</th>\n      <th>post_text</th>\n      <th>pre_entropy</th>\n      <th>pre_len_in_chars</th>\n      <th>pre_len_in_lines</th>\n      <th>pre_starting_line_no</th>\n      <th>pre_text</th>\n      <th>total_added_lines</th>\n      <th>total_removed_lines</th>\n    </tr>\n  </thead>\n  <tbody>\n    <tr>\n      <th>0</th>\n      <td>97829b0ec7a2669e914d5adff6a48df1403c2ea0</td>\n      <td>None</td>\n      <td>addition</td>\n      <td>.gitignore</td>\n      <td>39</td>\n      <td>None</td>\n      <td>ADD</td>\n      <td>.gitignore</td>\n      <td>None</td>\n      <td>None</td>\n      <td>...</td>\n      <td>1.0</td>\n      <td>1.0</td>\n      <td># Byte-compiled / optimized / DLL files</td>\n      <td>None</td>\n      <td>None</td>\n      <td>None</td>\n      <td>None</td>\n      <td>None</td>\n      <td>129.0</td>\n      <td>0.0</td>\n    </tr>\n    <tr>\n      <th>1</th>\n      <td>97829b0ec7a2669e914d5adff6a48df1403c2ea0</td>\n      <td>None</td>\n      <td>addition</td>\n      <td>.gitignore</td>\n      <td>12</td>\n      <td>None</td>\n      <td>ADD</td>\n      <td>.gitignore</td>\n      <td>None</td>\n      <td>None</td>\n      <td>...</td>\n      <td>1.0</td>\n      <td>2.0</td>\n      <td>__pycache__/</td>\n      <td>None</td>\n      <td>None</td>\n      <td>None</td>\n      <td>None</td>\n      <td>None</td>\n      <td>129.0</td>\n      <td>0.0</td>\n    </tr>\n    <tr>\n      <th>2</th>\n      <td>97829b0ec7a2669e914d5adff6a48df1403c2ea0</td>\n      <td>None</td>\n      <td>addition</td>\n      <td>.gitignore</td>\n      <td>9</td>\n      <td>None</td>\n      <td>ADD</td>\n      <td>.gitignore</td>\n      <td>None</td>\n      <td>None</td>\n      <td>...</td>\n      <td>1.0</td>\n      <td>3.0</td>\n      <td>*.py[cod]</td>\n      <td>None</td>\n      <td>None</td>\n      <td>None</td>\n      <td>None</td>\n      <td>None</td>\n      <td>129.0</td>\n      <td>0.0</td>\n    </tr>\n    <tr>\n      <th>3</th>\n      <td>97829b0ec7a2669e914d5adff6a48df1403c2ea0</td>\n      <td>None</td>\n      <td>addition</td>\n      <td>.gitignore</td>\n      <td>10</td>\n      <td>None</td>\n      <td>ADD</td>\n      <td>.gitignore</td>\n      <td>None</td>\n      <td>None</td>\n      <td>...</td>\n      <td>1.0</td>\n      <td>4.0</td>\n      <td>*$py.class</td>\n      <td>None</td>\n      <td>None</td>\n      <td>None</td>\n      <td>None</td>\n      <td>None</td>\n      <td>129.0</td>\n      <td>0.0</td>\n    </tr>\n    <tr>\n      <th>4</th>\n      <td>97829b0ec7a2669e914d5adff6a48df1403c2ea0</td>\n      <td>None</td>\n      <td>addition</td>\n      <td>.gitignore</td>\n      <td>0</td>\n      <td>None</td>\n      <td>ADD</td>\n      <td>.gitignore</td>\n      <td>None</td>\n      <td>None</td>\n      <td>...</td>\n      <td>1.0</td>\n      <td>5.0</td>\n      <td></td>\n      <td>None</td>\n      <td>None</td>\n      <td>None</td>\n      <td>None</td>\n      <td>None</td>\n      <td>129.0</td>\n      <td>0.0</td>\n    </tr>\n  </tbody>\n</table>\n<p>5 rows × 27 columns</p>\n</div>"
     },
     "metadata": {},
     "execution_count": 7
    }
   ],
   "source": [
    "pd_edits = Version.get_version(data_root_dir=default_data_folder, filename=Version.VERSION_EDITS)\n",
    "pd_edits.head(5)"
   ]
  },
  {
   "cell_type": "code",
   "execution_count": 8,
   "metadata": {},
   "outputs": [
    {
     "output_type": "execute_result",
     "data": {
      "text/plain": [
       "    branch_names\n",
       "0  bug-fix/tests\n",
       "1   feature/tags\n",
       "2           main"
      ],
      "text/html": "<div>\n<style scoped>\n    .dataframe tbody tr th:only-of-type {\n        vertical-align: middle;\n    }\n\n    .dataframe tbody tr th {\n        vertical-align: top;\n    }\n\n    .dataframe thead th {\n        text-align: right;\n    }\n</style>\n<table border=\"1\" class=\"dataframe\">\n  <thead>\n    <tr style=\"text-align: right;\">\n      <th></th>\n      <th>branch_names</th>\n    </tr>\n  </thead>\n  <tbody>\n    <tr>\n      <th>0</th>\n      <td>bug-fix/tests</td>\n    </tr>\n    <tr>\n      <th>1</th>\n      <td>feature/tags</td>\n    </tr>\n    <tr>\n      <th>2</th>\n      <td>main</td>\n    </tr>\n  </tbody>\n</table>\n</div>"
     },
     "metadata": {},
     "execution_count": 8
    }
   ],
   "source": [
    "pd_branches = Version.get_version(data_root_dir=default_data_folder, filename=Version.VERSION_BRANCHES)\n",
    "pd_branches.head(10)"
   ]
  },
  {
   "cell_type": "code",
   "execution_count": null,
   "metadata": {},
   "outputs": [],
   "source": []
  }
 ],
 "metadata": {
  "kernelspec": {
   "name": "python388jvsc74a57bd0bbc2d1101b2d2c9ac52b4876cec9104522a8421c736dbc9409bbb551b79a98a4",
   "display_name": "Python 3.8.8 64-bit ('github2pandas-w1NZGIDR')"
  },
  "language_info": {
   "codemirror_mode": {
    "name": "ipython",
    "version": 3
   },
   "file_extension": ".py",
   "mimetype": "text/x-python",
   "name": "python",
   "nbconvert_exporter": "python",
   "pygments_lexer": "ipython3",
   "version": "3.8.8"
  }
 },
 "nbformat": 4,
 "nbformat_minor": 4
}