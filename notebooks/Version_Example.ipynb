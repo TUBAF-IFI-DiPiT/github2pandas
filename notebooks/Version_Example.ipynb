{
 "cells": [
  {
   "cell_type": "code",
   "execution_count": null,
   "metadata": {},
   "outputs": [],
   "source": [
    "%load_ext autoreload\n",
    "%autoreload 2"
   ]
  },
  {
   "cell_type": "markdown",
   "metadata": {},
   "source": [
    "# Test Version Data Aggregation\n",
    "\n",
    "-----------------------------------------------------------------\n",
    "This example illustrates the aggregation of version data (commits and edits) using the `github2pandas` repository. "
   ]
  },
  {
   "cell_type": "code",
   "execution_count": null,
   "metadata": {},
   "outputs": [],
   "source": [
    "from github2pandas.version import Version\n",
    "from github2pandas.utility import Utility\n",
    "from pathlib import Path\n",
    "import time"
   ]
  },
  {
   "cell_type": "markdown",
   "metadata": {},
   "source": [
    "## Basic Usage\n",
    "\n",
    "The most important input parameter is an Repository object from PyGitHub-Package."
   ]
  },
  {
   "cell_type": "code",
   "execution_count": null,
   "metadata": {},
   "outputs": [],
   "source": [
    "git_repo_name = \"Extract_Git_Activities\"\n",
    "git_repo_owner = \"TUBAF-IFI-DiPiT\"\n",
    "    \n",
    "default_data_folder = Path(\"data\", git_repo_name)\n",
    "\n",
    "import os\n",
    "token = os.environ['TOKEN']\n",
    "# If you do not include your Github Token in .env, its neccessary to integrate it here. \n",
    "# github_token = \"yourToken\"\n",
    "\n",
    "repo = Utility.get_repo(git_repo_owner, git_repo_name, token, default_data_folder)"
   ]
  },
  {
   "cell_type": "markdown",
   "metadata": {},
   "source": [
    "### Step 1: Cloning repository"
   ]
  },
  {
   "cell_type": "code",
   "execution_count": null,
   "metadata": {},
   "outputs": [],
   "source": [
    "Version.clone_repository(repo=repo, data_root_dir=default_data_folder, github_token=token)"
   ]
  },
  {
   "source": [
    "### Step 2: Mining Repository via git2net"
   ],
   "cell_type": "markdown",
   "metadata": {}
  },
  {
   "cell_type": "code",
   "execution_count": null,
   "metadata": {},
   "outputs": [],
   "source": [
    "# serial aggregation\n",
    "Version.no_of_proceses = 1 # Default value\n",
    "start_time = time.time()\n",
    "Version.generate_version_pandas_tables(repo=repo, data_root_dir=default_data_folder)\n",
    "print(\"\\nTime: %.3fs\" % (time.time() - start_time))\n",
    "\n",
    "# parallel aggregation\n",
    "Version.no_of_proceses = 8\n",
    "start_time = time.time()\n",
    "Version.generate_version_pandas_tables(repo=repo, data_root_dir=default_data_folder)\n",
    "print(\"\\nTime: %.3fs\" % (time.time() - start_time))\n"
   ]
  },
  {
   "source": [
    "### Step 3: Evaluating results"
   ],
   "cell_type": "markdown",
   "metadata": {}
  },
  {
   "source": [
    "pd_commits = Version.get_version(data_root_dir=default_data_folder)\n",
    "pd_commits.head(5)\n"
   ],
   "cell_type": "code",
   "metadata": {},
   "execution_count": null,
   "outputs": []
  },
  {
   "cell_type": "code",
   "execution_count": null,
   "metadata": {},
   "outputs": [],
   "source": [
    "pd_edits = Version.get_version(data_root_dir=default_data_folder, filename=Version.VERSION_EDITS)\n",
    "pd_edits.head(5)"
   ]
  },
  {
   "cell_type": "code",
   "execution_count": null,
   "metadata": {},
   "outputs": [],
   "source": [
    "pd_branches = Version.get_version(data_root_dir=default_data_folder, filename=Version.VERSION_BRANCHES)\n",
    "pd_branches.head(10)"
   ]
  },
  {
   "cell_type": "code",
   "execution_count": null,
   "metadata": {},
   "outputs": [],
   "source": []
  }
 ],
 "metadata": {
  "kernelspec": {
   "name": "python3",
   "display_name": "Python 3",
   "language": "python"
  },
  "language_info": {
   "codemirror_mode": {
    "name": "ipython",
    "version": 3
   },
   "file_extension": ".py",
   "mimetype": "text/x-python",
   "name": "python",
   "nbconvert_exporter": "python",
   "pygments_lexer": "ipython3",
   "version": "3.8.5"
  }
 },
 "nbformat": 4,
 "nbformat_minor": 4
}