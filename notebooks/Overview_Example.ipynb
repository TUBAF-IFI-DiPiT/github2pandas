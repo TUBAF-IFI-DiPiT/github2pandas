{
 "metadata": {
  "language_info": {
   "codemirror_mode": {
    "name": "ipython",
    "version": 3
   },
   "file_extension": ".py",
   "mimetype": "text/x-python",
   "name": "python",
   "nbconvert_exporter": "python",
   "pygments_lexer": "ipython3",
   "version": "3.8.8-final"
  },
  "orig_nbformat": 2,
  "kernelspec": {
   "name": "python3",
   "display_name": "Python 3",
   "language": "python"
  }
 },
 "nbformat": 4,
 "nbformat_minor": 2,
 "cells": [
  {
   "source": [
    "# Comprehensive aggregation of GitHub activities\n",
    "\n",
    "-----------------------------------------------------------------\n",
    "\n",
    "This examples shows how to aggregate Issue, Pull-Request and Workflow activities as well as complete version history. "
   ],
   "cell_type": "markdown",
   "metadata": {}
  },
  {
   "cell_type": "code",
   "execution_count": 1,
   "metadata": {},
   "outputs": [],
   "source": [
    "from github2pandas.aggregation.issues import AggIssues\n",
    "from github2pandas.aggregation.pull_requests import AggPullRequest\n",
    "from github2pandas.aggregation.version import AggVersion\n",
    "from github2pandas.aggregation.workflows import AggWorkflow\n",
    "from github2pandas.aggregation.utility import Utility\n",
    "from pathlib import Path\n",
    "import threading\n",
    "import time"
   ]
  },
  {
   "source": [
    "## Basic Usage\n",
    "\n",
    "The most important input parameter is an Repository object from PyGitHub-Package."
   ],
   "cell_type": "markdown",
   "metadata": {}
  },
  {
   "cell_type": "code",
   "execution_count": 2,
   "metadata": {},
   "outputs": [],
   "source": [
    "git_repo_name = \"Extract_Git_Activities\"\n",
    "git_repo_owner = \"TUBAF-IFI-DiPiT\"\n",
    "    \n",
    "default_data_folder = Path(\"data\", git_repo_name)\n",
    "\n",
    "import os\n",
    "github_token = os.environ['TOKEN']\n",
    "# If you do not include your Github Token in .env, its neccessary to integrate it here. \n",
    "# github_token = \"yourToken\"\n",
    "\n",
    "repo = Utility.get_repo(git_repo_owner, git_repo_name, github_token)"
   ]
  },
  {
   "source": [
    "## Aggregation"
   ],
   "cell_type": "markdown",
   "metadata": {}
  },
  {
   "source": [
    "print(\"Issues\")\n",
    "start_time = time.time()\n",
    "AggIssues.generate_issue_pandas_tables(repo, default_data_folder)\n",
    "print(\"Time: %.3fs\" % (time.time() - start_time))\n",
    "\n",
    "print(\"Pull Requests\")\n",
    "start_time = time.time()\n",
    "AggPullRequest.generate_pull_request_pandas_tables(repo, default_data_folder)\n",
    "print(\"Time: %.3fs\" % (time.time() - start_time))\n",
    "\n",
    "print(\"Version\")\n",
    "start_time = time.time()\n",
    "AggVersion.clone_repository(repo=repo, data_root_dir=default_data_folder, github_token=github_token)\n",
    "AggVersion.generate_version_pandas_tables(data_root_dir=default_data_folder)\n",
    "print(\"Time: %.3fs\" % (time.time() - start_time))\n",
    "\n",
    "print(\"Workflows\")\n",
    "start_time = time.time()\n",
    "AggWorkflow.generate_workflow_pandas_tables(repo=repo, data_root_dir=default_data_folder)\n",
    "print(\"Time: %.3fs\" % (time.time() - start_time))"
   ],
   "cell_type": "code",
   "metadata": {},
   "execution_count": 3,
   "outputs": [
    {
     "output_type": "stream",
     "name": "stdout",
     "text": [
      "Issues\n",
      "Time: 7.060s\n",
      "Pull Requests\n",
      "Time: 22.405s\n",
      "Version\n",
      "Handling Error for file  C:\\Users\\pinkwart-group\\source\\repos\\Extract_Git_Activities\\notebooks\\data\\Extract_Git_Activities\\Versions\\repo\\.git\\objects\\pack\\pack-30d28f7186da4d49a56fc3121d21007d17ef1267.pack\n",
      "(<class 'PermissionError'>, PermissionError(13, 'Zugriff verweigert'), <traceback object at 0x000002B07F7E3E40>)\n",
      "   bug-fix/tests \n",
      "   documentation \n",
      "   enhancement/speed-up-aggregation \n",
      "   feat/commit \n",
      "Serial:   0%|          | 0/130 [00:00<?, ?it/s] \n",
      "   workflows \n",
      "Found no database on provided path. Starting from scratch.\n",
      "Serial: 100%|██████████| 130/130 [02:12<00:00,  1.02s/it]\n",
      "Time: 135.887s\n",
      "Workflows\n",
      "Time: 14.191s\n"
     ]
    }
   ]
  },
  {
   "cell_type": "code",
   "execution_count": null,
   "metadata": {},
   "outputs": [],
   "source": []
  }
 ]
}