{
 "metadata": {
  "language_info": {
   "codemirror_mode": {
    "name": "ipython",
    "version": 3
   },
   "file_extension": ".py",
   "mimetype": "text/x-python",
   "name": "python",
   "nbconvert_exporter": "python",
   "pygments_lexer": "ipython3",
   "version": "3.8.5"
  },
  "orig_nbformat": 2,
  "kernelspec": {
   "name": "python3",
   "display_name": "Python 3",
   "language": "python"
  }
 },
 "nbformat": 4,
 "nbformat_minor": 2,
 "cells": [
  {
   "source": [
    "# Comprehensive aggregation of GitHub activities\n",
    "\n",
    "-----------------------------------------------------------------\n",
    "\n",
    "This examples shows how to aggregate Issue, Pull-Request and Workflow activities as well as complete version history. "
   ],
   "cell_type": "markdown",
   "metadata": {}
  },
  {
   "cell_type": "code",
   "execution_count": null,
   "metadata": {},
   "outputs": [],
   "source": [
    "from github2pandas.issues import Issues\n",
    "from github2pandas.pull_requests import PullRequests\n",
    "from github2pandas.version import Version\n",
    "from github2pandas.workflows import Workflows\n",
    "from github2pandas.utility import Utility\n",
    "from pathlib import Path\n",
    "import threading\n",
    "import time\n",
    "from datetime import timedelta"
   ]
  },
  {
   "source": [
    "## Basic Usage\n",
    "\n",
    "The most important input parameter is an Repository object from PyGitHub-Package."
   ],
   "cell_type": "markdown",
   "metadata": {}
  },
  {
   "cell_type": "code",
   "execution_count": null,
   "metadata": {},
   "outputs": [],
   "source": [
    "git_repo_name = \"Extract_Git_Activities\"\n",
    "git_repo_owner = \"TUBAF-IFI-DiPiT\"\n",
    "    \n",
    "default_data_folder = Path(\"data\", git_repo_name)\n",
    "\n",
    "import os\n",
    "github_token = os.environ['TOKEN']\n",
    "# If you do not include your Github Token in .env, its neccessary to integrate it here. \n",
    "# github_token = \"yourToken\"\n",
    "\n",
    "repo = Utility.get_repo(git_repo_owner, git_repo_name, github_token, default_data_folder)"
   ]
  },
  {
   "source": [
    "## Aggregation"
   ],
   "cell_type": "markdown",
   "metadata": {}
  },
  {
   "source": [
    "print(\"Issues\")\n",
    "start_time = time.time()\n",
    "Issues.generate_issue_pandas_tables(repo, default_data_folder)\n",
    "print(\"Time: %.3fs\" % (time.time() - start_time))\n",
    "\n",
    "print(\"Pull Requests\")\n",
    "start_time = time.time()\n",
    "PullRequests.generate_pull_request_pandas_tables(repo, default_data_folder)\n",
    "print(\"Time: %.3fs\" % (time.time() - start_time))\n",
    "\n",
    "print(\"Version\")\n",
    "start_time = time.time()\n",
    "Version.clone_repository(repo=repo, data_root_dir=default_data_folder, github_token=github_token)\n",
    "Version.generate_version_pandas_tables(data_root_dir=default_data_folder)\n",
    "print(\"Time: %.3fs\" % (time.time() - start_time))\n",
    "\n",
    "print(\"Workflows\")\n",
    "start_time = time.time()\n",
    "Workflows.generate_workflow_pandas_tables(repo=repo, data_root_dir=default_data_folder)\n",
    "print(\"Time: %.3fs\" % (time.time() - start_time))"
   ],
   "cell_type": "code",
   "metadata": {},
   "execution_count": null,
   "outputs": []
  },
  {
   "source": [
    "## Access Pandas DataFrames"
   ],
   "cell_type": "markdown",
   "metadata": {}
  },
  {
   "cell_type": "code",
   "execution_count": null,
   "metadata": {},
   "outputs": [],
   "source": [
    "users = Utility.get_users(default_data_folder)\n",
    "pdCommits = Version.get_version(default_data_folder)\n",
    "pdEdits = Version.get_version(default_data_folder, Version.VERSION_EDITS)\n",
    "pdBranches = Version.get_version(default_data_folder, filename=Version.VERSION_BRANCHES)\n",
    "pdIssues = Issues.get_issues(default_data_folder)\n",
    "pdPull_requests = PullRequests.get_pull_requests(default_data_folder)\n",
    "pdWorkflows = Workflows.get_workflows(default_data_folder)\n",
    "pdRuns = Workflows.get_workflows(default_data_folder, filename=Workflows.WORKFLOWS_RUNS)"
   ]
  },
  {
   "source": [
    "## Project Overview"
   ],
   "cell_type": "markdown",
   "metadata": {}
  },
  {
   "source": [
    "### Project Name and Owner"
   ],
   "cell_type": "markdown",
   "metadata": {}
  },
  {
   "cell_type": "code",
   "execution_count": null,
   "metadata": {},
   "outputs": [],
   "source": [
    "project_owner, project_name = Utility.get_repo_informations(default_data_folder)\n",
    "print(\"Owner: \" + project_owner)\n",
    "print(\"Name: \" + project_name)"
   ]
  },
  {
   "source": [
    "### Project users (count and anonymized names)"
   ],
   "cell_type": "markdown",
   "metadata": {}
  },
  {
   "cell_type": "code",
   "execution_count": null,
   "metadata": {},
   "outputs": [],
   "source": [
    "if not users.empty:\n",
    "    users_count = users.shape[0]\n",
    "    print(\"%d Users\" % users_count)\n",
    "\n",
    "for index, row in users.iterrows():\n",
    "    print(\"%d: \" % index + row[\"anonym_uuid\"])"
   ]
  },
  {
   "source": [
    "### Project duration (days)"
   ],
   "cell_type": "markdown",
   "metadata": {}
  },
  {
   "cell_type": "code",
   "execution_count": null,
   "metadata": {},
   "outputs": [],
   "source": [
    "span = pdCommits.commited_at.max() - pdCommits.commited_at.min()\n",
    "print(f\"Project active for {span.days} days\")"
   ]
  },
  {
   "source": [
    "###  Does Branches, Pull-Requests, Issues exist in the repository"
   ],
   "cell_type": "markdown",
   "metadata": {}
  },
  {
   "cell_type": "code",
   "execution_count": null,
   "metadata": {},
   "outputs": [],
   "source": [
    "if pdIssues.empty:\n",
    "    print(\"There are no Issues. Look up if there are Issues\")\n",
    "    repo = Utility.get_repo(git_repo_owner, git_repo_name, github_token, default_data_folder)\n",
    "    Issues.generate_issue_pandas_tables(repo, default_data_folder)\n",
    "    pdIssues = Issues.get_issues(default_data_folder)\n",
    "    if pdIssues.empty:\n",
    "        print(\"There are no Issues in this Repository\")\n",
    "else:\n",
    "    print(\"There are %d Issues in this Repository\" % pdIssues.shape[0])\n",
    "\n",
    "if pdIssues.empty:\n",
    "    print(\"There are no Pull Requests. Look up if there are Pull Requests\")\n",
    "    repo = Utility.get_repo(git_repo_owner, git_repo_name, github_token, default_data_folder)\n",
    "    PullRequests.generate_pull_request_pandas_tables(repo, default_data_folder)\n",
    "    pdPull_requests = PullRequests.get_pull_requests(default_data_folder)\n",
    "    if pdIssues.empty:\n",
    "        print(\"There are no Pull Requests in this Repository\")\n",
    "else:\n",
    "    print(\"There are %d Pull Requests in this Repository\" % pdPull_requests.shape[0])\n",
    "\n",
    "if pdBranches.empty:\n",
    "    print(\"There are no Branches in this Repository.\")\n",
    "else:\n",
    "    print(\"There are %d Branches in this Repository\" % pdBranches.shape[0])"
   ]
  }
 ]
}