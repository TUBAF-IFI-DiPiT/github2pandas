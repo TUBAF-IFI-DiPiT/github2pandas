{
 "metadata": {
  "language_info": {
   "codemirror_mode": {
    "name": "ipython",
    "version": 3
   },
   "file_extension": ".py",
   "mimetype": "text/x-python",
   "name": "python",
   "nbconvert_exporter": "python",
   "pygments_lexer": "ipython3",
   "version": "3.8.5-final"
  },
  "orig_nbformat": 2,
  "kernelspec": {
   "name": "python3",
   "display_name": "Python 3.8.5 64-bit ('Extract_Git_Activities': pipenv)",
   "metadata": {
    "interpreter": {
     "hash": "38a650fcfe7eb4dbc0636e48ffb3798f6c9c8438ff39f42581096babaa69d554"
    }
   }
  }
 },
 "nbformat": 4,
 "nbformat_minor": 2,
 "cells": [
  {
   "source": [
    "# Comprehensive aggregation of GitHub activities\n",
    "\n",
    "-----------------------------------------------------------------\n",
    "\n",
    "This examples shows how to aggregate Issue, Pull-Request and Workflow activities as well as complete version history. "
   ],
   "cell_type": "markdown",
   "metadata": {}
  },
  {
   "cell_type": "code",
   "execution_count": 5,
   "metadata": {},
   "outputs": [],
   "source": [
    "from github2pandas.aggregation.issues import AggIssues\n",
    "from github2pandas.aggregation.pull_requests import AggPullRequest\n",
    "from github2pandas.aggregation.version import AggVersion\n",
    "from github2pandas.aggregation.workflows import AggWorkflow\n",
    "from github2pandas.aggregation.utility import Utility\n",
    "from pathlib import Path\n",
    "import threading\n",
    "import time"
   ]
  },
  {
   "source": [
    "## Basic Usage\n",
    "\n",
    "The most important input parameter is an Repository object from PyGitHub-Package."
   ],
   "cell_type": "markdown",
   "metadata": {}
  },
  {
   "cell_type": "code",
   "execution_count": 2,
   "metadata": {},
   "outputs": [],
   "source": [
    "git_repo_name = \"Extract_Git_Activities\"\n",
    "git_repo_owner = \"TUBAF-IFI-DiPiT\"\n",
    "    \n",
    "default_data_folder = Path(\"data\", git_repo_name)\n",
    "\n",
    "import os\n",
    "github_token = os.environ['TOKEN']\n",
    "# If you do not include your Github Token in .env, its neccessary to integrate it here. \n",
    "# github_token = \"yourToken\"\n",
    "\n",
    "repo = Utility.get_repo(git_repo_owner, git_repo_name, github_token)"
   ]
  },
  {
   "source": [
    "## Aggregation"
   ],
   "cell_type": "markdown",
   "metadata": {}
  },
  {
   "source": [
    "print(\"Issues\")\n",
    "start_time = time.time()\n",
    "AggIssues.generate_issue_pandas_tables(repo, default_data_folder)\n",
    "print(\"Time: %.3fs\" % (time.time() - start_time))\n",
    "\n",
    "print(\"Pull Requests\")\n",
    "start_time = time.time()\n",
    "AggPullRequest.generate_pull_request_pandas_tables(repo, default_data_folder)\n",
    "print(\"Time: %.3fs\" % (time.time() - start_time))\n",
    "\n",
    "print(\"Version\")\n",
    "start_time = time.time()\n",
    "AggVersion.clone_repository(repo=repo, data_root_dir=default_data_folder, github_token=github_token)\n",
    "AggVersion.generate_version_pandas_tables(data_root_dir=default_data_folder)\n",
    "print(\"Time: %.3fs\" % (time.time() - start_time))\n",
    "\n",
    "print(\"Workflows\")\n",
    "start_time = time.time()\n",
    "AggWorkflow.generate_workflow_pandas_tables(repo=repo, data_root_dir=default_data_folder)\n",
    "print(\"Time: %.3fs\" % (time.time() - start_time))"
   ],
   "cell_type": "code",
   "metadata": {},
   "execution_count": 7,
   "outputs": [
    {
     "output_type": "stream",
     "name": "stdout",
     "text": [
      "Issues\n",
      "Time: 37.821s\n",
      "Pull Requests\n",
      "Time: 71.261s\n",
      "Version\n",
      "Serial:   1%|          | 1/117 [00:00<00:11,  9.94it/s]   bug-fix/tests \n",
      "   documentation \n",
      "   feat/commit \n",
      "   notebook \n",
      "   workflows \n",
      "--------------------------------------\n",
      "1\n",
      "--------------------------------------\n",
      "Found no database on provided path. Starting from scratch.\n",
      "Serial: 100%|██████████| 117/117 [00:37<00:00,  3.11it/s]\n",
      "Time: 38.353s\n",
      "Workflows\n",
      "Time: 20.407s\n"
     ]
    }
   ]
  },
  {
   "source": [
    "## Aggregation with mutiple threads"
   ],
   "cell_type": "markdown",
   "metadata": {}
  },
  {
   "cell_type": "code",
   "execution_count": 8,
   "metadata": {},
   "outputs": [
    {
     "output_type": "stream",
     "name": "stdout",
     "text": [
      "Issues\n",
      "Pull Requests\n",
      "Version\n",
      "Workflows\n",
      "Serial:   0%|          | 0/117 [00:00<?, ?it/s]   bug-fix/tests \n",
      "   documentation \n",
      "   feat/commit \n",
      "   notebook \n",
      "   workflows \n",
      "--------------------------------------\n",
      "1\n",
      "--------------------------------------\n",
      "Found no database on provided path. Starting from scratch.\n",
      "Serial: 100%|██████████| 117/117 [00:40<00:00,  2.92it/s]\n",
      "\n",
      "Time: 70.730s\n"
     ]
    }
   ],
   "source": [
    "start_time = time.time()\n",
    "print(\"Issues\")\n",
    "issues = threading.Thread(target=AggIssues.generate_issue_pandas_tables, args=(repo, default_data_folder))\n",
    "issues.start()\n",
    "\n",
    "print(\"Pull Requests\")\n",
    "pull_request = threading.Thread(target=AggPullRequest.generate_pull_request_pandas_tables, args=(repo, default_data_folder))\n",
    "pull_request.start()\n",
    "\n",
    "print(\"Version\")\n",
    "def agg_version(repo, data_root_dir, github_token):\n",
    "    AggVersion.clone_repository(repo=repo, data_root_dir=default_data_folder, github_token=github_token)\n",
    "    AggVersion.generate_version_pandas_tables(data_root_dir=default_data_folder)\n",
    "version = threading.Thread(target=agg_version, args=(repo, default_data_folder, github_token))\n",
    "version.start()\n",
    "\n",
    "print(\"Workflows\")\n",
    "workflow = threading.Thread(target=AggWorkflow.generate_workflow_pandas_tables, args=(repo, default_data_folder))\n",
    "workflow.start()\n",
    "\n",
    "issues.join()\n",
    "pull_request.join()\n",
    "version.join()\n",
    "workflow.join()\n",
    "\n",
    "print(\"\\nTime: %.3fs\" % (time.time() - start_time))"
   ]
  },
  {
   "cell_type": "code",
   "execution_count": null,
   "metadata": {},
   "outputs": [],
   "source": []
  }
 ]
}