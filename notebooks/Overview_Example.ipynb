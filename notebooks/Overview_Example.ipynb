{
 "metadata": {
  "language_info": {
   "codemirror_mode": {
    "name": "ipython",
    "version": 3
   },
   "file_extension": ".py",
   "mimetype": "text/x-python",
   "name": "python",
   "nbconvert_exporter": "python",
   "pygments_lexer": "ipython3",
   "version": "3.8.8"
  },
  "orig_nbformat": 2,
  "kernelspec": {
   "name": "python3",
   "display_name": "Python 3",
   "language": "python"
  }
 },
 "nbformat": 4,
 "nbformat_minor": 2,
 "cells": [
  {
   "source": [
    "# Comprehensive aggregation of GitHub activities\n",
    "\n",
    "-----------------------------------------------------------------\n",
    "\n",
    "This examples shows how to aggregate Issue, Pull-Request and Workflow activities as well as complete version history. "
   ],
   "cell_type": "markdown",
   "metadata": {}
  },
  {
   "cell_type": "code",
   "execution_count": 1,
   "metadata": {},
   "outputs": [],
   "source": [
    "from github2pandas.issues import Issues\n",
    "from github2pandas.pull_requests import PullRequests\n",
    "from github2pandas.version import Version\n",
    "from github2pandas.workflows import Workflows\n",
    "from github2pandas.utility import Utility\n",
    "from pathlib import Path\n",
    "import threading\n",
    "import time"
   ]
  },
  {
   "source": [
    "## Basic Usage\n",
    "\n",
    "The most important input parameter is an Repository object from PyGitHub-Package."
   ],
   "cell_type": "markdown",
   "metadata": {}
  },
  {
   "cell_type": "code",
   "execution_count": 2,
   "metadata": {},
   "outputs": [],
   "source": [
    "git_repo_name = \"Extract_Git_Activities\"\n",
    "git_repo_owner = \"TUBAF-IFI-DiPiT\"\n",
    "    \n",
    "default_data_folder = Path(\"data\", git_repo_name)\n",
    "\n",
    "import os\n",
    "github_token = os.environ['TOKEN']\n",
    "# If you do not include your Github Token in .env, its neccessary to integrate it here. \n",
    "# github_token = \"yourToken\"\n",
    "\n",
    "repo = Utility.get_repo(git_repo_owner, git_repo_name, github_token)"
   ]
  },
  {
   "source": [
    "## Aggregation"
   ],
   "cell_type": "markdown",
   "metadata": {}
  },
  {
   "source": [
    "print(\"Issues\")\n",
    "start_time = time.time()\n",
    "Issues.generate_issue_pandas_tables(repo, default_data_folder)\n",
    "print(\"Time: %.3fs\" % (time.time() - start_time))\n",
    "\n",
    "print(\"Pull Requests\")\n",
    "start_time = time.time()\n",
    "PullRequests.generate_pull_request_pandas_tables(repo, default_data_folder)\n",
    "print(\"Time: %.3fs\" % (time.time() - start_time))\n",
    "\n",
    "print(\"Version\")\n",
    "start_time = time.time()\n",
    "Version.clone_repository(repo=repo, data_root_dir=default_data_folder, github_token=github_token)\n",
    "Version.generate_version_pandas_tables(data_root_dir=default_data_folder)\n",
    "print(\"Time: %.3fs\" % (time.time() - start_time))\n",
    "\n",
    "print(\"Workflows\")\n",
    "start_time = time.time()\n",
    "Workflows.generate_workflow_pandas_tables(repo=repo, data_root_dir=default_data_folder)\n",
    "print(\"Time: %.3fs\" % (time.time() - start_time))"
   ],
   "cell_type": "code",
   "metadata": {},
   "execution_count": 3,
   "outputs": [
    {
     "output_type": "stream",
     "name": "stdout",
     "text": [
      "Issues\n",
      "Time: 6.115s\n",
      "Pull Requests\n",
      "Time: 18.844s\n",
      "Version\n",
      "   bug-fix/tests \n",
      "   documentation \n",
      "   feat/commit \n",
      "   feature/small-changes \n",
      "   notebook \n",
      "Serial:   0%|          | 0/136 [00:00<?, ?it/s] \n",
      "Found no database on provided path. Starting from scratch.\n",
      "Serial: 100%|██████████| 136/136 [02:18<00:00,  1.02s/it]\n",
      "Time: 139.857s\n",
      "Workflows\n",
      "Time: 16.748s\n"
     ]
    }
   ]
  },
  {
   "cell_type": "code",
   "execution_count": null,
   "metadata": {},
   "outputs": [],
   "source": []
  }
 ]
}