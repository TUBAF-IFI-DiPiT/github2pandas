{
 "metadata": {
  "language_info": {
   "codemirror_mode": {
    "name": "ipython",
    "version": 3
   },
   "file_extension": ".py",
   "mimetype": "text/x-python",
   "name": "python",
   "nbconvert_exporter": "python",
   "pygments_lexer": "ipython3",
   "version": "3.8.8-final"
  },
  "orig_nbformat": 2,
  "kernelspec": {
   "name": "python3",
   "display_name": "Python 3.8.8 64-bit ('Extract_Git_Activities': pipenv)",
   "metadata": {
    "interpreter": {
     "hash": "a74db7c17bb42bdc6782337ffe9f6e69d149f4d998b99f4435b4ceded118fa02"
    }
   }
  }
 },
 "nbformat": 4,
 "nbformat_minor": 2,
 "cells": [
  {
   "source": [
    "# Test Issues Data Aggregation\n",
    "\n",
    "-----------------------------------------------------------------\n",
    "This example illustrates the aggregation of issue data using the github2pandas repository. Here, all issues are read out."
   ],
   "cell_type": "markdown",
   "metadata": {}
  },
  {
   "cell_type": "code",
   "execution_count": 1,
   "metadata": {},
   "outputs": [],
   "source": [
    "from github2pandas.aggregation.issues import AggIssues as AggI\n",
    "from github2pandas.aggregation.utility import Utility\n",
    "from pathlib import Path"
   ]
  },
  {
   "source": [
    "## Basic Usage\n",
    "\n",
    "The most important input parameter is an Repository object from PyGitHub-Package."
   ],
   "cell_type": "markdown",
   "metadata": {}
  },
  {
   "cell_type": "code",
   "execution_count": 2,
   "metadata": {},
   "outputs": [],
   "source": [
    "git_repo_name = \"Extract_Git_Activities\"\n",
    "git_repo_owner = \"TUBAF-IFI-DiPiT\"\n",
    "    \n",
    "default_data_folder = Path(\"data\", git_repo_name)\n",
    "\n",
    "import os\n",
    "github_token = os.environ['TOKEN']\n",
    "# If you do not include your Github Token in .env, its neccessary to integrate it here. \n",
    "# github_token = \"yourToken\"\n",
    "\n",
    "repo = Utility.get_repo(git_repo_owner, git_repo_name, github_token)"
   ]
  },
  {
   "source": [
    "The code snipet generates a raw data set based on repo information."
   ],
   "cell_type": "markdown",
   "metadata": {}
  },
  {
   "cell_type": "code",
   "execution_count": 3,
   "metadata": {},
   "outputs": [
    {
     "output_type": "execute_result",
     "data": {
      "text/plain": [
       "True"
      ]
     },
     "metadata": {},
     "execution_count": 3
    }
   ],
   "source": [
    "AggI.generate_issue_pandas_tables(repo, default_data_folder)"
   ]
  },
  {
   "cell_type": "code",
   "execution_count": 4,
   "metadata": {},
   "outputs": [
    {
     "output_type": "execute_result",
     "data": {
      "text/plain": [
       "                              assignees  assignees_count  \\\n",
       "0  6d1b7901-9635-4705-a7f5-050593c619dc                1   \n",
       "1  6d1b7901-9635-4705-a7f5-050593c619dc                1   \n",
       "2  6d1b7901-9635-4705-a7f5-050593c619dc                1   \n",
       "3  6d1b7901-9635-4705-a7f5-050593c619dc                1   \n",
       "4                                                      0   \n",
       "\n",
       "                                                body           closed_at  \\\n",
       "0                                resolve test issues 2021-03-15 10:11:44   \n",
       "1  In the notebook example, despite the unique as...                 NaT   \n",
       "2               create some models for pandas tables 2021-03-18 08:51:31   \n",
       "3  user data should be saved in a different file ... 2021-03-12 08:25:21   \n",
       "4  Jupyter notebooks for illustrating the basic u... 2021-03-05 09:00:16   \n",
       "\n",
       "                              closed_by          created_at         id labels  \\\n",
       "0  7be26812-dfaa-4724-932c-6a9613761e42 2021-03-15 09:02:40  831589201          \n",
       "1                                  None 2021-03-14 12:49:41  831148430          \n",
       "2  6d1b7901-9635-4705-a7f5-050593c619dc 2021-03-12 08:27:08  829875939          \n",
       "3  6d1b7901-9635-4705-a7f5-050593c619dc 2021-03-11 12:15:32  829096813          \n",
       "4  7be26812-dfaa-4724-932c-6a9613761e42 2021-03-05 06:30:09  822791418          \n",
       "\n",
       "   labels_count milestone_id   state                        title  \\\n",
       "0             0         None  closed                Tests failing   \n",
       "1             0         None    open            Unique user names   \n",
       "2             0         None  closed  predefine the pandas tables   \n",
       "3             0         None  closed      extraction of user data   \n",
       "4             0         None  closed  Integrate notebook examples   \n",
       "\n",
       "           updated_at                                author  comments_count  \\\n",
       "0 2021-03-15 10:11:44  6d1b7901-9635-4705-a7f5-050593c619dc               0   \n",
       "1 2021-03-15 08:37:19  7be26812-dfaa-4724-932c-6a9613761e42               2   \n",
       "2 2021-03-18 08:51:31  6d1b7901-9635-4705-a7f5-050593c619dc               3   \n",
       "3 2021-03-12 08:25:21  6d1b7901-9635-4705-a7f5-050593c619dc               0   \n",
       "4 2021-03-05 09:00:16  7be26812-dfaa-4724-932c-6a9613761e42               0   \n",
       "\n",
       "   event_count  reaction_count  \n",
       "0            3               0  \n",
       "1            3               0  \n",
       "2            3               0  \n",
       "3            2               0  \n",
       "4            3               0  "
      ],
      "text/html": "<div>\n<style scoped>\n    .dataframe tbody tr th:only-of-type {\n        vertical-align: middle;\n    }\n\n    .dataframe tbody tr th {\n        vertical-align: top;\n    }\n\n    .dataframe thead th {\n        text-align: right;\n    }\n</style>\n<table border=\"1\" class=\"dataframe\">\n  <thead>\n    <tr style=\"text-align: right;\">\n      <th></th>\n      <th>assignees</th>\n      <th>assignees_count</th>\n      <th>body</th>\n      <th>closed_at</th>\n      <th>closed_by</th>\n      <th>created_at</th>\n      <th>id</th>\n      <th>labels</th>\n      <th>labels_count</th>\n      <th>milestone_id</th>\n      <th>state</th>\n      <th>title</th>\n      <th>updated_at</th>\n      <th>author</th>\n      <th>comments_count</th>\n      <th>event_count</th>\n      <th>reaction_count</th>\n    </tr>\n  </thead>\n  <tbody>\n    <tr>\n      <th>0</th>\n      <td>6d1b7901-9635-4705-a7f5-050593c619dc</td>\n      <td>1</td>\n      <td>resolve test issues</td>\n      <td>2021-03-15 10:11:44</td>\n      <td>7be26812-dfaa-4724-932c-6a9613761e42</td>\n      <td>2021-03-15 09:02:40</td>\n      <td>831589201</td>\n      <td></td>\n      <td>0</td>\n      <td>None</td>\n      <td>closed</td>\n      <td>Tests failing</td>\n      <td>2021-03-15 10:11:44</td>\n      <td>6d1b7901-9635-4705-a7f5-050593c619dc</td>\n      <td>0</td>\n      <td>3</td>\n      <td>0</td>\n    </tr>\n    <tr>\n      <th>1</th>\n      <td>6d1b7901-9635-4705-a7f5-050593c619dc</td>\n      <td>1</td>\n      <td>In the notebook example, despite the unique as...</td>\n      <td>NaT</td>\n      <td>None</td>\n      <td>2021-03-14 12:49:41</td>\n      <td>831148430</td>\n      <td></td>\n      <td>0</td>\n      <td>None</td>\n      <td>open</td>\n      <td>Unique user names</td>\n      <td>2021-03-15 08:37:19</td>\n      <td>7be26812-dfaa-4724-932c-6a9613761e42</td>\n      <td>2</td>\n      <td>3</td>\n      <td>0</td>\n    </tr>\n    <tr>\n      <th>2</th>\n      <td>6d1b7901-9635-4705-a7f5-050593c619dc</td>\n      <td>1</td>\n      <td>create some models for pandas tables</td>\n      <td>2021-03-18 08:51:31</td>\n      <td>6d1b7901-9635-4705-a7f5-050593c619dc</td>\n      <td>2021-03-12 08:27:08</td>\n      <td>829875939</td>\n      <td></td>\n      <td>0</td>\n      <td>None</td>\n      <td>closed</td>\n      <td>predefine the pandas tables</td>\n      <td>2021-03-18 08:51:31</td>\n      <td>6d1b7901-9635-4705-a7f5-050593c619dc</td>\n      <td>3</td>\n      <td>3</td>\n      <td>0</td>\n    </tr>\n    <tr>\n      <th>3</th>\n      <td>6d1b7901-9635-4705-a7f5-050593c619dc</td>\n      <td>1</td>\n      <td>user data should be saved in a different file ...</td>\n      <td>2021-03-12 08:25:21</td>\n      <td>6d1b7901-9635-4705-a7f5-050593c619dc</td>\n      <td>2021-03-11 12:15:32</td>\n      <td>829096813</td>\n      <td></td>\n      <td>0</td>\n      <td>None</td>\n      <td>closed</td>\n      <td>extraction of user data</td>\n      <td>2021-03-12 08:25:21</td>\n      <td>6d1b7901-9635-4705-a7f5-050593c619dc</td>\n      <td>0</td>\n      <td>2</td>\n      <td>0</td>\n    </tr>\n    <tr>\n      <th>4</th>\n      <td></td>\n      <td>0</td>\n      <td>Jupyter notebooks for illustrating the basic u...</td>\n      <td>2021-03-05 09:00:16</td>\n      <td>7be26812-dfaa-4724-932c-6a9613761e42</td>\n      <td>2021-03-05 06:30:09</td>\n      <td>822791418</td>\n      <td></td>\n      <td>0</td>\n      <td>None</td>\n      <td>closed</td>\n      <td>Integrate notebook examples</td>\n      <td>2021-03-05 09:00:16</td>\n      <td>7be26812-dfaa-4724-932c-6a9613761e42</td>\n      <td>0</td>\n      <td>3</td>\n      <td>0</td>\n    </tr>\n  </tbody>\n</table>\n</div>"
     },
     "metadata": {},
     "execution_count": 4
    }
   ],
   "source": [
    "issues = AggI.get_raw_issues(default_data_folder,AggI.ISSUES)\n",
    "issues.head(5)"
   ]
  },
  {
   "cell_type": "code",
   "execution_count": 5,
   "metadata": {},
   "outputs": [
    {
     "output_type": "execute_result",
     "data": {
      "text/plain": [
       "                                                body          created_at  \\\n",
       "0  Did you looked at the users @SebastianZug ?  T... 2021-03-15 08:23:58   \n",
       "1  Can you please add a function that provides us... 2021-03-15 08:37:19   \n",
       "2                              What are you meaning? 2021-03-12 10:17:26   \n",
       "3  Creating a dictionary with limited keys.\\r\\n\\r... 2021-03-12 10:28:51   \n",
       "4             And all keys are initially set to None 2021-03-12 10:29:44   \n",
       "\n",
       "          id                                author  reactions_count   issue_id  \n",
       "0  799217926  6d1b7901-9635-4705-a7f5-050593c619dc                0  831148430  \n",
       "1  799227268  7be26812-dfaa-4724-932c-6a9613761e42                0  831148430  \n",
       "2  797388837  7be26812-dfaa-4724-932c-6a9613761e42                0  829875939  \n",
       "3  797395885  6d1b7901-9635-4705-a7f5-050593c619dc                0  829875939  \n",
       "4  797396432  6d1b7901-9635-4705-a7f5-050593c619dc                0  829875939  "
      ],
      "text/html": "<div>\n<style scoped>\n    .dataframe tbody tr th:only-of-type {\n        vertical-align: middle;\n    }\n\n    .dataframe tbody tr th {\n        vertical-align: top;\n    }\n\n    .dataframe thead th {\n        text-align: right;\n    }\n</style>\n<table border=\"1\" class=\"dataframe\">\n  <thead>\n    <tr style=\"text-align: right;\">\n      <th></th>\n      <th>body</th>\n      <th>created_at</th>\n      <th>id</th>\n      <th>author</th>\n      <th>reactions_count</th>\n      <th>issue_id</th>\n    </tr>\n  </thead>\n  <tbody>\n    <tr>\n      <th>0</th>\n      <td>Did you looked at the users @SebastianZug ?  T...</td>\n      <td>2021-03-15 08:23:58</td>\n      <td>799217926</td>\n      <td>6d1b7901-9635-4705-a7f5-050593c619dc</td>\n      <td>0</td>\n      <td>831148430</td>\n    </tr>\n    <tr>\n      <th>1</th>\n      <td>Can you please add a function that provides us...</td>\n      <td>2021-03-15 08:37:19</td>\n      <td>799227268</td>\n      <td>7be26812-dfaa-4724-932c-6a9613761e42</td>\n      <td>0</td>\n      <td>831148430</td>\n    </tr>\n    <tr>\n      <th>2</th>\n      <td>What are you meaning?</td>\n      <td>2021-03-12 10:17:26</td>\n      <td>797388837</td>\n      <td>7be26812-dfaa-4724-932c-6a9613761e42</td>\n      <td>0</td>\n      <td>829875939</td>\n    </tr>\n    <tr>\n      <th>3</th>\n      <td>Creating a dictionary with limited keys.\\r\\n\\r...</td>\n      <td>2021-03-12 10:28:51</td>\n      <td>797395885</td>\n      <td>6d1b7901-9635-4705-a7f5-050593c619dc</td>\n      <td>0</td>\n      <td>829875939</td>\n    </tr>\n    <tr>\n      <th>4</th>\n      <td>And all keys are initially set to None</td>\n      <td>2021-03-12 10:29:44</td>\n      <td>797396432</td>\n      <td>6d1b7901-9635-4705-a7f5-050593c619dc</td>\n      <td>0</td>\n      <td>829875939</td>\n    </tr>\n  </tbody>\n</table>\n</div>"
     },
     "metadata": {},
     "execution_count": 5
    }
   ],
   "source": [
    "issues_comments = AggI.get_raw_issues(default_data_folder,AggI.ISSUES_COMMENTS)\n",
    "issues_comments.head(5)"
   ]
  },
  {
   "cell_type": "code",
   "execution_count": 6,
   "metadata": {},
   "outputs": [
    {
     "output_type": "execute_result",
     "data": {
      "text/plain": [
       "  content          created_at         id  \\\n",
       "0      +1 2021-03-18 09:34:29  104783471   \n",
       "1      +1 2021-03-03 06:58:39  102773172   \n",
       "\n",
       "                                 author   comment_id     issue_id  \n",
       "0  7be26812-dfaa-4724-932c-6a9613761e42  801747339.0          NaN  \n",
       "1  6d1b7901-9635-4705-a7f5-050593c619dc          NaN  818689008.0  "
      ],
      "text/html": "<div>\n<style scoped>\n    .dataframe tbody tr th:only-of-type {\n        vertical-align: middle;\n    }\n\n    .dataframe tbody tr th {\n        vertical-align: top;\n    }\n\n    .dataframe thead th {\n        text-align: right;\n    }\n</style>\n<table border=\"1\" class=\"dataframe\">\n  <thead>\n    <tr style=\"text-align: right;\">\n      <th></th>\n      <th>content</th>\n      <th>created_at</th>\n      <th>id</th>\n      <th>author</th>\n      <th>comment_id</th>\n      <th>issue_id</th>\n    </tr>\n  </thead>\n  <tbody>\n    <tr>\n      <th>0</th>\n      <td>+1</td>\n      <td>2021-03-18 09:34:29</td>\n      <td>104783471</td>\n      <td>7be26812-dfaa-4724-932c-6a9613761e42</td>\n      <td>801747339.0</td>\n      <td>NaN</td>\n    </tr>\n    <tr>\n      <th>1</th>\n      <td>+1</td>\n      <td>2021-03-03 06:58:39</td>\n      <td>102773172</td>\n      <td>6d1b7901-9635-4705-a7f5-050593c619dc</td>\n      <td>NaN</td>\n      <td>818689008.0</td>\n    </tr>\n  </tbody>\n</table>\n</div>"
     },
     "metadata": {},
     "execution_count": 6
    }
   ],
   "source": [
    "issues_reactions = AggI.get_raw_issues(default_data_folder,AggI.ISSUES_REACTIONS)\n",
    "issues_reactions.head(5)"
   ]
  },
  {
   "cell_type": "code",
   "execution_count": 7,
   "metadata": {},
   "outputs": [
    {
     "output_type": "execute_result",
     "data": {
      "text/plain": [
       "                                 author commit_id          created_at  \\\n",
       "0  6d1b7901-9635-4705-a7f5-050593c619dc      None 2021-03-15 09:02:40   \n",
       "1  6d1b7901-9635-4705-a7f5-050593c619dc      None 2021-03-15 10:03:37   \n",
       "2  7be26812-dfaa-4724-932c-6a9613761e42      None 2021-03-15 10:11:44   \n",
       "3  6d1b7901-9635-4705-a7f5-050593c619dc      None 2021-03-14 12:49:52   \n",
       "4  7be26812-dfaa-4724-932c-6a9613761e42      None 2021-03-15 08:23:59   \n",
       "\n",
       "       event          id label                              assignee  \\\n",
       "0   assigned  4457375886  None  6d1b7901-9635-4705-a7f5-050593c619dc   \n",
       "1  connected  4457706627  None                                  None   \n",
       "2     closed  4457751217  None                                  None   \n",
       "3   assigned  4455225272  None  6d1b7901-9635-4705-a7f5-050593c619dc   \n",
       "4  mentioned  4457180351  None                                  None   \n",
       "\n",
       "                               assigner   issue_id  \n",
       "0  6d1b7901-9635-4705-a7f5-050593c619dc  831589201  \n",
       "1                                  None  831589201  \n",
       "2                                  None  831589201  \n",
       "3  7be26812-dfaa-4724-932c-6a9613761e42  831148430  \n",
       "4                                  None  831148430  "
      ],
      "text/html": "<div>\n<style scoped>\n    .dataframe tbody tr th:only-of-type {\n        vertical-align: middle;\n    }\n\n    .dataframe tbody tr th {\n        vertical-align: top;\n    }\n\n    .dataframe thead th {\n        text-align: right;\n    }\n</style>\n<table border=\"1\" class=\"dataframe\">\n  <thead>\n    <tr style=\"text-align: right;\">\n      <th></th>\n      <th>author</th>\n      <th>commit_id</th>\n      <th>created_at</th>\n      <th>event</th>\n      <th>id</th>\n      <th>label</th>\n      <th>assignee</th>\n      <th>assigner</th>\n      <th>issue_id</th>\n    </tr>\n  </thead>\n  <tbody>\n    <tr>\n      <th>0</th>\n      <td>6d1b7901-9635-4705-a7f5-050593c619dc</td>\n      <td>None</td>\n      <td>2021-03-15 09:02:40</td>\n      <td>assigned</td>\n      <td>4457375886</td>\n      <td>None</td>\n      <td>6d1b7901-9635-4705-a7f5-050593c619dc</td>\n      <td>6d1b7901-9635-4705-a7f5-050593c619dc</td>\n      <td>831589201</td>\n    </tr>\n    <tr>\n      <th>1</th>\n      <td>6d1b7901-9635-4705-a7f5-050593c619dc</td>\n      <td>None</td>\n      <td>2021-03-15 10:03:37</td>\n      <td>connected</td>\n      <td>4457706627</td>\n      <td>None</td>\n      <td>None</td>\n      <td>None</td>\n      <td>831589201</td>\n    </tr>\n    <tr>\n      <th>2</th>\n      <td>7be26812-dfaa-4724-932c-6a9613761e42</td>\n      <td>None</td>\n      <td>2021-03-15 10:11:44</td>\n      <td>closed</td>\n      <td>4457751217</td>\n      <td>None</td>\n      <td>None</td>\n      <td>None</td>\n      <td>831589201</td>\n    </tr>\n    <tr>\n      <th>3</th>\n      <td>6d1b7901-9635-4705-a7f5-050593c619dc</td>\n      <td>None</td>\n      <td>2021-03-14 12:49:52</td>\n      <td>assigned</td>\n      <td>4455225272</td>\n      <td>None</td>\n      <td>6d1b7901-9635-4705-a7f5-050593c619dc</td>\n      <td>7be26812-dfaa-4724-932c-6a9613761e42</td>\n      <td>831148430</td>\n    </tr>\n    <tr>\n      <th>4</th>\n      <td>7be26812-dfaa-4724-932c-6a9613761e42</td>\n      <td>None</td>\n      <td>2021-03-15 08:23:59</td>\n      <td>mentioned</td>\n      <td>4457180351</td>\n      <td>None</td>\n      <td>None</td>\n      <td>None</td>\n      <td>831148430</td>\n    </tr>\n  </tbody>\n</table>\n</div>"
     },
     "metadata": {},
     "execution_count": 7
    }
   ],
   "source": [
    "issues_events = AggI.get_raw_issues(default_data_folder,AggI.ISSUES_EVENTS)\n",
    "issues_events.head(5)"
   ]
  },
  {
   "cell_type": "code",
   "execution_count": null,
   "metadata": {},
   "outputs": [],
   "source": []
  }
 ]
}