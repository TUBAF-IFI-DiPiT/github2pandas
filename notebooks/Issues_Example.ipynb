{
 "metadata": {
  "language_info": {
   "codemirror_mode": {
    "name": "ipython",
    "version": 3
   },
   "file_extension": ".py",
   "mimetype": "text/x-python",
   "name": "python",
   "nbconvert_exporter": "python",
   "pygments_lexer": "ipython3",
   "version": "3.8.8-final"
  },
  "orig_nbformat": 2,
  "kernelspec": {
   "name": "python3",
   "display_name": "Python 3.8.8 64-bit ('Extract_Git_Activities': pipenv)",
   "metadata": {
    "interpreter": {
     "hash": "a74db7c17bb42bdc6782337ffe9f6e69d149f4d998b99f4435b4ceded118fa02"
    }
   }
  }
 },
 "nbformat": 4,
 "nbformat_minor": 2,
 "cells": [
  {
   "source": [
    "# Test Issues Data Aggregation\n",
    "\n",
    "-----------------------------------------------------------------\n",
    "This example illustrates the aggregation of issue data using the github2pandas repository. Here, all issues are read out."
   ],
   "cell_type": "markdown",
   "metadata": {}
  },
  {
   "cell_type": "code",
   "execution_count": 1,
   "metadata": {},
   "outputs": [],
   "source": [
    "from github2pandas.aggregation.issues import AggIssues as AggI\n",
    "from github2pandas.aggregation.utility import Utility\n",
    "from pathlib import Path"
   ]
  },
  {
   "source": [
    "## Basic Usage\n",
    "\n",
    "The most important input parameter is an Repository object from PyGitHub-Package."
   ],
   "cell_type": "markdown",
   "metadata": {}
  },
  {
   "cell_type": "code",
   "execution_count": 2,
   "metadata": {},
   "outputs": [],
   "source": [
    "git_repo_name = \"Extract_Git_Activities\"\n",
    "git_repo_owner = \"TUBAF-IFI-DiPiT\"\n",
    "    \n",
    "default_data_folder = Path(\"data\", git_repo_name)\n",
    "\n",
    "import os\n",
    "github_token = os.environ['TOKEN']\n",
    "# If you do not include your Github Token in .env, its neccessary to integrate it here. \n",
    "# github_token = \"yourToken\"\n",
    "\n",
    "repo = Utility.get_repo(git_repo_owner, git_repo_name, github_token)"
   ]
  },
  {
   "source": [
    "The code snipet generates a raw data set based on repo information."
   ],
   "cell_type": "markdown",
   "metadata": {}
  },
  {
   "cell_type": "code",
   "execution_count": 3,
   "metadata": {},
   "outputs": [],
   "source": [
    "AggI.generate_issue_pandas_tables(repo, default_data_folder)"
   ]
  },
  {
   "cell_type": "code",
   "execution_count": 4,
   "metadata": {},
   "outputs": [
    {
     "output_type": "execute_result",
     "data": {
      "text/plain": [
       "                              assignees  \\\n",
       "0                                         \n",
       "1  b27ecf24-72f2-423e-90a1-bd0fc850be8f   \n",
       "2  b27ecf24-72f2-423e-90a1-bd0fc850be8f   \n",
       "3  b27ecf24-72f2-423e-90a1-bd0fc850be8f   \n",
       "4  b27ecf24-72f2-423e-90a1-bd0fc850be8f   \n",
       "\n",
       "                                                body           closed_at  \\\n",
       "0                                                                    NaT   \n",
       "1                                resolve test issues 2021-03-15 10:11:44   \n",
       "2  In the notebook example, despite the unique as...                 NaT   \n",
       "3               create some models for pandas tables 2021-03-18 08:51:31   \n",
       "4  user data should be saved in a different file ... 2021-03-12 08:25:21   \n",
       "\n",
       "           created_at         id labels   state                        title  \\\n",
       "0 2021-03-22 09:10:34  837497983           open     speed up the aggregation   \n",
       "1 2021-03-15 09:02:40  831589201         closed                Tests failing   \n",
       "2 2021-03-14 12:49:41  831148430           open            Unique user names   \n",
       "3 2021-03-12 08:27:08  829875939         closed  predefine the pandas tables   \n",
       "4 2021-03-11 12:15:32  829096813         closed      extraction of user data   \n",
       "\n",
       "           updated_at                                author  \n",
       "0 2021-03-25 06:53:08  b27ecf24-72f2-423e-90a1-bd0fc850be8f  \n",
       "1 2021-03-15 10:11:44  b27ecf24-72f2-423e-90a1-bd0fc850be8f  \n",
       "2 2021-03-23 17:29:58  68c4f91d-2f0e-44ae-a9f7-6887bd7c2ebc  \n",
       "3 2021-03-18 08:51:31  b27ecf24-72f2-423e-90a1-bd0fc850be8f  \n",
       "4 2021-03-12 08:25:21  b27ecf24-72f2-423e-90a1-bd0fc850be8f  "
      ],
      "text/html": "<div>\n<style scoped>\n    .dataframe tbody tr th:only-of-type {\n        vertical-align: middle;\n    }\n\n    .dataframe tbody tr th {\n        vertical-align: top;\n    }\n\n    .dataframe thead th {\n        text-align: right;\n    }\n</style>\n<table border=\"1\" class=\"dataframe\">\n  <thead>\n    <tr style=\"text-align: right;\">\n      <th></th>\n      <th>assignees</th>\n      <th>body</th>\n      <th>closed_at</th>\n      <th>created_at</th>\n      <th>id</th>\n      <th>labels</th>\n      <th>state</th>\n      <th>title</th>\n      <th>updated_at</th>\n      <th>author</th>\n    </tr>\n  </thead>\n  <tbody>\n    <tr>\n      <th>0</th>\n      <td></td>\n      <td></td>\n      <td>NaT</td>\n      <td>2021-03-22 09:10:34</td>\n      <td>837497983</td>\n      <td></td>\n      <td>open</td>\n      <td>speed up the aggregation</td>\n      <td>2021-03-25 06:53:08</td>\n      <td>b27ecf24-72f2-423e-90a1-bd0fc850be8f</td>\n    </tr>\n    <tr>\n      <th>1</th>\n      <td>b27ecf24-72f2-423e-90a1-bd0fc850be8f</td>\n      <td>resolve test issues</td>\n      <td>2021-03-15 10:11:44</td>\n      <td>2021-03-15 09:02:40</td>\n      <td>831589201</td>\n      <td></td>\n      <td>closed</td>\n      <td>Tests failing</td>\n      <td>2021-03-15 10:11:44</td>\n      <td>b27ecf24-72f2-423e-90a1-bd0fc850be8f</td>\n    </tr>\n    <tr>\n      <th>2</th>\n      <td>b27ecf24-72f2-423e-90a1-bd0fc850be8f</td>\n      <td>In the notebook example, despite the unique as...</td>\n      <td>NaT</td>\n      <td>2021-03-14 12:49:41</td>\n      <td>831148430</td>\n      <td></td>\n      <td>open</td>\n      <td>Unique user names</td>\n      <td>2021-03-23 17:29:58</td>\n      <td>68c4f91d-2f0e-44ae-a9f7-6887bd7c2ebc</td>\n    </tr>\n    <tr>\n      <th>3</th>\n      <td>b27ecf24-72f2-423e-90a1-bd0fc850be8f</td>\n      <td>create some models for pandas tables</td>\n      <td>2021-03-18 08:51:31</td>\n      <td>2021-03-12 08:27:08</td>\n      <td>829875939</td>\n      <td></td>\n      <td>closed</td>\n      <td>predefine the pandas tables</td>\n      <td>2021-03-18 08:51:31</td>\n      <td>b27ecf24-72f2-423e-90a1-bd0fc850be8f</td>\n    </tr>\n    <tr>\n      <th>4</th>\n      <td>b27ecf24-72f2-423e-90a1-bd0fc850be8f</td>\n      <td>user data should be saved in a different file ...</td>\n      <td>2021-03-12 08:25:21</td>\n      <td>2021-03-11 12:15:32</td>\n      <td>829096813</td>\n      <td></td>\n      <td>closed</td>\n      <td>extraction of user data</td>\n      <td>2021-03-12 08:25:21</td>\n      <td>b27ecf24-72f2-423e-90a1-bd0fc850be8f</td>\n    </tr>\n  </tbody>\n</table>\n</div>"
     },
     "metadata": {},
     "execution_count": 4
    }
   ],
   "source": [
    "issues = AggI.get_issues(default_data_folder,AggI.ISSUES)\n",
    "issues.head(5)"
   ]
  },
  {
   "cell_type": "code",
   "execution_count": 5,
   "metadata": {},
   "outputs": [
    {
     "output_type": "execute_result",
     "data": {
      "text/plain": [
       "    issue_id                                               body  \\\n",
       "0  837497983  What's your idea to improve the aggregation sp...   \n",
       "1  837497983   https://github.com/PyGithub/PyGithub/issues/1885   \n",
       "2  837497983  checked the speed of creating a dict.\\r\\n\\r\\nB...   \n",
       "3  831148430  Did you looked at the users @SebastianZug ?  T...   \n",
       "4  831148430  Can you please add a function that provides us...   \n",
       "\n",
       "           created_at         id                                author  \n",
       "0 2021-03-22 09:23:20  803905749  68c4f91d-2f0e-44ae-a9f7-6887bd7c2ebc  \n",
       "1 2021-03-22 09:56:16  803930892  b27ecf24-72f2-423e-90a1-bd0fc850be8f  \n",
       "2 2021-03-25 06:53:08  806409426  b27ecf24-72f2-423e-90a1-bd0fc850be8f  \n",
       "3 2021-03-15 08:23:58  799217926  b27ecf24-72f2-423e-90a1-bd0fc850be8f  \n",
       "4 2021-03-15 08:37:19  799227268  68c4f91d-2f0e-44ae-a9f7-6887bd7c2ebc  "
      ],
      "text/html": "<div>\n<style scoped>\n    .dataframe tbody tr th:only-of-type {\n        vertical-align: middle;\n    }\n\n    .dataframe tbody tr th {\n        vertical-align: top;\n    }\n\n    .dataframe thead th {\n        text-align: right;\n    }\n</style>\n<table border=\"1\" class=\"dataframe\">\n  <thead>\n    <tr style=\"text-align: right;\">\n      <th></th>\n      <th>issue_id</th>\n      <th>body</th>\n      <th>created_at</th>\n      <th>id</th>\n      <th>author</th>\n    </tr>\n  </thead>\n  <tbody>\n    <tr>\n      <th>0</th>\n      <td>837497983</td>\n      <td>What's your idea to improve the aggregation sp...</td>\n      <td>2021-03-22 09:23:20</td>\n      <td>803905749</td>\n      <td>68c4f91d-2f0e-44ae-a9f7-6887bd7c2ebc</td>\n    </tr>\n    <tr>\n      <th>1</th>\n      <td>837497983</td>\n      <td>https://github.com/PyGithub/PyGithub/issues/1885</td>\n      <td>2021-03-22 09:56:16</td>\n      <td>803930892</td>\n      <td>b27ecf24-72f2-423e-90a1-bd0fc850be8f</td>\n    </tr>\n    <tr>\n      <th>2</th>\n      <td>837497983</td>\n      <td>checked the speed of creating a dict.\\r\\n\\r\\nB...</td>\n      <td>2021-03-25 06:53:08</td>\n      <td>806409426</td>\n      <td>b27ecf24-72f2-423e-90a1-bd0fc850be8f</td>\n    </tr>\n    <tr>\n      <th>3</th>\n      <td>831148430</td>\n      <td>Did you looked at the users @SebastianZug ?  T...</td>\n      <td>2021-03-15 08:23:58</td>\n      <td>799217926</td>\n      <td>b27ecf24-72f2-423e-90a1-bd0fc850be8f</td>\n    </tr>\n    <tr>\n      <th>4</th>\n      <td>831148430</td>\n      <td>Can you please add a function that provides us...</td>\n      <td>2021-03-15 08:37:19</td>\n      <td>799227268</td>\n      <td>68c4f91d-2f0e-44ae-a9f7-6887bd7c2ebc</td>\n    </tr>\n  </tbody>\n</table>\n</div>"
     },
     "metadata": {},
     "execution_count": 5
    }
   ],
   "source": [
    "issues_comments = AggI.get_issues(default_data_folder,AggI.ISSUES_COMMENTS)\n",
    "issues_comments.head(5)"
   ]
  },
  {
   "cell_type": "code",
   "execution_count": 6,
   "metadata": {},
   "outputs": [
    {
     "output_type": "execute_result",
     "data": {
      "text/plain": [
       "    comment_id content          created_at         id  \\\n",
       "0  801747339.0      +1 2021-03-18 09:34:29  104783471   \n",
       "1          NaN      +1 2021-03-03 06:58:39  102773172   \n",
       "\n",
       "                                 author     issue_id  \n",
       "0  68c4f91d-2f0e-44ae-a9f7-6887bd7c2ebc          NaN  \n",
       "1  b27ecf24-72f2-423e-90a1-bd0fc850be8f  818689008.0  "
      ],
      "text/html": "<div>\n<style scoped>\n    .dataframe tbody tr th:only-of-type {\n        vertical-align: middle;\n    }\n\n    .dataframe tbody tr th {\n        vertical-align: top;\n    }\n\n    .dataframe thead th {\n        text-align: right;\n    }\n</style>\n<table border=\"1\" class=\"dataframe\">\n  <thead>\n    <tr style=\"text-align: right;\">\n      <th></th>\n      <th>comment_id</th>\n      <th>content</th>\n      <th>created_at</th>\n      <th>id</th>\n      <th>author</th>\n      <th>issue_id</th>\n    </tr>\n  </thead>\n  <tbody>\n    <tr>\n      <th>0</th>\n      <td>801747339.0</td>\n      <td>+1</td>\n      <td>2021-03-18 09:34:29</td>\n      <td>104783471</td>\n      <td>68c4f91d-2f0e-44ae-a9f7-6887bd7c2ebc</td>\n      <td>NaN</td>\n    </tr>\n    <tr>\n      <th>1</th>\n      <td>NaN</td>\n      <td>+1</td>\n      <td>2021-03-03 06:58:39</td>\n      <td>102773172</td>\n      <td>b27ecf24-72f2-423e-90a1-bd0fc850be8f</td>\n      <td>818689008.0</td>\n    </tr>\n  </tbody>\n</table>\n</div>"
     },
     "metadata": {},
     "execution_count": 6
    }
   ],
   "source": [
    "issues_reactions = AggI.get_issues(default_data_folder,AggI.ISSUES_REACTIONS)\n",
    "issues_reactions.head(5)"
   ]
  },
  {
   "cell_type": "code",
   "execution_count": 7,
   "metadata": {},
   "outputs": [
    {
     "output_type": "execute_result",
     "data": {
      "text/plain": [
       "    issue_id                                author commit_sha  \\\n",
       "0  837497983  b27ecf24-72f2-423e-90a1-bd0fc850be8f       None   \n",
       "1  837497983  b27ecf24-72f2-423e-90a1-bd0fc850be8f       None   \n",
       "2  831589201  b27ecf24-72f2-423e-90a1-bd0fc850be8f       None   \n",
       "3  831589201  b27ecf24-72f2-423e-90a1-bd0fc850be8f       None   \n",
       "4  831589201  68c4f91d-2f0e-44ae-a9f7-6887bd7c2ebc       None   \n",
       "\n",
       "           created_at      event          id  \\\n",
       "0 2021-03-23 06:16:03     closed  4494184096   \n",
       "1 2021-03-25 06:53:08   reopened  4506000290   \n",
       "2 2021-03-15 09:02:40   assigned  4457375886   \n",
       "3 2021-03-15 10:03:37  connected  4457706627   \n",
       "4 2021-03-15 10:11:44     closed  4457751217   \n",
       "\n",
       "                               assignee                              assigner  \n",
       "0                                   NaN                                   NaN  \n",
       "1                                   NaN                                   NaN  \n",
       "2  b27ecf24-72f2-423e-90a1-bd0fc850be8f  b27ecf24-72f2-423e-90a1-bd0fc850be8f  \n",
       "3                                   NaN                                   NaN  \n",
       "4                                   NaN                                   NaN  "
      ],
      "text/html": "<div>\n<style scoped>\n    .dataframe tbody tr th:only-of-type {\n        vertical-align: middle;\n    }\n\n    .dataframe tbody tr th {\n        vertical-align: top;\n    }\n\n    .dataframe thead th {\n        text-align: right;\n    }\n</style>\n<table border=\"1\" class=\"dataframe\">\n  <thead>\n    <tr style=\"text-align: right;\">\n      <th></th>\n      <th>issue_id</th>\n      <th>author</th>\n      <th>commit_sha</th>\n      <th>created_at</th>\n      <th>event</th>\n      <th>id</th>\n      <th>assignee</th>\n      <th>assigner</th>\n    </tr>\n  </thead>\n  <tbody>\n    <tr>\n      <th>0</th>\n      <td>837497983</td>\n      <td>b27ecf24-72f2-423e-90a1-bd0fc850be8f</td>\n      <td>None</td>\n      <td>2021-03-23 06:16:03</td>\n      <td>closed</td>\n      <td>4494184096</td>\n      <td>NaN</td>\n      <td>NaN</td>\n    </tr>\n    <tr>\n      <th>1</th>\n      <td>837497983</td>\n      <td>b27ecf24-72f2-423e-90a1-bd0fc850be8f</td>\n      <td>None</td>\n      <td>2021-03-25 06:53:08</td>\n      <td>reopened</td>\n      <td>4506000290</td>\n      <td>NaN</td>\n      <td>NaN</td>\n    </tr>\n    <tr>\n      <th>2</th>\n      <td>831589201</td>\n      <td>b27ecf24-72f2-423e-90a1-bd0fc850be8f</td>\n      <td>None</td>\n      <td>2021-03-15 09:02:40</td>\n      <td>assigned</td>\n      <td>4457375886</td>\n      <td>b27ecf24-72f2-423e-90a1-bd0fc850be8f</td>\n      <td>b27ecf24-72f2-423e-90a1-bd0fc850be8f</td>\n    </tr>\n    <tr>\n      <th>3</th>\n      <td>831589201</td>\n      <td>b27ecf24-72f2-423e-90a1-bd0fc850be8f</td>\n      <td>None</td>\n      <td>2021-03-15 10:03:37</td>\n      <td>connected</td>\n      <td>4457706627</td>\n      <td>NaN</td>\n      <td>NaN</td>\n    </tr>\n    <tr>\n      <th>4</th>\n      <td>831589201</td>\n      <td>68c4f91d-2f0e-44ae-a9f7-6887bd7c2ebc</td>\n      <td>None</td>\n      <td>2021-03-15 10:11:44</td>\n      <td>closed</td>\n      <td>4457751217</td>\n      <td>NaN</td>\n      <td>NaN</td>\n    </tr>\n  </tbody>\n</table>\n</div>"
     },
     "metadata": {},
     "execution_count": 7
    }
   ],
   "source": [
    "issues_events = AggI.get_issues(default_data_folder,AggI.ISSUES_EVENTS)\n",
    "issues_events.head(5)"
   ]
  },
  {
   "cell_type": "code",
   "execution_count": null,
   "metadata": {},
   "outputs": [],
   "source": []
  }
 ]
}