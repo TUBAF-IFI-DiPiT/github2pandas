{
 "metadata": {
  "language_info": {
   "codemirror_mode": {
    "name": "ipython",
    "version": 3
   },
   "file_extension": ".py",
   "mimetype": "text/x-python",
   "name": "python",
   "nbconvert_exporter": "python",
   "pygments_lexer": "ipython3",
   "version": "3.8.8-final"
  },
  "orig_nbformat": 2,
  "kernelspec": {
   "name": "python3",
   "display_name": "Python 3.8.8 64-bit ('Extract_Git_Activities': pipenv)",
   "metadata": {
    "interpreter": {
     "hash": "a74db7c17bb42bdc6782337ffe9f6e69d149f4d998b99f4435b4ceded118fa02"
    }
   }
  }
 },
 "nbformat": 4,
 "nbformat_minor": 2,
 "cells": [
  {
   "source": [
    "# Test Issues Data Aggregation\n",
    "\n",
    "-----------------------------------------------------------------\n",
    "This example illustrates the aggregation of issue data using the github2pandas repository. Here, all issues are read out."
   ],
   "cell_type": "markdown",
   "metadata": {}
  },
  {
   "cell_type": "code",
   "execution_count": 1,
   "metadata": {},
   "outputs": [],
   "source": [
    "from github2pandas.aggregation.issues import AggIssues as AggI\n",
    "from github2pandas.utility import Utility\n",
    "from pathlib import Path"
   ]
  },
  {
   "source": [
    "## Basic Usage\n",
    "\n",
    "The most important input parameter is an Repository object from PyGitHub-Package."
   ],
   "cell_type": "markdown",
   "metadata": {}
  },
  {
   "cell_type": "code",
   "execution_count": 2,
   "metadata": {},
   "outputs": [],
   "source": [
    "git_repo_name = \"Extract_Git_Activities\"\n",
    "git_repo_owner = \"TUBAF-IFI-DiPiT\"\n",
    "    \n",
    "default_data_folder = Path(\"data\", git_repo_name)\n",
    "\n",
    "import os\n",
    "github_token = os.environ['TOKEN']\n",
    "# If you do not include your Github Token in .env, its neccessary to integrate it here. \n",
    "# github_token = \"yourToken\"\n",
    "\n",
    "repo = Utility.get_repo(git_repo_name, github_token)"
   ]
  },
  {
   "source": [
    "The code snipet generates a raw data set based on repo information."
   ],
   "cell_type": "markdown",
   "metadata": {}
  },
  {
   "cell_type": "code",
   "execution_count": 3,
   "metadata": {},
   "outputs": [
    {
     "output_type": "execute_result",
     "data": {
      "text/plain": [
       "True"
      ]
     },
     "metadata": {},
     "execution_count": 3
    }
   ],
   "source": [
    "AggI.generate_issue_pandas_tables(repo, default_data_folder)"
   ]
  },
  {
   "cell_type": "code",
   "execution_count": 4,
   "metadata": {},
   "outputs": [
    {
     "output_type": "execute_result",
     "data": {
      "text/plain": [
       "                              assignees  assignees_count  \\\n",
       "0  6d1b7901-9635-4705-a7f5-050593c619dc                1   \n",
       "1  6d1b7901-9635-4705-a7f5-050593c619dc                1   \n",
       "2  6d1b7901-9635-4705-a7f5-050593c619dc                1   \n",
       "3                                                      0   \n",
       "4  6d1b7901-9635-4705-a7f5-050593c619dc                1   \n",
       "\n",
       "                                                body           closed_at  \\\n",
       "0  In the notebook example, despite the unique as...                 NaT   \n",
       "1               create some models for pandas tables                 NaT   \n",
       "2  user data should be saved in a different file ... 2021-03-12 08:25:21   \n",
       "3  Jupyter notebooks for illustrating the basic u... 2021-03-05 09:00:16   \n",
       "4                                                    2021-03-09 07:38:04   \n",
       "\n",
       "                               closedBy          created_at         id labels  \\\n",
       "0                                  None 2021-03-14 12:49:41  831148430          \n",
       "1                                  None 2021-03-12 08:27:08  829875939          \n",
       "2  6d1b7901-9635-4705-a7f5-050593c619dc 2021-03-11 12:15:32  829096813          \n",
       "3  7be26812-dfaa-4724-932c-6a9613761e42 2021-03-05 06:30:09  822791418          \n",
       "4  7be26812-dfaa-4724-932c-6a9613761e42 2021-03-04 07:00:31  821825890          \n",
       "\n",
       "   labels_count   state                        title          updated_at  \\\n",
       "0             0    open            Unique user names 2021-03-14 12:49:52   \n",
       "1             0    open  predefine the pandas tables 2021-03-12 10:29:44   \n",
       "2             0  closed      extraction of user data 2021-03-12 08:25:21   \n",
       "3             0  closed  Integrate notebook examples 2021-03-05 09:00:16   \n",
       "4             0  closed       Aggregate PullRequests 2021-03-09 07:38:04   \n",
       "\n",
       "                                 author  comments_count  event_count  \\\n",
       "0  7be26812-dfaa-4724-932c-6a9613761e42               0            1   \n",
       "1  6d1b7901-9635-4705-a7f5-050593c619dc               3            2   \n",
       "2  6d1b7901-9635-4705-a7f5-050593c619dc               0            2   \n",
       "3  7be26812-dfaa-4724-932c-6a9613761e42               0            3   \n",
       "4  6d1b7901-9635-4705-a7f5-050593c619dc               1            3   \n",
       "\n",
       "   reaction_count  \n",
       "0               0  \n",
       "1               0  \n",
       "2               0  \n",
       "3               0  \n",
       "4               0  "
      ],
      "text/html": "<div>\n<style scoped>\n    .dataframe tbody tr th:only-of-type {\n        vertical-align: middle;\n    }\n\n    .dataframe tbody tr th {\n        vertical-align: top;\n    }\n\n    .dataframe thead th {\n        text-align: right;\n    }\n</style>\n<table border=\"1\" class=\"dataframe\">\n  <thead>\n    <tr style=\"text-align: right;\">\n      <th></th>\n      <th>assignees</th>\n      <th>assignees_count</th>\n      <th>body</th>\n      <th>closed_at</th>\n      <th>closedBy</th>\n      <th>created_at</th>\n      <th>id</th>\n      <th>labels</th>\n      <th>labels_count</th>\n      <th>state</th>\n      <th>title</th>\n      <th>updated_at</th>\n      <th>author</th>\n      <th>comments_count</th>\n      <th>event_count</th>\n      <th>reaction_count</th>\n    </tr>\n  </thead>\n  <tbody>\n    <tr>\n      <th>0</th>\n      <td>6d1b7901-9635-4705-a7f5-050593c619dc</td>\n      <td>1</td>\n      <td>In the notebook example, despite the unique as...</td>\n      <td>NaT</td>\n      <td>None</td>\n      <td>2021-03-14 12:49:41</td>\n      <td>831148430</td>\n      <td></td>\n      <td>0</td>\n      <td>open</td>\n      <td>Unique user names</td>\n      <td>2021-03-14 12:49:52</td>\n      <td>7be26812-dfaa-4724-932c-6a9613761e42</td>\n      <td>0</td>\n      <td>1</td>\n      <td>0</td>\n    </tr>\n    <tr>\n      <th>1</th>\n      <td>6d1b7901-9635-4705-a7f5-050593c619dc</td>\n      <td>1</td>\n      <td>create some models for pandas tables</td>\n      <td>NaT</td>\n      <td>None</td>\n      <td>2021-03-12 08:27:08</td>\n      <td>829875939</td>\n      <td></td>\n      <td>0</td>\n      <td>open</td>\n      <td>predefine the pandas tables</td>\n      <td>2021-03-12 10:29:44</td>\n      <td>6d1b7901-9635-4705-a7f5-050593c619dc</td>\n      <td>3</td>\n      <td>2</td>\n      <td>0</td>\n    </tr>\n    <tr>\n      <th>2</th>\n      <td>6d1b7901-9635-4705-a7f5-050593c619dc</td>\n      <td>1</td>\n      <td>user data should be saved in a different file ...</td>\n      <td>2021-03-12 08:25:21</td>\n      <td>6d1b7901-9635-4705-a7f5-050593c619dc</td>\n      <td>2021-03-11 12:15:32</td>\n      <td>829096813</td>\n      <td></td>\n      <td>0</td>\n      <td>closed</td>\n      <td>extraction of user data</td>\n      <td>2021-03-12 08:25:21</td>\n      <td>6d1b7901-9635-4705-a7f5-050593c619dc</td>\n      <td>0</td>\n      <td>2</td>\n      <td>0</td>\n    </tr>\n    <tr>\n      <th>3</th>\n      <td></td>\n      <td>0</td>\n      <td>Jupyter notebooks for illustrating the basic u...</td>\n      <td>2021-03-05 09:00:16</td>\n      <td>7be26812-dfaa-4724-932c-6a9613761e42</td>\n      <td>2021-03-05 06:30:09</td>\n      <td>822791418</td>\n      <td></td>\n      <td>0</td>\n      <td>closed</td>\n      <td>Integrate notebook examples</td>\n      <td>2021-03-05 09:00:16</td>\n      <td>7be26812-dfaa-4724-932c-6a9613761e42</td>\n      <td>0</td>\n      <td>3</td>\n      <td>0</td>\n    </tr>\n    <tr>\n      <th>4</th>\n      <td>6d1b7901-9635-4705-a7f5-050593c619dc</td>\n      <td>1</td>\n      <td></td>\n      <td>2021-03-09 07:38:04</td>\n      <td>7be26812-dfaa-4724-932c-6a9613761e42</td>\n      <td>2021-03-04 07:00:31</td>\n      <td>821825890</td>\n      <td></td>\n      <td>0</td>\n      <td>closed</td>\n      <td>Aggregate PullRequests</td>\n      <td>2021-03-09 07:38:04</td>\n      <td>6d1b7901-9635-4705-a7f5-050593c619dc</td>\n      <td>1</td>\n      <td>3</td>\n      <td>0</td>\n    </tr>\n  </tbody>\n</table>\n</div>"
     },
     "metadata": {},
     "execution_count": 4
    }
   ],
   "source": [
    "issues = AggI.get_raw_issues(default_data_folder,AggI.ISSUES)\n",
    "issues.head(5)"
   ]
  },
  {
   "cell_type": "code",
   "execution_count": 5,
   "metadata": {},
   "outputs": [
    {
     "output_type": "execute_result",
     "data": {
      "text/plain": [
       "    issue_id                                               body  \\\n",
       "0  829875939                              What are you meaning?   \n",
       "1  829875939  Creating a dictionary with limited keys.\\r\\n\\r...   \n",
       "2  829875939             And all keys are initially set to None   \n",
       "3  821825890                          PullRequest aren't Issues   \n",
       "4  821819189  Let's define a documentation pattern, that sho...   \n",
       "\n",
       "           created_at         id                                author  \\\n",
       "0 2021-03-12 10:17:26  797388837  7be26812-dfaa-4724-932c-6a9613761e42   \n",
       "1 2021-03-12 10:28:51  797395885  6d1b7901-9635-4705-a7f5-050593c619dc   \n",
       "2 2021-03-12 10:29:44  797396432  6d1b7901-9635-4705-a7f5-050593c619dc   \n",
       "3 2021-03-05 08:04:08  791238319  6d1b7901-9635-4705-a7f5-050593c619dc   \n",
       "4 2021-03-09 07:15:44  793475432  7be26812-dfaa-4724-932c-6a9613761e42   \n",
       "\n",
       "   reactions  \n",
       "0          0  \n",
       "1          0  \n",
       "2          0  \n",
       "3          0  \n",
       "4          0  "
      ],
      "text/html": "<div>\n<style scoped>\n    .dataframe tbody tr th:only-of-type {\n        vertical-align: middle;\n    }\n\n    .dataframe tbody tr th {\n        vertical-align: top;\n    }\n\n    .dataframe thead th {\n        text-align: right;\n    }\n</style>\n<table border=\"1\" class=\"dataframe\">\n  <thead>\n    <tr style=\"text-align: right;\">\n      <th></th>\n      <th>issue_id</th>\n      <th>body</th>\n      <th>created_at</th>\n      <th>id</th>\n      <th>author</th>\n      <th>reactions</th>\n    </tr>\n  </thead>\n  <tbody>\n    <tr>\n      <th>0</th>\n      <td>829875939</td>\n      <td>What are you meaning?</td>\n      <td>2021-03-12 10:17:26</td>\n      <td>797388837</td>\n      <td>7be26812-dfaa-4724-932c-6a9613761e42</td>\n      <td>0</td>\n    </tr>\n    <tr>\n      <th>1</th>\n      <td>829875939</td>\n      <td>Creating a dictionary with limited keys.\\r\\n\\r...</td>\n      <td>2021-03-12 10:28:51</td>\n      <td>797395885</td>\n      <td>6d1b7901-9635-4705-a7f5-050593c619dc</td>\n      <td>0</td>\n    </tr>\n    <tr>\n      <th>2</th>\n      <td>829875939</td>\n      <td>And all keys are initially set to None</td>\n      <td>2021-03-12 10:29:44</td>\n      <td>797396432</td>\n      <td>6d1b7901-9635-4705-a7f5-050593c619dc</td>\n      <td>0</td>\n    </tr>\n    <tr>\n      <th>3</th>\n      <td>821825890</td>\n      <td>PullRequest aren't Issues</td>\n      <td>2021-03-05 08:04:08</td>\n      <td>791238319</td>\n      <td>6d1b7901-9635-4705-a7f5-050593c619dc</td>\n      <td>0</td>\n    </tr>\n    <tr>\n      <th>4</th>\n      <td>821819189</td>\n      <td>Let's define a documentation pattern, that sho...</td>\n      <td>2021-03-09 07:15:44</td>\n      <td>793475432</td>\n      <td>7be26812-dfaa-4724-932c-6a9613761e42</td>\n      <td>0</td>\n    </tr>\n  </tbody>\n</table>\n</div>"
     },
     "metadata": {},
     "execution_count": 5
    }
   ],
   "source": [
    "issues_comments = AggI.get_raw_issues(default_data_folder,AggI.ISSUES_COMMENTS)\n",
    "issues_comments.head(5)"
   ]
  },
  {
   "cell_type": "code",
   "execution_count": 6,
   "metadata": {},
   "outputs": [
    {
     "output_type": "execute_result",
     "data": {
      "text/plain": [
       "    issue_id content          created_at         id  \\\n",
       "0  818689008      +1 2021-03-03 06:58:39  102773172   \n",
       "\n",
       "                                 author  \n",
       "0  6d1b7901-9635-4705-a7f5-050593c619dc  "
      ],
      "text/html": "<div>\n<style scoped>\n    .dataframe tbody tr th:only-of-type {\n        vertical-align: middle;\n    }\n\n    .dataframe tbody tr th {\n        vertical-align: top;\n    }\n\n    .dataframe thead th {\n        text-align: right;\n    }\n</style>\n<table border=\"1\" class=\"dataframe\">\n  <thead>\n    <tr style=\"text-align: right;\">\n      <th></th>\n      <th>issue_id</th>\n      <th>content</th>\n      <th>created_at</th>\n      <th>id</th>\n      <th>author</th>\n    </tr>\n  </thead>\n  <tbody>\n    <tr>\n      <th>0</th>\n      <td>818689008</td>\n      <td>+1</td>\n      <td>2021-03-03 06:58:39</td>\n      <td>102773172</td>\n      <td>6d1b7901-9635-4705-a7f5-050593c619dc</td>\n    </tr>\n  </tbody>\n</table>\n</div>"
     },
     "metadata": {},
     "execution_count": 6
    }
   ],
   "source": [
    "issues_reactions = AggI.get_raw_issues(default_data_folder,AggI.ISSUES_REACTIONS)\n",
    "issues_reactions.head(5)"
   ]
  },
  {
   "cell_type": "code",
   "execution_count": 7,
   "metadata": {},
   "outputs": [
    {
     "output_type": "execute_result",
     "data": {
      "text/plain": [
       "    issue_id                                author commit_id  \\\n",
       "0  831148430  6d1b7901-9635-4705-a7f5-050593c619dc      None   \n",
       "1  829875939  6d1b7901-9635-4705-a7f5-050593c619dc      None   \n",
       "2  829875939  6d1b7901-9635-4705-a7f5-050593c619dc      None   \n",
       "3  829096813  6d1b7901-9635-4705-a7f5-050593c619dc      None   \n",
       "4  829096813  6d1b7901-9635-4705-a7f5-050593c619dc      None   \n",
       "\n",
       "           created_at      event          id  \\\n",
       "0 2021-03-14 12:49:52   assigned  4455225272   \n",
       "1 2021-03-12 08:27:08   assigned  4449384914   \n",
       "2 2021-03-12 10:27:12  connected  4449938975   \n",
       "3 2021-03-11 12:15:36   assigned  4444343020   \n",
       "4 2021-03-12 08:25:21     closed  4449377674   \n",
       "\n",
       "                               assignee                              assigner  \n",
       "0  6d1b7901-9635-4705-a7f5-050593c619dc  7be26812-dfaa-4724-932c-6a9613761e42  \n",
       "1  6d1b7901-9635-4705-a7f5-050593c619dc  6d1b7901-9635-4705-a7f5-050593c619dc  \n",
       "2                                  None                                  None  \n",
       "3  6d1b7901-9635-4705-a7f5-050593c619dc  6d1b7901-9635-4705-a7f5-050593c619dc  \n",
       "4                                  None                                  None  "
      ],
      "text/html": "<div>\n<style scoped>\n    .dataframe tbody tr th:only-of-type {\n        vertical-align: middle;\n    }\n\n    .dataframe tbody tr th {\n        vertical-align: top;\n    }\n\n    .dataframe thead th {\n        text-align: right;\n    }\n</style>\n<table border=\"1\" class=\"dataframe\">\n  <thead>\n    <tr style=\"text-align: right;\">\n      <th></th>\n      <th>issue_id</th>\n      <th>author</th>\n      <th>commit_id</th>\n      <th>created_at</th>\n      <th>event</th>\n      <th>id</th>\n      <th>assignee</th>\n      <th>assigner</th>\n    </tr>\n  </thead>\n  <tbody>\n    <tr>\n      <th>0</th>\n      <td>831148430</td>\n      <td>6d1b7901-9635-4705-a7f5-050593c619dc</td>\n      <td>None</td>\n      <td>2021-03-14 12:49:52</td>\n      <td>assigned</td>\n      <td>4455225272</td>\n      <td>6d1b7901-9635-4705-a7f5-050593c619dc</td>\n      <td>7be26812-dfaa-4724-932c-6a9613761e42</td>\n    </tr>\n    <tr>\n      <th>1</th>\n      <td>829875939</td>\n      <td>6d1b7901-9635-4705-a7f5-050593c619dc</td>\n      <td>None</td>\n      <td>2021-03-12 08:27:08</td>\n      <td>assigned</td>\n      <td>4449384914</td>\n      <td>6d1b7901-9635-4705-a7f5-050593c619dc</td>\n      <td>6d1b7901-9635-4705-a7f5-050593c619dc</td>\n    </tr>\n    <tr>\n      <th>2</th>\n      <td>829875939</td>\n      <td>6d1b7901-9635-4705-a7f5-050593c619dc</td>\n      <td>None</td>\n      <td>2021-03-12 10:27:12</td>\n      <td>connected</td>\n      <td>4449938975</td>\n      <td>None</td>\n      <td>None</td>\n    </tr>\n    <tr>\n      <th>3</th>\n      <td>829096813</td>\n      <td>6d1b7901-9635-4705-a7f5-050593c619dc</td>\n      <td>None</td>\n      <td>2021-03-11 12:15:36</td>\n      <td>assigned</td>\n      <td>4444343020</td>\n      <td>6d1b7901-9635-4705-a7f5-050593c619dc</td>\n      <td>6d1b7901-9635-4705-a7f5-050593c619dc</td>\n    </tr>\n    <tr>\n      <th>4</th>\n      <td>829096813</td>\n      <td>6d1b7901-9635-4705-a7f5-050593c619dc</td>\n      <td>None</td>\n      <td>2021-03-12 08:25:21</td>\n      <td>closed</td>\n      <td>4449377674</td>\n      <td>None</td>\n      <td>None</td>\n    </tr>\n  </tbody>\n</table>\n</div>"
     },
     "metadata": {},
     "execution_count": 7
    }
   ],
   "source": [
    "issues_events = AggI.get_raw_issues(default_data_folder,AggI.ISSUES_EVENTS)\n",
    "issues_events.head(5)"
   ]
  },
  {
   "cell_type": "code",
   "execution_count": null,
   "metadata": {},
   "outputs": [],
   "source": []
  }
 ]
}