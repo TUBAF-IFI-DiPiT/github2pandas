{
 "metadata": {
  "language_info": {
   "codemirror_mode": {
    "name": "ipython",
    "version": 3
   },
   "file_extension": ".py",
   "mimetype": "text/x-python",
   "name": "python",
   "nbconvert_exporter": "python",
   "pygments_lexer": "ipython3",
   "version": "3.8.8"
  },
  "orig_nbformat": 2,
  "kernelspec": {
   "name": "python3",
   "display_name": "Python 3.8.8 64-bit ('github2pandas-w1NZGIDR': pipenv)",
   "metadata": {
    "interpreter": {
     "hash": "bbc2d1101b2d2c9ac52b4876cec9104522a8421c736dbc9409bbb551b79a98a4"
    }
   }
  }
 },
 "nbformat": 4,
 "nbformat_minor": 2,
 "cells": [
  {
   "source": [
    "# Test Issues Data Aggregation\n",
    "\n",
    "-----------------------------------------------------------------\n",
    "This example illustrates the aggregation of issue data using the github2pandas repository. Here, all issues are read out."
   ],
   "cell_type": "markdown",
   "metadata": {}
  },
  {
   "cell_type": "code",
   "execution_count": null,
   "metadata": {},
   "outputs": [],
   "source": [
    "from github2pandas.issues import Issues\n",
    "from github2pandas.utility import Utility\n",
    "from pathlib import Path"
   ]
  },
  {
   "source": [
    "## Basic Usage\n",
    "\n",
    "The most important input parameter is an Repository object from PyGitHub-Package."
   ],
   "cell_type": "markdown",
   "metadata": {}
  },
  {
   "cell_type": "code",
   "execution_count": null,
   "metadata": {},
   "outputs": [],
   "source": [
    "git_repo_name = \"Extract_Git_Activities\"\n",
    "git_repo_owner = \"TUBAF-IFI-DiPiT\"\n",
    "    \n",
    "default_data_folder = Path(\"data\", git_repo_name)\n",
    "\n",
    "import os\n",
    "github_token = os.environ['TOKEN']\n",
    "# If you do not include your Github Token in .env, its neccessary to integrate it here. \n",
    "# github_token = \"yourToken\"\n",
    "\n",
    "repo = Utility.get_repo(git_repo_owner, git_repo_name, github_token, default_data_folder)"
   ]
  },
  {
   "source": [
    "The code snipet generates a raw data set based on repo information."
   ],
   "cell_type": "markdown",
   "metadata": {}
  },
  {
   "cell_type": "code",
   "execution_count": null,
   "metadata": {},
   "outputs": [],
   "source": [
    "Issues.generate_issue_pandas_tables(repo, default_data_folder)"
   ]
  },
  {
   "cell_type": "code",
   "execution_count": null,
   "metadata": {},
   "outputs": [],
   "source": [
    "issues = Issues.get_issues(default_data_folder,Issues.ISSUES)\n",
    "issues.head(14)"
   ]
  },
  {
   "cell_type": "code",
   "execution_count": null,
   "metadata": {},
   "outputs": [],
   "source": [
    "issues_comments = Issues.get_issues(default_data_folder,Issues.ISSUES_COMMENTS)\n",
    "issues_comments.head(5)"
   ]
  },
  {
   "cell_type": "code",
   "execution_count": null,
   "metadata": {},
   "outputs": [],
   "source": [
    "issues_reactions = Issues.get_issues(default_data_folder,Issues.ISSUES_REACTIONS)\n",
    "issues_reactions.head(5)"
   ]
  },
  {
   "cell_type": "code",
   "execution_count": null,
   "metadata": {},
   "outputs": [],
   "source": [
    "issues_events = Issues.get_issues(default_data_folder,Issues.ISSUES_EVENTS)\n",
    "issues_events.head(5)"
   ]
  },
  {
   "cell_type": "code",
   "execution_count": null,
   "metadata": {},
   "outputs": [],
   "source": []
  }
 ]
}